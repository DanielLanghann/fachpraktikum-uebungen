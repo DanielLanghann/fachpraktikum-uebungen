{
 "cells": [
  {
   "cell_type": "markdown",
   "metadata": {},
   "source": [
    "# Einsendeaufgabe 3: Numba (100 Punkte)\n",
    "\n",
    "In diesem Abschnitt möchten wir unsere Applikationen mit Numba beschleunigen.\n",
    "\n",
    "## Mandelbrot-Set (10 Punkte)\n",
    "\n",
    "Wir beginnen mit einem klassischen Beispiel für Parallelisierung: dem Mandelbrot-Set.\n",
    "\n",
    "Die Mandelbrot-Menge wird durch die Gleichung $z_{n+1} = z_n^2 + c$ beschrieben. In dieser Gleichung sind $c$ und $z$ komplexe Zahlen, und $n$ ist Null oder eine positive ganze Zahl. Ausgehend von $z_0=0$, gehört $c$ zur Mandelbrot-Menge, wenn der Absolutwert von $z_n$ niemals größer als eine bestimmte Zahl wird (diese Zahl ist abhängig von $c$), egal wie groß $n$ wird.\n",
    "\n",
    "Das bedeutet, eine komplexe Zahl $c$ ist ein Element der Mandelbrotmenge, wenn die Beträge der mit diesem $c$ berechneten $z_{n}$ nicht unbegrenzt wachsen, unabhängig davon, wie groß $n$ wird. Es lässt sich leicht zeigen, dass der Betrag von $z_{n}$ unbegrenzt wächst, sobald ein $z_{n}$ mit $|z_{n}|>2$ auftritt.\n",
    "\n",
    "Bei der Berechnung des Mandelbrot-Sets legt man oft eine obere Grenze für die maximalen Iterationen fest, um zu testen, ob diese überschritten wird.\n",
    "\n",
    "Ein einfacher Algorithmus zur Bestimmung, ob ein Wert zum Mandelbrot-Set gehört, sieht folgendermaßen aus:"
   ]
  },
  {
   "cell_type": "code",
   "execution_count": 4,
   "metadata": {},
   "outputs": [
    {
     "data": {
      "text/plain": [
       "400"
      ]
     },
     "execution_count": 4,
     "metadata": {},
     "output_type": "execute_result"
    }
   ],
   "source": [
    "import numba\n",
    "import numpy as np\n",
    "\n",
    "\n",
    "def escape_time(p, maxiter):\n",
    "    \"\"\"Perform the Mandelbrot iteration until it's clear that p diverges\n",
    "    or the maximum number of iterations has been reached.\n",
    "\n",
    "    Parameters\n",
    "    ----------\n",
    "    p: complex\n",
    "        point in the complex plane\n",
    "    maxiter: int\n",
    "        maximum number of iterations to perform before p is considered in\n",
    "        the Mandelbrot set.\n",
    "    \"\"\"\n",
    "    z = np.zeros_like(p, dtype=np.complex128)\n",
    "    for i in range(maxiter):\n",
    "        z = z**2 + p\n",
    "        abs_z = np.abs(z)\n",
    "        if np.any(abs_z > 2):\n",
    "            return i\n",
    "    return maxiter\n",
    "\n",
    "\n",
    "a = np.array([0.2 + 0.2j])\n",
    "escape_time(a, 400)"
   ]
  },
  {
   "cell_type": "markdown",
   "metadata": {},
   "source": [
    "Die Zahl $0.2+0.2j$ liegt also in der Mandelbrot Menge, da wir nach 400 Iterationen noch nicht die Abbruchbedingung erfüllen.  Allerdings ist es mühsam, jede Zahl einzeln zu testen. Wir erstellen also ein 2-D Feld mit vielen Komplexen Zahlen $|z|<2$: "
   ]
  },
  {
   "cell_type": "code",
   "execution_count": 2,
   "metadata": {},
   "outputs": [],
   "source": [
    "real_param = (-1.5, 1.1, 1500)\n",
    "imag_param = (-1.5j, 1.1j, 1500)\n",
    "XX, YY = np.meshgrid(np.linspace(*real_param), np.linspace(*imag_param))\n",
    "P = XX + YY"
   ]
  },
  {
   "cell_type": "markdown",
   "metadata": {
    "deletable": false,
    "editable": false
   },
   "source": [
    "<!-- BEGIN QUESTION -->\n",
    "\n",
    "**Aufgabe:**  \n",
    "- Vektorisieren Sie die Funktion mit `np.vectorize`\n",
    "- Vektorisieren Sie die Funktion mit `numba.vectorize`\n",
    "- Testen Sie, ob der Parallel-Parameter funktioniert und ob er Performance-Vorteile bringt\n",
    "- Vergleichen Sie die Laufzeit der drei Versionen und stellen Sie den Vergleich graphisch dar\n",
    "\n",
    "_Points:_ 7"
   ]
  },
  {
   "cell_type": "code",
   "execution_count": 7,
   "metadata": {
    "nbgrader": {
     "grade": false,
     "grade_id": "cell-a9c8fa600a8421a5",
     "locked": false,
     "schema_version": 3,
     "solution": true,
     "task": false
    },
    "tags": []
   },
   "outputs": [],
   "source": [
    "import matplotlib.pyplot as plt\n",
    "import time\n",
    "\n",
    "maxiter = 200\n",
    "start_time = time.time()\n",
    "\n",
    "mandelbrot_set_np_vectorized = escape_time(P, maxiter)\n",
    "np_vectorized_time = time.time() - start_time\n",
    "\n",
    "start_time = time.time()\n",
    "mandelbrot_set_numba_vectorized = escape_time(P, maxiter)\n",
    "numba_vectorized_time = time.time() - start_time\n",
    "\n",
    "start_time = time.time()\n",
    "mandelbrot_set_numba_vectorized_par = escape_time(P, maxiter)\n",
    "numba_vectorized_par_time = time.time() - start_time"
   ]
  },
  {
   "cell_type": "code",
   "execution_count": null,
   "metadata": {
    "nbgrader": {
     "grade": false,
     "grade_id": "cell-908dc151dd878268",
     "locked": false,
     "schema_version": 3,
     "solution": true,
     "task": false
    },
    "tags": []
   },
   "outputs": [],
   "source": [
    "#maxiter = 200\n",
    "..."
   ]
  },
  {
   "cell_type": "markdown",
   "metadata": {
    "deletable": false,
    "editable": false
   },
   "source": [
    "<!-- END QUESTION -->\n",
    "\n",
    "Mit *plt.imshow(M)* können Sie sich die Mandelbrotmenge $M$ ansehen: "
   ]
  },
  {
   "cell_type": "code",
   "execution_count": 8,
   "metadata": {},
   "outputs": [
    {
     "ename": "TypeError",
     "evalue": "Invalid shape () for image data",
     "output_type": "error",
     "traceback": [
      "\u001b[0;31m---------------------------------------------------------------------------\u001b[0m",
      "\u001b[0;31mTypeError\u001b[0m                                 Traceback (most recent call last)",
      "Cell \u001b[0;32mIn[8], line 2\u001b[0m\n\u001b[1;32m      1\u001b[0m M \u001b[38;5;241m=\u001b[39m mandelbrot_set_numba_vectorized_par\u001b[38;5;66;03m#(P, maxiter)\u001b[39;00m\n\u001b[0;32m----> 2\u001b[0m \u001b[43mplt\u001b[49m\u001b[38;5;241;43m.\u001b[39;49m\u001b[43mimshow\u001b[49m\u001b[43m(\u001b[49m\u001b[43mM\u001b[49m\u001b[43m)\u001b[49m\n",
      "File \u001b[0;32m/usr/local/lib/python3.11/site-packages/matplotlib/pyplot.py:3476\u001b[0m, in \u001b[0;36mimshow\u001b[0;34m(X, cmap, norm, aspect, interpolation, alpha, vmin, vmax, origin, extent, interpolation_stage, filternorm, filterrad, resample, url, data, **kwargs)\u001b[0m\n\u001b[1;32m   3455\u001b[0m \u001b[38;5;129m@_copy_docstring_and_deprecators\u001b[39m(Axes\u001b[38;5;241m.\u001b[39mimshow)\n\u001b[1;32m   3456\u001b[0m \u001b[38;5;28;01mdef\u001b[39;00m \u001b[38;5;21mimshow\u001b[39m(\n\u001b[1;32m   3457\u001b[0m     X: ArrayLike \u001b[38;5;241m|\u001b[39m PIL\u001b[38;5;241m.\u001b[39mImage\u001b[38;5;241m.\u001b[39mImage,\n\u001b[0;32m   (...)\u001b[0m\n\u001b[1;32m   3474\u001b[0m     \u001b[38;5;241m*\u001b[39m\u001b[38;5;241m*\u001b[39mkwargs,\n\u001b[1;32m   3475\u001b[0m ) \u001b[38;5;241m-\u001b[39m\u001b[38;5;241m>\u001b[39m AxesImage:\n\u001b[0;32m-> 3476\u001b[0m     __ret \u001b[38;5;241m=\u001b[39m \u001b[43mgca\u001b[49m\u001b[43m(\u001b[49m\u001b[43m)\u001b[49m\u001b[38;5;241;43m.\u001b[39;49m\u001b[43mimshow\u001b[49m\u001b[43m(\u001b[49m\n\u001b[1;32m   3477\u001b[0m \u001b[43m        \u001b[49m\u001b[43mX\u001b[49m\u001b[43m,\u001b[49m\n\u001b[1;32m   3478\u001b[0m \u001b[43m        \u001b[49m\u001b[43mcmap\u001b[49m\u001b[38;5;241;43m=\u001b[39;49m\u001b[43mcmap\u001b[49m\u001b[43m,\u001b[49m\n\u001b[1;32m   3479\u001b[0m \u001b[43m        \u001b[49m\u001b[43mnorm\u001b[49m\u001b[38;5;241;43m=\u001b[39;49m\u001b[43mnorm\u001b[49m\u001b[43m,\u001b[49m\n\u001b[1;32m   3480\u001b[0m \u001b[43m        \u001b[49m\u001b[43maspect\u001b[49m\u001b[38;5;241;43m=\u001b[39;49m\u001b[43maspect\u001b[49m\u001b[43m,\u001b[49m\n\u001b[1;32m   3481\u001b[0m \u001b[43m        \u001b[49m\u001b[43minterpolation\u001b[49m\u001b[38;5;241;43m=\u001b[39;49m\u001b[43minterpolation\u001b[49m\u001b[43m,\u001b[49m\n\u001b[1;32m   3482\u001b[0m \u001b[43m        \u001b[49m\u001b[43malpha\u001b[49m\u001b[38;5;241;43m=\u001b[39;49m\u001b[43malpha\u001b[49m\u001b[43m,\u001b[49m\n\u001b[1;32m   3483\u001b[0m \u001b[43m        \u001b[49m\u001b[43mvmin\u001b[49m\u001b[38;5;241;43m=\u001b[39;49m\u001b[43mvmin\u001b[49m\u001b[43m,\u001b[49m\n\u001b[1;32m   3484\u001b[0m \u001b[43m        \u001b[49m\u001b[43mvmax\u001b[49m\u001b[38;5;241;43m=\u001b[39;49m\u001b[43mvmax\u001b[49m\u001b[43m,\u001b[49m\n\u001b[1;32m   3485\u001b[0m \u001b[43m        \u001b[49m\u001b[43morigin\u001b[49m\u001b[38;5;241;43m=\u001b[39;49m\u001b[43morigin\u001b[49m\u001b[43m,\u001b[49m\n\u001b[1;32m   3486\u001b[0m \u001b[43m        \u001b[49m\u001b[43mextent\u001b[49m\u001b[38;5;241;43m=\u001b[39;49m\u001b[43mextent\u001b[49m\u001b[43m,\u001b[49m\n\u001b[1;32m   3487\u001b[0m \u001b[43m        \u001b[49m\u001b[43minterpolation_stage\u001b[49m\u001b[38;5;241;43m=\u001b[39;49m\u001b[43minterpolation_stage\u001b[49m\u001b[43m,\u001b[49m\n\u001b[1;32m   3488\u001b[0m \u001b[43m        \u001b[49m\u001b[43mfilternorm\u001b[49m\u001b[38;5;241;43m=\u001b[39;49m\u001b[43mfilternorm\u001b[49m\u001b[43m,\u001b[49m\n\u001b[1;32m   3489\u001b[0m \u001b[43m        \u001b[49m\u001b[43mfilterrad\u001b[49m\u001b[38;5;241;43m=\u001b[39;49m\u001b[43mfilterrad\u001b[49m\u001b[43m,\u001b[49m\n\u001b[1;32m   3490\u001b[0m \u001b[43m        \u001b[49m\u001b[43mresample\u001b[49m\u001b[38;5;241;43m=\u001b[39;49m\u001b[43mresample\u001b[49m\u001b[43m,\u001b[49m\n\u001b[1;32m   3491\u001b[0m \u001b[43m        \u001b[49m\u001b[43murl\u001b[49m\u001b[38;5;241;43m=\u001b[39;49m\u001b[43murl\u001b[49m\u001b[43m,\u001b[49m\n\u001b[1;32m   3492\u001b[0m \u001b[43m        \u001b[49m\u001b[38;5;241;43m*\u001b[39;49m\u001b[38;5;241;43m*\u001b[39;49m\u001b[43m(\u001b[49m\u001b[43m{\u001b[49m\u001b[38;5;124;43m\"\u001b[39;49m\u001b[38;5;124;43mdata\u001b[39;49m\u001b[38;5;124;43m\"\u001b[39;49m\u001b[43m:\u001b[49m\u001b[43m \u001b[49m\u001b[43mdata\u001b[49m\u001b[43m}\u001b[49m\u001b[43m \u001b[49m\u001b[38;5;28;43;01mif\u001b[39;49;00m\u001b[43m \u001b[49m\u001b[43mdata\u001b[49m\u001b[43m \u001b[49m\u001b[38;5;129;43;01mis\u001b[39;49;00m\u001b[43m \u001b[49m\u001b[38;5;129;43;01mnot\u001b[39;49;00m\u001b[43m \u001b[49m\u001b[38;5;28;43;01mNone\u001b[39;49;00m\u001b[43m \u001b[49m\u001b[38;5;28;43;01melse\u001b[39;49;00m\u001b[43m \u001b[49m\u001b[43m{\u001b[49m\u001b[43m}\u001b[49m\u001b[43m)\u001b[49m\u001b[43m,\u001b[49m\n\u001b[1;32m   3493\u001b[0m \u001b[43m        \u001b[49m\u001b[38;5;241;43m*\u001b[39;49m\u001b[38;5;241;43m*\u001b[39;49m\u001b[43mkwargs\u001b[49m\u001b[43m,\u001b[49m\n\u001b[1;32m   3494\u001b[0m \u001b[43m    \u001b[49m\u001b[43m)\u001b[49m\n\u001b[1;32m   3495\u001b[0m     sci(__ret)\n\u001b[1;32m   3496\u001b[0m     \u001b[38;5;28;01mreturn\u001b[39;00m __ret\n",
      "File \u001b[0;32m/usr/local/lib/python3.11/site-packages/matplotlib/__init__.py:1473\u001b[0m, in \u001b[0;36m_preprocess_data.<locals>.inner\u001b[0;34m(ax, data, *args, **kwargs)\u001b[0m\n\u001b[1;32m   1470\u001b[0m \u001b[38;5;129m@functools\u001b[39m\u001b[38;5;241m.\u001b[39mwraps(func)\n\u001b[1;32m   1471\u001b[0m \u001b[38;5;28;01mdef\u001b[39;00m \u001b[38;5;21minner\u001b[39m(ax, \u001b[38;5;241m*\u001b[39margs, data\u001b[38;5;241m=\u001b[39m\u001b[38;5;28;01mNone\u001b[39;00m, \u001b[38;5;241m*\u001b[39m\u001b[38;5;241m*\u001b[39mkwargs):\n\u001b[1;32m   1472\u001b[0m     \u001b[38;5;28;01mif\u001b[39;00m data \u001b[38;5;129;01mis\u001b[39;00m \u001b[38;5;28;01mNone\u001b[39;00m:\n\u001b[0;32m-> 1473\u001b[0m         \u001b[38;5;28;01mreturn\u001b[39;00m \u001b[43mfunc\u001b[49m\u001b[43m(\u001b[49m\n\u001b[1;32m   1474\u001b[0m \u001b[43m            \u001b[49m\u001b[43max\u001b[49m\u001b[43m,\u001b[49m\n\u001b[1;32m   1475\u001b[0m \u001b[43m            \u001b[49m\u001b[38;5;241;43m*\u001b[39;49m\u001b[38;5;28;43mmap\u001b[39;49m\u001b[43m(\u001b[49m\u001b[43msanitize_sequence\u001b[49m\u001b[43m,\u001b[49m\u001b[43m \u001b[49m\u001b[43margs\u001b[49m\u001b[43m)\u001b[49m\u001b[43m,\u001b[49m\n\u001b[1;32m   1476\u001b[0m \u001b[43m            \u001b[49m\u001b[38;5;241;43m*\u001b[39;49m\u001b[38;5;241;43m*\u001b[39;49m\u001b[43m{\u001b[49m\u001b[43mk\u001b[49m\u001b[43m:\u001b[49m\u001b[43m \u001b[49m\u001b[43msanitize_sequence\u001b[49m\u001b[43m(\u001b[49m\u001b[43mv\u001b[49m\u001b[43m)\u001b[49m\u001b[43m \u001b[49m\u001b[38;5;28;43;01mfor\u001b[39;49;00m\u001b[43m \u001b[49m\u001b[43mk\u001b[49m\u001b[43m,\u001b[49m\u001b[43m \u001b[49m\u001b[43mv\u001b[49m\u001b[43m \u001b[49m\u001b[38;5;129;43;01min\u001b[39;49;00m\u001b[43m \u001b[49m\u001b[43mkwargs\u001b[49m\u001b[38;5;241;43m.\u001b[39;49m\u001b[43mitems\u001b[49m\u001b[43m(\u001b[49m\u001b[43m)\u001b[49m\u001b[43m}\u001b[49m\u001b[43m)\u001b[49m\n\u001b[1;32m   1478\u001b[0m     bound \u001b[38;5;241m=\u001b[39m new_sig\u001b[38;5;241m.\u001b[39mbind(ax, \u001b[38;5;241m*\u001b[39margs, \u001b[38;5;241m*\u001b[39m\u001b[38;5;241m*\u001b[39mkwargs)\n\u001b[1;32m   1479\u001b[0m     auto_label \u001b[38;5;241m=\u001b[39m (bound\u001b[38;5;241m.\u001b[39marguments\u001b[38;5;241m.\u001b[39mget(label_namer)\n\u001b[1;32m   1480\u001b[0m                   \u001b[38;5;129;01mor\u001b[39;00m bound\u001b[38;5;241m.\u001b[39mkwargs\u001b[38;5;241m.\u001b[39mget(label_namer))\n",
      "File \u001b[0;32m/usr/local/lib/python3.11/site-packages/matplotlib/axes/_axes.py:5895\u001b[0m, in \u001b[0;36mAxes.imshow\u001b[0;34m(self, X, cmap, norm, aspect, interpolation, alpha, vmin, vmax, origin, extent, interpolation_stage, filternorm, filterrad, resample, url, **kwargs)\u001b[0m\n\u001b[1;32m   5892\u001b[0m \u001b[38;5;28;01mif\u001b[39;00m aspect \u001b[38;5;129;01mis\u001b[39;00m \u001b[38;5;129;01mnot\u001b[39;00m \u001b[38;5;28;01mNone\u001b[39;00m:\n\u001b[1;32m   5893\u001b[0m     \u001b[38;5;28mself\u001b[39m\u001b[38;5;241m.\u001b[39mset_aspect(aspect)\n\u001b[0;32m-> 5895\u001b[0m \u001b[43mim\u001b[49m\u001b[38;5;241;43m.\u001b[39;49m\u001b[43mset_data\u001b[49m\u001b[43m(\u001b[49m\u001b[43mX\u001b[49m\u001b[43m)\u001b[49m\n\u001b[1;32m   5896\u001b[0m im\u001b[38;5;241m.\u001b[39mset_alpha(alpha)\n\u001b[1;32m   5897\u001b[0m \u001b[38;5;28;01mif\u001b[39;00m im\u001b[38;5;241m.\u001b[39mget_clip_path() \u001b[38;5;129;01mis\u001b[39;00m \u001b[38;5;28;01mNone\u001b[39;00m:\n\u001b[1;32m   5898\u001b[0m     \u001b[38;5;66;03m# image does not already have clipping set, clip to Axes patch\u001b[39;00m\n",
      "File \u001b[0;32m/usr/local/lib/python3.11/site-packages/matplotlib/image.py:729\u001b[0m, in \u001b[0;36m_ImageBase.set_data\u001b[0;34m(self, A)\u001b[0m\n\u001b[1;32m    727\u001b[0m \u001b[38;5;28;01mif\u001b[39;00m \u001b[38;5;28misinstance\u001b[39m(A, PIL\u001b[38;5;241m.\u001b[39mImage\u001b[38;5;241m.\u001b[39mImage):\n\u001b[1;32m    728\u001b[0m     A \u001b[38;5;241m=\u001b[39m pil_to_array(A)  \u001b[38;5;66;03m# Needed e.g. to apply png palette.\u001b[39;00m\n\u001b[0;32m--> 729\u001b[0m \u001b[38;5;28mself\u001b[39m\u001b[38;5;241m.\u001b[39m_A \u001b[38;5;241m=\u001b[39m \u001b[38;5;28;43mself\u001b[39;49m\u001b[38;5;241;43m.\u001b[39;49m\u001b[43m_normalize_image_array\u001b[49m\u001b[43m(\u001b[49m\u001b[43mA\u001b[49m\u001b[43m)\u001b[49m\n\u001b[1;32m    730\u001b[0m \u001b[38;5;28mself\u001b[39m\u001b[38;5;241m.\u001b[39m_imcache \u001b[38;5;241m=\u001b[39m \u001b[38;5;28;01mNone\u001b[39;00m\n\u001b[1;32m    731\u001b[0m \u001b[38;5;28mself\u001b[39m\u001b[38;5;241m.\u001b[39mstale \u001b[38;5;241m=\u001b[39m \u001b[38;5;28;01mTrue\u001b[39;00m\n",
      "File \u001b[0;32m/usr/local/lib/python3.11/site-packages/matplotlib/image.py:697\u001b[0m, in \u001b[0;36m_ImageBase._normalize_image_array\u001b[0;34m(A)\u001b[0m\n\u001b[1;32m    695\u001b[0m     A \u001b[38;5;241m=\u001b[39m A\u001b[38;5;241m.\u001b[39msqueeze(\u001b[38;5;241m-\u001b[39m\u001b[38;5;241m1\u001b[39m)  \u001b[38;5;66;03m# If just (M, N, 1), assume scalar and apply colormap.\u001b[39;00m\n\u001b[1;32m    696\u001b[0m \u001b[38;5;28;01mif\u001b[39;00m \u001b[38;5;129;01mnot\u001b[39;00m (A\u001b[38;5;241m.\u001b[39mndim \u001b[38;5;241m==\u001b[39m \u001b[38;5;241m2\u001b[39m \u001b[38;5;129;01mor\u001b[39;00m A\u001b[38;5;241m.\u001b[39mndim \u001b[38;5;241m==\u001b[39m \u001b[38;5;241m3\u001b[39m \u001b[38;5;129;01mand\u001b[39;00m A\u001b[38;5;241m.\u001b[39mshape[\u001b[38;5;241m-\u001b[39m\u001b[38;5;241m1\u001b[39m] \u001b[38;5;129;01min\u001b[39;00m [\u001b[38;5;241m3\u001b[39m, \u001b[38;5;241m4\u001b[39m]):\n\u001b[0;32m--> 697\u001b[0m     \u001b[38;5;28;01mraise\u001b[39;00m \u001b[38;5;167;01mTypeError\u001b[39;00m(\u001b[38;5;124mf\u001b[39m\u001b[38;5;124m\"\u001b[39m\u001b[38;5;124mInvalid shape \u001b[39m\u001b[38;5;132;01m{\u001b[39;00mA\u001b[38;5;241m.\u001b[39mshape\u001b[38;5;132;01m}\u001b[39;00m\u001b[38;5;124m for image data\u001b[39m\u001b[38;5;124m\"\u001b[39m)\n\u001b[1;32m    698\u001b[0m \u001b[38;5;28;01mif\u001b[39;00m A\u001b[38;5;241m.\u001b[39mndim \u001b[38;5;241m==\u001b[39m \u001b[38;5;241m3\u001b[39m:\n\u001b[1;32m    699\u001b[0m     \u001b[38;5;66;03m# If the input data has values outside the valid range (after\u001b[39;00m\n\u001b[1;32m    700\u001b[0m     \u001b[38;5;66;03m# normalisation), we issue a warning and then clip X to the bounds\u001b[39;00m\n\u001b[1;32m    701\u001b[0m     \u001b[38;5;66;03m# - otherwise casting wraps extreme values, hiding outliers and\u001b[39;00m\n\u001b[1;32m    702\u001b[0m     \u001b[38;5;66;03m# making reliable interpretation impossible.\u001b[39;00m\n\u001b[1;32m    703\u001b[0m     high \u001b[38;5;241m=\u001b[39m \u001b[38;5;241m255\u001b[39m \u001b[38;5;28;01mif\u001b[39;00m np\u001b[38;5;241m.\u001b[39missubdtype(A\u001b[38;5;241m.\u001b[39mdtype, np\u001b[38;5;241m.\u001b[39minteger) \u001b[38;5;28;01melse\u001b[39;00m \u001b[38;5;241m1\u001b[39m\n",
      "\u001b[0;31mTypeError\u001b[0m: Invalid shape () for image data"
     ]
    },
    {
     "data": {
      "image/png": "[encoded data removed]",
      "text/plain": [
       "<Figure size 640x480 with 1 Axes>"
      ]
     },
     "metadata": {},
     "output_type": "display_data"
    }
   ],
   "source": [
    "M = mandelbrot_set_numba_vectorized_par#(P, maxiter)\n",
    "plt.imshow(M)"
   ]
  },
  {
   "cell_type": "markdown",
   "metadata": {
    "deletable": false,
    "editable": false
   },
   "source": [
    "<!-- BEGIN QUESTION -->\n",
    "\n",
    "**Aufgabe:** Vergleichen Sie nun die drei Versionen mit Scalene. Verwenden sie eine Sampling-Rate von $0.0001$\n",
    "\n",
    "_Points:_ 3"
   ]
  },
  {
   "cell_type": "code",
   "execution_count": null,
   "metadata": {
    "deletable": false,
    "editable": false
   },
   "outputs": [],
   "source": [
    "%load_ext scalene"
   ]
  },
  {
   "cell_type": "code",
   "execution_count": null,
   "metadata": {
    "tags": []
   },
   "outputs": [],
   "source": [
    "%%scalene --cpu-sampling-rate 0.0001\n",
    "..."
   ]
  },
  {
   "cell_type": "markdown",
   "metadata": {
    "deletable": false,
    "editable": false
   },
   "source": [
    "<!-- END QUESTION -->\n",
    "\n",
    "## Springende Bälle, Teil 2 (60 Punkte)\n",
    "Wir wollen die Simulation mit mehreren Bällen verbessern und optimieren. \n",
    "\n",
    "Jetzt werden zusätzlich Kollisionen zwischen den Bällen beachtet.\n",
    "Dafür wollen wir zunächst berechnen, ob die Bälle in einem Zeitschritt kollidieren. Eine genaue Berechnung ist hier sehr schwer, daher können wir dies nur näherungsweise machen. Wir müssen dazu auch folgende Annahmen machen:\n",
    "\n",
    "1. Die Bälle haben einen Radius von $r$, alle Bälle sind gleich groß \n",
    "2. Der Zeitschritt $\\Delta t$ und die Geschwindigkeit $\\$v$ der Bälle sind so gewählt, dass ein Ball maximal viermal seinen Radius in einem Zeitschritt zurücklegt, also $v*\\Delta t <= 4*r$\n",
    "\n",
    "\n",
    "Wir berechnen nun in jeden Zeitschritt zunächst 3 zusätzliche Zwischenzeitschritte:\n",
    "\n",
    "$ c_0 = c_0$\n",
    "\n",
    "$c_1 = c_0+0.25\\Delta t *v$\n",
    "\n",
    "$c_3 = c_0+0.5\\Delta t *v$\n",
    "\n",
    "$c_4 = c_0+0.75\\Delta t * v$\n",
    "\n",
    "(Der nächste Schritt wäre $\\Delta t$, dieser wird aber in der nächsten Iteration beachtet.)\n",
    "\n",
    "\n",
    "Wir betrachten nun jeweils für 2 Bälle, ob sie sich in einem der Zwischenzeitschritte näher als zweimal dem Radius $r$ kommen. Wenn sie das tun, gibt es eine Kollision."
   ]
  },
  {
   "cell_type": "markdown",
   "metadata": {
    "deletable": false,
    "editable": false
   },
   "source": [
    "<!-- BEGIN QUESTION -->\n",
    "\n",
    "**Aufgabe:** Schreiben Sie eine Funktion, die dies für zwei Bälle testet und zunächst `True` oder `False` zurück gibt. Für die Berechnung des Abstands können sie die Funktion `np.linalg.norm` verwenden.\n",
    "\n",
    "_Points:_ 10"
   ]
  },
  {
   "cell_type": "code",
   "execution_count": null,
   "metadata": {
    "tags": []
   },
   "outputs": [],
   "source": [
    "def will_collide(c1, v1, c2, v2, r, dt):\n",
    "    ..."
   ]
  },
  {
   "cell_type": "markdown",
   "metadata": {
    "deletable": false,
    "editable": false
   },
   "source": [
    "<!-- END QUESTION -->\n",
    "\n",
    "Um die Geschwindigkeiten der Bälle nach einer Kollision zu berechnen, können wir die Erhaltung des Impulses und die Erhaltung der kinetischen Energie heranziehen, unter der Annahme, dass es sich um eine vollkommen elastische Kollision handelt. Bei einer solchen Kollision bleiben sowohl der Gesamtimpuls als auch die gesamte kinetische Energie des Systems erhalten. Die Berechnungen werden allerdings etwas komplexer, wenn wir Richtungen berücksichtigen.\n",
    "\n",
    "#### Geschwindigkeiten nach der Kollision\n",
    "\n",
    "Für zwei Bälle mit Massen $m_1$ und $m_2$, den Anfangsgeschwindigkeiten $v_1$ und $v_2$ und den Endgeschwindigkeiten $v_1'$ und $v_2'$ gelten folgende Gleichungen basierend auf dem Impulserhaltungssatz und der Erhaltung der kinetischen Energie:\n",
    "\n",
    "1. **Impulserhaltung:**\n",
    "   $m_1 v_1 + m_2 v_2 = m_1 v_1' + m_2 v_2'$\n",
    "\n",
    "2. **Erhaltung der kinetischen Energie:**\n",
    "   $\\frac{1}{2} m_1 v_1^2 + \\frac{1}{2} m_2 v_2^2 = \\frac{1}{2} m_1 {v_1'}^2 + \\frac{1}{2} m_2 {v_2'}^2$\n",
    "\n",
    "Diese Gleichungen müssen vektoriell gelöst werden, da die Geschwindigkeiten Richtungen haben.\n",
    "\n",
    "Die Lösungen für die Geschwindigkeiten nach der Kollision in zwei Dimensionen unter der Annahme einer vollkommen elastischen Kollision und unter Ignorierung der Rotation der Bälle sind:\n",
    "\n",
    "$v_1' = v_1 - \\frac{2 m_2}{m_1 + m_2} \\frac{(v_1 - v_2) \\cdot (c_1 - c_2)}{\\|c_1 - c_2\\|^2} (c_1 - c_2)$\n",
    "\n",
    "$v_2' = v_2 + \\frac{2 m_1}{m_1 + m_2} \\frac{(v_1 - v_2) \\cdot (c_1 - c_2)}{\\|c_1 - c_2\\|^2} (c_1 - c_2)$\n",
    "\n",
    "Hierbei ist $(v_1 - v_2) \\cdot (c_1 - c_2)$ das Skalarprodukt der Vektoren $v_1 - v_2$ und $c_1 - c_2$, und $\\|c_1 - c_2\\|$ ist der Betrag des Vektors $(c_1 - c_2)$, welcher den Abstand zwischen den Zentren der Bälle darstellt.\n"
   ]
  },
  {
   "cell_type": "markdown",
   "metadata": {
    "deletable": false,
    "editable": false
   },
   "source": [
    "<!-- BEGIN QUESTION -->\n",
    "\n",
    "**Aufgabe:** Schreiben Sie eine Funktion, welche die neuen Geschwindigkeiten der Bälle NACH einer Kollision berechnet.  \n",
    "Sie übergeben der Funktion die folgenden Daten.\n",
    "- Koordinaten ($c_1, c_2$)\n",
    "- Geschwindigkeiten ($v_1, v_2$)\n",
    "- Massen ($m_1, m_2$)\n",
    "\n",
    "Für die Berechnung des Betrags können Sie wiederum die Funktion `np.linalg.norm` verwenden.\n",
    "\n",
    "_Points:_ 10"
   ]
  },
  {
   "cell_type": "code",
   "execution_count": null,
   "metadata": {
    "scrolled": true,
    "tags": []
   },
   "outputs": [],
   "source": [
    "def collision(c1, c2, v1, v2, m1, m2):\n",
    "    \"\"\"Elastischer Stoß zwischen den Bällen 1 und 2.\"\"\"\n",
    "    ...\n",
    "    return v1_new, v2_new\n",
    "\n",
    "\n",
    "def test_collision(case):\n",
    "    # Online simulator\n",
    "    # https://phet.colorado.edu/sims/html/collision-lab/latest/collision-lab_all.html\n",
    "    if case == \"x\":\n",
    "        c1 = np.array([1, 1])\n",
    "        c2 = np.array([2, 1])\n",
    "        v1 = np.array([1, 0])\n",
    "        v2 = np.array([-1, 0])\n",
    "    if case == \"y\":\n",
    "        c1 = np.array([1, 1])\n",
    "        c2 = np.array([1, 2])\n",
    "        v1 = np.array([0, 1])\n",
    "        v2 = np.array([0, -1])\n",
    "    if case == \"diagonal\":\n",
    "        c1 = np.array([1, 1])\n",
    "        c2 = np.array([2, 2])\n",
    "        v1 = np.array([1, 1])\n",
    "        v2 = np.array([0, 0])\n",
    "    if case == \"custom\":\n",
    "        c1 = np.array([1, 1])\n",
    "        c2 = np.array([2, 3])\n",
    "        v1 = np.array([1, 1])\n",
    "        v2 = np.array([0, -1])\n",
    "    v1_new, v2_new = collision(c1, c2, v1, v2, 1, 1)\n",
    "    assert np.allclose(np.abs(v2 - v1), np.abs(v2_new - v1_new))\n",
    "    print(f\"{v1=}, {v2=}, {v1_new=}, {v2_new=}\")\n",
    "\n",
    "    # different mass\n",
    "    v1_new, v2_new = collision(c1, c2, v1, v2, 1, 20)\n",
    "    assert np.allclose(np.abs(v2 - v1), np.abs(v2_new - v1_new))\n",
    "    print(f\"{v1=}, {v2=}, {v1_new=}, {v2_new=}\")\n",
    "\n",
    "\n",
    "test_collision(case=\"x\")\n",
    "test_collision(case=\"y\")\n",
    "test_collision(case=\"diagonal\")\n",
    "test_collision(case=\"custom\")"
   ]
  },
  {
   "cell_type": "markdown",
   "metadata": {
    "deletable": false,
    "editable": false
   },
   "source": [
    "<!-- END QUESTION -->\n",
    "\n",
    "<!-- BEGIN QUESTION -->\n",
    "\n",
    "**Aufgabe:** Nun wollen wir eine Funktion implementieren, die alle möglichen Kollisionen in einem Zeitschritt erfasst und die neuen Geschwindigkeiten der Bälle berechnet – und zwar möglichst effizient. \n",
    "\n",
    "Dafür sollten Sie die folgenden Dinge beachten:\n",
    "1. Es macht nicht für alle Ballpaare sinnvoll alle vier Zwischenzeitschritte zu berechnen. Testen Sie daher zunächst, ob sich zwei Bälle bereits näher als $ 8 \\cdot r $ sind.\n",
    "2. Sie können annehmen, dass sich der Ball bis zum Zwischenschritt, in dem die Kollision berechnet wird, mit der alten Geschwindigkeit bewegt, danach mit der neuen. Implementieren Sie dies entsprechend. Achten Sie auch darauf, dass ein Ball, für den eine Kollision berechnet wurde, im selben Zeitschritt keine vollständige Bewegung für $ \\Delta t $ mehr macht.\n",
    "3. Es kann leicht passieren, dass zwei Bälle, die in einem Zeitschritt kollidieren, es nicht schaffen, sich während des Zeitschritts weit genug aufeinander zu bewegen, sodass sie im folgenden Zeitschritt wieder miteinander kollidieren. Das kann dann dazu führen, dass die Bälle sich umkreisen. Um das zu verhindern, verwenden wir eine Maske (`mask`), die dafür sorgt, dass zwei Bälle nicht in zwei (oder mehr) aufeinanderfolgenden Zeitschritten miteinander kollidieren können.\n",
    "\n",
    "Anmerkung: Die Situation, dass mehrere Bälle gleichzeitig, in einem Zeitschritt kollidieren, kann hier vereinfacht ignoriert werden.\n",
    "\n",
    "_Points:_ 10"
   ]
  },
  {
   "cell_type": "code",
   "execution_count": null,
   "metadata": {
    "tags": []
   },
   "outputs": [],
   "source": [
    "def get_all_collisions(c, v, m, r, dt, mask):\n",
    "    ..."
   ]
  },
  {
   "cell_type": "code",
   "execution_count": null,
   "metadata": {
    "nbgrader": {
     "grade": false,
     "grade_id": "cell-dc2022a0f9e20ef2",
     "locked": false,
     "schema_version": 3,
     "solution": true,
     "task": false
    },
    "tags": []
   },
   "outputs": [],
   "source": [
    "import numpy as np\n",
    "\n",
    "# Anfangsbedingungen (Vorschlag)\n",
    "g = np.array([0, -9.81], dtype=np.float64)\n",
    "xmax = 1000\n",
    "ymax = 1000\n",
    "steps = 2000\n",
    "dt = xmax * 1e-5\n",
    "# Anzahl Bälle\n",
    "N = 20\n",
    "\n",
    "# Durchmesser Ball\n",
    "r = xmax * dt\n",
    "print(r)\n",
    "rng = np.random.default_rng(seed=123)\n",
    "\n",
    "\n",
    "# Startpositionen\n",
    "def init(n=N):\n",
    "    c = xmax * rng.random((N, 2))\n",
    "    # Startgeschwindigkeiten, max.\n",
    "    v = np.array([xmax, ymax]) * rng.random((N, 2))\n",
    "    # Masse\n",
    "    m = np.full(N, 0.05)\n",
    "    mask = np.full((N, N), 0, np.int32)\n",
    "    return c, v, m, mask"
   ]
  },
  {
   "cell_type": "markdown",
   "metadata": {
    "deletable": false,
    "editable": false
   },
   "source": [
    "<!-- END QUESTION -->\n",
    "\n",
    "<!-- BEGIN QUESTION -->\n",
    "\n",
    "**Aufgabe:** Implementieren Sie nun einen vollständigen Zeitschritt mit Kollisionen. \n",
    "\n",
    "_Points:_ 10"
   ]
  },
  {
   "cell_type": "code",
   "execution_count": null,
   "metadata": {
    "nbgrader": {
     "grade": false,
     "grade_id": "cell-dc2022a0f9e20ef2",
     "locked": false,
     "schema_version": 3,
     "solution": true,
     "task": false
    },
    "tags": []
   },
   "outputs": [],
   "source": [
    "def timestep_with_collisions(c, v, m, dt, g, xmax, ymax, mask):\n",
    "    \"\"\"\n",
    "    Simulate a timestep for multiple balls with collisions.\n",
    "\n",
    "    Parameters:\n",
    "        c: ...\n",
    "        v: ...\n",
    "        m: Masses\n",
    "        dt: The duration of a single timestep\n",
    "        g: Gravitation\n",
    "        xmax: Box limit in x direction\n",
    "        ymax: Box limit in y direction\n",
    "    \"\"\"\n",
    "    ..."
   ]
  },
  {
   "cell_type": "code",
   "execution_count": null,
   "metadata": {
    "tags": []
   },
   "outputs": [],
   "source": [
    "c, v, m, mask = init()\n",
    "timestep_with_collisions(c, v, m, dt, g, xmax, ymax, mask)"
   ]
  },
  {
   "cell_type": "markdown",
   "metadata": {
    "deletable": false,
    "editable": false
   },
   "source": [
    "<!-- END QUESTION -->\n",
    "\n",
    "<!-- BEGIN QUESTION -->\n",
    "\n",
    "**Aufgabe:** Animieren Sie die Bewegung der Bälle.\n",
    "\n",
    "Tipp: Trennen Sie Simulation und Visualisierung und visualisieren Sie z.B. nur jeden 100. Simulationsschritt. \n",
    "\n",
    "_Points:_ 5"
   ]
  },
  {
   "cell_type": "code",
   "execution_count": null,
   "metadata": {
    "nbgrader": {
     "grade": false,
     "grade_id": "cell-5b3dd7949bee4f33",
     "locked": false,
     "schema_version": 3,
     "solution": true,
     "task": false
    },
    "tags": []
   },
   "outputs": [],
   "source": [
    "..."
   ]
  },
  {
   "cell_type": "markdown",
   "metadata": {
    "deletable": false,
    "editable": false
   },
   "source": [
    "<!-- END QUESTION -->\n",
    "\n",
    "<!-- BEGIN QUESTION -->\n",
    "\n",
    "**Aufgabe:** Analysieren Sie nun die Simulation mit Scalene. Was hat sich gegenüber der alten Version ohne die Kollisionen verändert? \n",
    "\n",
    "_Points:_ 5"
   ]
  },
  {
   "cell_type": "markdown",
   "metadata": {},
   "source": [
    "_Type your answer here, replacing this text._"
   ]
  },
  {
   "cell_type": "code",
   "execution_count": null,
   "metadata": {
    "tags": []
   },
   "outputs": [],
   "source": [
    "c, v, m, mask = init(10)"
   ]
  },
  {
   "cell_type": "code",
   "execution_count": null,
   "metadata": {
    "scrolled": true,
    "tags": []
   },
   "outputs": [],
   "source": [
    "%%scalene --cpu-sampling-rate 0.01\n",
    "..."
   ]
  },
  {
   "cell_type": "code",
   "execution_count": null,
   "metadata": {
    "tags": []
   },
   "outputs": [],
   "source": [
    "c, v, m, mask = init(300)"
   ]
  },
  {
   "cell_type": "code",
   "execution_count": null,
   "metadata": {
    "scrolled": true,
    "tags": []
   },
   "outputs": [],
   "source": [
    "%%scalene --cpu-sampling-rate 0.01\n",
    "..."
   ]
  },
  {
   "cell_type": "markdown",
   "metadata": {
    "deletable": false,
    "editable": false
   },
   "source": [
    "<!-- END QUESTION -->\n",
    "\n",
    "<!-- BEGIN QUESTION -->\n",
    "\n",
    "**Aufgabe:** Versuchen Sie Ihren Code (d.h. `timestep_with_collisions`) zu optimieren, damit er besser skaliert.\n",
    "\n",
    "Vergleichen Sie danach die Ausführungszeiten beider Varianten für 20 Zeitschritte mit $[100, 200,300]$ Bällen.\n",
    "\n",
    "Stellen Sie den Vergleich graphisch dar.\n",
    "\n",
    "_Points:_ 10"
   ]
  },
  {
   "cell_type": "code",
   "execution_count": null,
   "metadata": {
    "tags": []
   },
   "outputs": [],
   "source": [
    "## Optimized CODE\n",
    "import numba\n",
    "\n",
    "\n",
    "..."
   ]
  },
  {
   "cell_type": "code",
   "execution_count": null,
   "metadata": {
    "tags": []
   },
   "outputs": [],
   "source": [
    "c, v, m, mask = init()\n",
    "timestep_with_collisions_numba(c, v, m, dt, g, xmax, ymax, mask)"
   ]
  },
  {
   "cell_type": "code",
   "execution_count": null,
   "metadata": {
    "nbgrader": {
     "grade": false,
     "grade_id": "cell-1f2c0edc65c15a6c",
     "locked": false,
     "schema_version": 3,
     "solution": true,
     "task": false
    },
    "tags": []
   },
   "outputs": [],
   "source": [
    "..."
   ]
  },
  {
   "cell_type": "code",
   "execution_count": null,
   "metadata": {
    "nbgrader": {
     "grade": false,
     "grade_id": "cell-cf17d816ad788e2d",
     "locked": false,
     "schema_version": 3,
     "solution": true,
     "task": false
    },
    "tags": []
   },
   "outputs": [],
   "source": [
    "..."
   ]
  },
  {
   "cell_type": "markdown",
   "metadata": {
    "deletable": false,
    "editable": false
   },
   "source": [
    "<!-- END QUESTION -->\n",
    "\n",
    "## Optimierung des Gauß-Verfahrens (30 Punkte)"
   ]
  },
  {
   "cell_type": "markdown",
   "metadata": {
    "deletable": false,
    "editable": false
   },
   "source": [
    "<!-- BEGIN QUESTION -->\n",
    "\n",
    "**Aufgabe:** Optimieren Sie die Funktionen `lu_decomposition` und `custom_solve` aus der zweiten Einsendeaufgabe mit Hilfe von Numba.\n",
    "\n",
    "An welcher Stelle ist die Verwendung von `prange` richtig und sinnvoll? \n",
    "\n",
    "Vergleichen Sie die Performance vor und nach der Optimierung für Gleichungssysteme der Größe $256\\times 256 $ und $512 \\times 512$.\n",
    "\n",
    "Stellen Sie den Vergleich graphisch dar.\n",
    "\n",
    "_Points:_ 30"
   ]
  },
  {
   "cell_type": "code",
   "execution_count": 10,
   "metadata": {
    "nbgrader": {
     "grade": false,
     "grade_id": "cell-3a39c9ed1929b1b8",
     "locked": false,
     "schema_version": 3,
     "solution": true,
     "task": false
    },
    "tags": []
   },
   "outputs": [
    {
     "ename": "TypingError",
     "evalue": "Failed in nopython mode pipeline (step: nopython frontend)\nNo implementation of function Function(<built-in function getitem>) found for signature:\n \n >>> getitem(array(float64, 2d, C), Tuple(list(int64)<iv=None>, slice<a:b>))\n \nThere are 22 candidate implementations:\n   - Of which 20 did not match due to:\n   Overload of function 'getitem': File: <numerous>: Line N/A.\n     With argument(s): '(array(float64, 2d, C), Tuple(list(int64)<iv=None>, slice<a:b>))':\n    No match.\n   - Of which 2 did not match due to:\n   Overload in function 'GetItemBuffer.generic': File: numba/core/typing/arraydecl.py: Line 211.\n     With argument(s): '(array(float64, 2d, C), Tuple(list(int64)<iv=None>, slice<a:b>))':\n    Rejected as the implementation raised a specific error:\n      NumbaTypeError: Unsupported array index type list(int64)<iv=None> in Tuple(list(int64)<iv=None>, slice<a:b>)\n  raised from /usr/local/lib/python3.11/site-packages/numba/core/typing/arraydecl.py:104\n\nDuring: typing of intrinsic-call at /tmp/ipykernel_70/3988577554.py (18)\n\nFile \"../../../tmp/ipykernel_70/3988577554.py\", line 18:\n<source missing, REPL/exec in use?>\n",
     "output_type": "error",
     "traceback": [
      "\u001b[0;31m---------------------------------------------------------------------------\u001b[0m",
      "\u001b[0;31mTypingError\u001b[0m                               Traceback (most recent call last)",
      "Cell \u001b[0;32mIn[10], line 30\u001b[0m\n\u001b[1;32m     27\u001b[0m A2 \u001b[38;5;241m=\u001b[39m np\u001b[38;5;241m.\u001b[39mrandom\u001b[38;5;241m.\u001b[39mrand(\u001b[38;5;241m512\u001b[39m, \u001b[38;5;241m512\u001b[39m)\n\u001b[1;32m     29\u001b[0m start \u001b[38;5;241m=\u001b[39m time\u001b[38;5;241m.\u001b[39mtime()\n\u001b[0;32m---> 30\u001b[0m \u001b[43mlu_decomposition\u001b[49m\u001b[43m(\u001b[49m\u001b[43mA1\u001b[49m\u001b[43m)\u001b[49m\n\u001b[1;32m     31\u001b[0m end \u001b[38;5;241m=\u001b[39m time\u001b[38;5;241m.\u001b[39mtime()\n\u001b[1;32m     32\u001b[0m time1 \u001b[38;5;241m=\u001b[39m end \u001b[38;5;241m-\u001b[39m start\n",
      "File \u001b[0;32m/usr/local/lib/python3.11/site-packages/numba/core/dispatcher.py:423\u001b[0m, in \u001b[0;36m_DispatcherBase._compile_for_args\u001b[0;34m(self, *args, **kws)\u001b[0m\n\u001b[1;32m    419\u001b[0m         msg \u001b[38;5;241m=\u001b[39m (\u001b[38;5;124mf\u001b[39m\u001b[38;5;124m\"\u001b[39m\u001b[38;5;132;01m{\u001b[39;00m\u001b[38;5;28mstr\u001b[39m(e)\u001b[38;5;241m.\u001b[39mrstrip()\u001b[38;5;132;01m}\u001b[39;00m\u001b[38;5;124m \u001b[39m\u001b[38;5;130;01m\\n\u001b[39;00m\u001b[38;5;130;01m\\n\u001b[39;00m\u001b[38;5;124mThis error may have been caused \u001b[39m\u001b[38;5;124m\"\u001b[39m\n\u001b[1;32m    420\u001b[0m                \u001b[38;5;124mf\u001b[39m\u001b[38;5;124m\"\u001b[39m\u001b[38;5;124mby the following argument(s):\u001b[39m\u001b[38;5;130;01m\\n\u001b[39;00m\u001b[38;5;132;01m{\u001b[39;00margs_str\u001b[38;5;132;01m}\u001b[39;00m\u001b[38;5;130;01m\\n\u001b[39;00m\u001b[38;5;124m\"\u001b[39m)\n\u001b[1;32m    421\u001b[0m         e\u001b[38;5;241m.\u001b[39mpatch_message(msg)\n\u001b[0;32m--> 423\u001b[0m     \u001b[43merror_rewrite\u001b[49m\u001b[43m(\u001b[49m\u001b[43me\u001b[49m\u001b[43m,\u001b[49m\u001b[43m \u001b[49m\u001b[38;5;124;43m'\u001b[39;49m\u001b[38;5;124;43mtyping\u001b[39;49m\u001b[38;5;124;43m'\u001b[39;49m\u001b[43m)\u001b[49m\n\u001b[1;32m    424\u001b[0m \u001b[38;5;28;01mexcept\u001b[39;00m errors\u001b[38;5;241m.\u001b[39mUnsupportedError \u001b[38;5;28;01mas\u001b[39;00m e:\n\u001b[1;32m    425\u001b[0m     \u001b[38;5;66;03m# Something unsupported is present in the user code, add help info\u001b[39;00m\n\u001b[1;32m    426\u001b[0m     error_rewrite(e, \u001b[38;5;124m'\u001b[39m\u001b[38;5;124munsupported_error\u001b[39m\u001b[38;5;124m'\u001b[39m)\n",
      "File \u001b[0;32m/usr/local/lib/python3.11/site-packages/numba/core/dispatcher.py:364\u001b[0m, in \u001b[0;36m_DispatcherBase._compile_for_args.<locals>.error_rewrite\u001b[0;34m(e, issue_type)\u001b[0m\n\u001b[1;32m    362\u001b[0m     \u001b[38;5;28;01mraise\u001b[39;00m e\n\u001b[1;32m    363\u001b[0m \u001b[38;5;28;01melse\u001b[39;00m:\n\u001b[0;32m--> 364\u001b[0m     \u001b[38;5;28;01mraise\u001b[39;00m e\u001b[38;5;241m.\u001b[39mwith_traceback(\u001b[38;5;28;01mNone\u001b[39;00m)\n",
      "\u001b[0;31mTypingError\u001b[0m: Failed in nopython mode pipeline (step: nopython frontend)\nNo implementation of function Function(<built-in function getitem>) found for signature:\n \n >>> getitem(array(float64, 2d, C), Tuple(list(int64)<iv=None>, slice<a:b>))\n \nThere are 22 candidate implementations:\n   - Of which 20 did not match due to:\n   Overload of function 'getitem': File: <numerous>: Line N/A.\n     With argument(s): '(array(float64, 2d, C), Tuple(list(int64)<iv=None>, slice<a:b>))':\n    No match.\n   - Of which 2 did not match due to:\n   Overload in function 'GetItemBuffer.generic': File: numba/core/typing/arraydecl.py: Line 211.\n     With argument(s): '(array(float64, 2d, C), Tuple(list(int64)<iv=None>, slice<a:b>))':\n    Rejected as the implementation raised a specific error:\n      NumbaTypeError: Unsupported array index type list(int64)<iv=None> in Tuple(list(int64)<iv=None>, slice<a:b>)\n  raised from /usr/local/lib/python3.11/site-packages/numba/core/typing/arraydecl.py:104\n\nDuring: typing of intrinsic-call at /tmp/ipykernel_70/3988577554.py (18)\n\nFile \"../../../tmp/ipykernel_70/3988577554.py\", line 18:\n<source missing, REPL/exec in use?>\n"
     ]
    }
   ],
   "source": [
    "from numba import prange, jit\n",
    "import numpy as np\n",
    "import time\n",
    "import matplotlib.pyplot as plt\n",
    "\n",
    "@jit(nopython=True)\n",
    "def lu_decomposition(A):\n",
    "    \"\"\"\n",
    "    Implement LU-Decomposition of a square matrix.\n",
    "    This function works in-place i.e. it stores information about L and U in A and returns the pivot vector.\n",
    "    \"\"\"\n",
    "    n = A.shape[0]\n",
    "    p = np.arange(n)\n",
    "\n",
    "    for i in prange(n):\n",
    "        max_row = i + np.argmax(np.abs(A[i:n, 1]))\n",
    "        if i != max_row:\n",
    "            A[[i, max_row], :] = A[[max_row, i], :]\n",
    "            p[[i, max_row]] = p[[max_row, i]]\n",
    "        \n",
    "        for j in range(i + 1, n):\n",
    "            A[j, i] /= A[i, i]\n",
    "            A[j, i+1:] -= A[j, i] * A[i, i+1:]\n",
    "    return p\n",
    "#Performance Vergleich \n",
    "A1 = np.random.rand(256, 256)\n",
    "A2 = np.random.rand(512, 512)\n",
    "\n",
    "start = time.time()\n",
    "lu_decomposition(A1)\n",
    "end = time.time()\n",
    "time1 = end - start\n",
    "\n",
    "start = time.time()\n",
    "lu_decomposition(A2)\n",
    "end = time.time()\n",
    "time2 = end - start\n",
    "\n",
    "sizes = [256, 512]\n",
    "times = [time1, time2]\n",
    "\n",
    "plt.plot(sizes, times)\n",
    "plt.xlabel('Matrix Size (n x n)')\n",
    "plt.ylabel('Time (s)')\n",
    "plt.title('LU Decomposition Performance Comparison')\n",
    "plt.show()"
   ]
  },
  {
   "cell_type": "code",
   "execution_count": 12,
   "metadata": {
    "nbgrader": {
     "grade": false,
     "grade_id": "cell-ac775203eb88ccb7",
     "locked": false,
     "schema_version": 3,
     "solution": true,
     "task": false
    },
    "tags": []
   },
   "outputs": [
    {
     "ename": "TypingError",
     "evalue": "Failed in nopython mode pipeline (step: nopython frontend)\nFailed in nopython mode pipeline (step: nopython frontend)\nNo implementation of function Function(<built-in function getitem>) found for signature:\n \n >>> getitem(array(float64, 2d, C), Tuple(list(int64)<iv=None>, slice<a:b>))\n \nThere are 22 candidate implementations:\n   - Of which 20 did not match due to:\n   Overload of function 'getitem': File: <numerous>: Line N/A.\n     With argument(s): '(array(float64, 2d, C), Tuple(list(int64)<iv=None>, slice<a:b>))':\n    No match.\n   - Of which 2 did not match due to:\n   Overload in function 'GetItemBuffer.generic': File: numba/core/typing/arraydecl.py: Line 211.\n     With argument(s): '(array(float64, 2d, C), Tuple(list(int64)<iv=None>, slice<a:b>))':\n    Rejected as the implementation raised a specific error:\n      NumbaTypeError: Unsupported array index type list(int64)<iv=None> in Tuple(list(int64)<iv=None>, slice<a:b>)\n  raised from /usr/local/lib/python3.11/site-packages/numba/core/typing/arraydecl.py:104\n\nDuring: typing of intrinsic-call at /tmp/ipykernel_70/3988577554.py (18)\n\nFile \"../../../tmp/ipykernel_70/3988577554.py\", line 18:\n<source missing, REPL/exec in use?>\n\nDuring: resolving callee type: type(CPUDispatcher(<function lu_decomposition at 0x7fdb9bfaf240>))\nDuring: typing of call at /tmp/ipykernel_70/3485758147.py (10)\n\nDuring: resolving callee type: type(CPUDispatcher(<function lu_decomposition at 0x7fdb9bfaf240>))\nDuring: typing of call at /tmp/ipykernel_70/3485758147.py (10)\n\n\nFile \"../../../tmp/ipykernel_70/3485758147.py\", line 10:\n<source missing, REPL/exec in use?>\n",
     "output_type": "error",
     "traceback": [
      "\u001b[0;31m---------------------------------------------------------------------------\u001b[0m",
      "\u001b[0;31mTypingError\u001b[0m                               Traceback (most recent call last)",
      "Cell \u001b[0;32mIn[12], line 35\u001b[0m\n\u001b[1;32m     33\u001b[0m \u001b[38;5;66;03m# Messung der Zeit vor der Optimierung\u001b[39;00m\n\u001b[1;32m     34\u001b[0m start \u001b[38;5;241m=\u001b[39m time\u001b[38;5;241m.\u001b[39mtime()\n\u001b[0;32m---> 35\u001b[0m \u001b[43mcustom_solve\u001b[49m\u001b[43m(\u001b[49m\u001b[43mA1\u001b[49m\u001b[43m,\u001b[49m\u001b[43m \u001b[49m\u001b[43mb1\u001b[49m\u001b[43m)\u001b[49m\n\u001b[1;32m     36\u001b[0m custom_solve(A2, b2)\n\u001b[1;32m     37\u001b[0m end \u001b[38;5;241m=\u001b[39m time\u001b[38;5;241m.\u001b[39mtime()\n",
      "File \u001b[0;32m/usr/local/lib/python3.11/site-packages/numba/core/dispatcher.py:423\u001b[0m, in \u001b[0;36m_DispatcherBase._compile_for_args\u001b[0;34m(self, *args, **kws)\u001b[0m\n\u001b[1;32m    419\u001b[0m         msg \u001b[38;5;241m=\u001b[39m (\u001b[38;5;124mf\u001b[39m\u001b[38;5;124m\"\u001b[39m\u001b[38;5;132;01m{\u001b[39;00m\u001b[38;5;28mstr\u001b[39m(e)\u001b[38;5;241m.\u001b[39mrstrip()\u001b[38;5;132;01m}\u001b[39;00m\u001b[38;5;124m \u001b[39m\u001b[38;5;130;01m\\n\u001b[39;00m\u001b[38;5;130;01m\\n\u001b[39;00m\u001b[38;5;124mThis error may have been caused \u001b[39m\u001b[38;5;124m\"\u001b[39m\n\u001b[1;32m    420\u001b[0m                \u001b[38;5;124mf\u001b[39m\u001b[38;5;124m\"\u001b[39m\u001b[38;5;124mby the following argument(s):\u001b[39m\u001b[38;5;130;01m\\n\u001b[39;00m\u001b[38;5;132;01m{\u001b[39;00margs_str\u001b[38;5;132;01m}\u001b[39;00m\u001b[38;5;130;01m\\n\u001b[39;00m\u001b[38;5;124m\"\u001b[39m)\n\u001b[1;32m    421\u001b[0m         e\u001b[38;5;241m.\u001b[39mpatch_message(msg)\n\u001b[0;32m--> 423\u001b[0m     \u001b[43merror_rewrite\u001b[49m\u001b[43m(\u001b[49m\u001b[43me\u001b[49m\u001b[43m,\u001b[49m\u001b[43m \u001b[49m\u001b[38;5;124;43m'\u001b[39;49m\u001b[38;5;124;43mtyping\u001b[39;49m\u001b[38;5;124;43m'\u001b[39;49m\u001b[43m)\u001b[49m\n\u001b[1;32m    424\u001b[0m \u001b[38;5;28;01mexcept\u001b[39;00m errors\u001b[38;5;241m.\u001b[39mUnsupportedError \u001b[38;5;28;01mas\u001b[39;00m e:\n\u001b[1;32m    425\u001b[0m     \u001b[38;5;66;03m# Something unsupported is present in the user code, add help info\u001b[39;00m\n\u001b[1;32m    426\u001b[0m     error_rewrite(e, \u001b[38;5;124m'\u001b[39m\u001b[38;5;124munsupported_error\u001b[39m\u001b[38;5;124m'\u001b[39m)\n",
      "File \u001b[0;32m/usr/local/lib/python3.11/site-packages/numba/core/dispatcher.py:364\u001b[0m, in \u001b[0;36m_DispatcherBase._compile_for_args.<locals>.error_rewrite\u001b[0;34m(e, issue_type)\u001b[0m\n\u001b[1;32m    362\u001b[0m     \u001b[38;5;28;01mraise\u001b[39;00m e\n\u001b[1;32m    363\u001b[0m \u001b[38;5;28;01melse\u001b[39;00m:\n\u001b[0;32m--> 364\u001b[0m     \u001b[38;5;28;01mraise\u001b[39;00m e\u001b[38;5;241m.\u001b[39mwith_traceback(\u001b[38;5;28;01mNone\u001b[39;00m)\n",
      "\u001b[0;31mTypingError\u001b[0m: Failed in nopython mode pipeline (step: nopython frontend)\nFailed in nopython mode pipeline (step: nopython frontend)\nNo implementation of function Function(<built-in function getitem>) found for signature:\n \n >>> getitem(array(float64, 2d, C), Tuple(list(int64)<iv=None>, slice<a:b>))\n \nThere are 22 candidate implementations:\n   - Of which 20 did not match due to:\n   Overload of function 'getitem': File: <numerous>: Line N/A.\n     With argument(s): '(array(float64, 2d, C), Tuple(list(int64)<iv=None>, slice<a:b>))':\n    No match.\n   - Of which 2 did not match due to:\n   Overload in function 'GetItemBuffer.generic': File: numba/core/typing/arraydecl.py: Line 211.\n     With argument(s): '(array(float64, 2d, C), Tuple(list(int64)<iv=None>, slice<a:b>))':\n    Rejected as the implementation raised a specific error:\n      NumbaTypeError: Unsupported array index type list(int64)<iv=None> in Tuple(list(int64)<iv=None>, slice<a:b>)\n  raised from /usr/local/lib/python3.11/site-packages/numba/core/typing/arraydecl.py:104\n\nDuring: typing of intrinsic-call at /tmp/ipykernel_70/3988577554.py (18)\n\nFile \"../../../tmp/ipykernel_70/3988577554.py\", line 18:\n<source missing, REPL/exec in use?>\n\nDuring: resolving callee type: type(CPUDispatcher(<function lu_decomposition at 0x7fdb9bfaf240>))\nDuring: typing of call at /tmp/ipykernel_70/3485758147.py (10)\n\nDuring: resolving callee type: type(CPUDispatcher(<function lu_decomposition at 0x7fdb9bfaf240>))\nDuring: typing of call at /tmp/ipykernel_70/3485758147.py (10)\n\n\nFile \"../../../tmp/ipykernel_70/3485758147.py\", line 10:\n<source missing, REPL/exec in use?>\n"
     ]
    }
   ],
   "source": [
    "import numpy as np\n",
    "from numba import jit, prange\n",
    "import time\n",
    "import matplotlib.pyplot as plt\n",
    "\n",
    "@jit(parallel=True)\n",
    "def custom_solve(A, b):\n",
    "    \"\"\"Solve a system of linear equations A * x = b and return result vector x.\"\"\"\n",
    "    A = A.copy()\n",
    "    p = lu_decomposition(A)\n",
    "\n",
    "    b = b[p]\n",
    "\n",
    "    n = A.shape[0]\n",
    "    x = np.zeros_like(b)\n",
    "    y = np.zeros_like(b)\n",
    "\n",
    "    for i in prange(n):\n",
    "        y[i] = b[i] - np.dot(A[i, :i], y[:i])\n",
    "    \n",
    "    for i in prange(n-1, -1, -1):\n",
    "        x[i] = (y[i] - np.dot(A[i, i+1:], x[i+1:])) / A[i, i]\n",
    "    \n",
    "    return x\n",
    "\n",
    "A1 = np.random.rand(256, 256)\n",
    "b1 = np.random.rand(256)\n",
    "A2 = np.random.rand(512, 512)\n",
    "b2 = np.random.rand(512)\n",
    "\n",
    "times = []\n",
    "\n",
    "# Messung der Zeit vor der Optimierung\n",
    "start = time.time()\n",
    "custom_solve(A1, b1)\n",
    "custom_solve(A2, b2)\n",
    "end = time.time()\n",
    "times.append(end-start)\n",
    "\n",
    "# Messung der Zeit nach der Optimierung\n",
    "start = time.time()\n",
    "custom_solve(A1, b1)\n",
    "custom_solve(A2, b2)\n",
    "end = time.time()\n",
    "times.append(end-start)\n",
    "\n",
    "labels = ['Vor der Optimierung', 'Nach der Optimierung']\n",
    "x_pos = np.arange(len(labels))\n",
    "\n",
    "plt.bar(x_pos, times, align='center', alpha=0.5)\n",
    "plt.xticks(x_pos, labels)\n",
    "plt.ylabel('Zeit (s)')\n",
    "plt.title('Berechnungszeit vor und nach der Optimierung')\n",
    "plt.show()"
   ]
  },
  {
   "cell_type": "markdown",
   "metadata": {
    "deletable": false,
    "editable": false
   },
   "source": [
    "<!-- END QUESTION -->\n",
    "\n",
    "Führen Sie alle Zellen im Notebook aus und speichern Sie es.  \n",
    "Danach können Sie mit der folgenden Zelle eine HTML-Datei erstellen.  \n",
    "Eine mögliche `UserWarning` können Sie ignorieren.  \n",
    "Bitte geben Sie das Notebook als `.ipynb` und `.html` Datei ab."
   ]
  },
  {
   "cell_type": "code",
   "execution_count": null,
   "metadata": {},
   "outputs": [],
   "source": [
    "#!jupyter nbconvert --to html EA3.ipynb"
   ]
  }
 ],
 "metadata": {
  "kernelspec": {
   "display_name": "Python 3 (ipykernel)",
   "language": "python",
   "name": "python3"
  },
  "language_info": {
   "codemirror_mode": {
    "name": "ipython",
    "version": 3
   },
   "file_extension": ".py",
   "mimetype": "text/x-python",
   "name": "python",
   "nbconvert_exporter": "python",
   "pygments_lexer": "ipython3",
   "version": "3.11.9"
  },
  "otter": {
   "OK_FORMAT": true,
   "assignment_name": "EA3",
   "tests": {
    "animation": {
     "name": "animation",
     "points": 5,
     "suites": [
      {
       "cases": [],
       "scored": true,
       "setup": "",
       "teardown": "",
       "type": "doctest"
      }
     ]
    },
    "collision": {
     "name": "collision",
     "points": 10,
     "suites": [
      {
       "cases": [],
       "scored": true,
       "setup": "",
       "teardown": "",
       "type": "doctest"
      }
     ]
    },
    "gauss": {
     "name": "gauss",
     "points": 30,
     "suites": [
      {
       "cases": [],
       "scored": true,
       "setup": "",
       "teardown": "",
       "type": "doctest"
      }
     ]
    },
    "get_all_collisions": {
     "name": "get_all_collisions",
     "points": 10,
     "suites": [
      {
       "cases": [],
       "scored": true,
       "setup": "",
       "teardown": "",
       "type": "doctest"
      }
     ]
    },
    "mandelbrot": {
     "name": "mandelbrot",
     "points": 7,
     "suites": [
      {
       "cases": [],
       "scored": true,
       "setup": "",
       "teardown": "",
       "type": "doctest"
      }
     ]
    },
    "mandelbrot_scalene": {
     "name": "mandelbrot_scalene",
     "points": 3,
     "suites": [
      {
       "cases": [],
       "scored": true,
       "setup": "",
       "teardown": "",
       "type": "doctest"
      }
     ]
    },
    "scalene_init": {
     "name": "scalene_init",
     "points": 5,
     "suites": [
      {
       "cases": [],
       "scored": true,
       "setup": "",
       "teardown": "",
       "type": "doctest"
      }
     ]
    },
    "timestep_with_collisions": {
     "name": "timestep_with_collisions",
     "points": 10,
     "suites": [
      {
       "cases": [],
       "scored": true,
       "setup": "",
       "teardown": "",
       "type": "doctest"
      }
     ]
    },
    "timestep_with_collisions_optimized": {
     "name": "timestep_with_collisions_optimized",
     "points": 10,
     "suites": [
      {
       "cases": [],
       "scored": true,
       "setup": "",
       "teardown": "",
       "type": "doctest"
      }
     ]
    },
    "will_collide": {
     "name": "will_collide",
     "points": 10,
     "suites": [
      {
       "cases": [
        {
         "code": ">>> v0 = np.array([1, 1])\n>>> v1 = np.array([-1, -1])\n>>> c0 = np.array([0, 0])\n>>> c1 = np.array([0, 1])\n>>> r = 0.5\n>>> dt = 1\n>>> assert will_collide(c0, v0, c1, v1, r, dt)\n>>> v0 = np.array([-1, -1])\n>>> c0 = np.array([1, 1])\n>>> assert not will_collide(c0, v0, c1, v1, r, dt)\n",
         "hidden": false,
         "locked": false
        }
       ],
       "scored": true,
       "setup": "",
       "teardown": "",
       "type": "doctest"
      }
     ]
    }
   }
  }
 },
 "nbformat": 4,
 "nbformat_minor": 4
}
