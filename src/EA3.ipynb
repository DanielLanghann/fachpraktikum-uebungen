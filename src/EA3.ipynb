{
 "cells": [
  {
   "cell_type": "markdown",
   "metadata": {},
   "source": [
    "# Einsendeaufgabe 3: Numba (100 Punkte)\n",
    "\n",
    "In diesem Abschnitt möchten wir unsere Applikationen mit Numba beschleunigen.\n",
    "\n",
    "## Mandelbrot-Set (10 Punkte)\n",
    "\n",
    "Wir beginnen mit einem klassischen Beispiel für Parallelisierung: dem Mandelbrot-Set.\n",
    "\n",
    "Die Mandelbrot-Menge wird durch die Gleichung $z_{n+1} = z_n^2 + c$ beschrieben. In dieser Gleichung sind $c$ und $z$ komplexe Zahlen, und $n$ ist Null oder eine positive ganze Zahl. Ausgehend von $z_0=0$, gehört $c$ zur Mandelbrot-Menge, wenn der Absolutwert von $z_n$ niemals größer als eine bestimmte Zahl wird (diese Zahl ist abhängig von $c$), egal wie groß $n$ wird.\n",
    "\n",
    "Das bedeutet, eine komplexe Zahl $c$ ist ein Element der Mandelbrotmenge, wenn die Beträge der mit diesem $c$ berechneten $z_{n}$ nicht unbegrenzt wachsen, unabhängig davon, wie groß $n$ wird. Es lässt sich leicht zeigen, dass der Betrag von $z_{n}$ unbegrenzt wächst, sobald ein $z_{n}$ mit $|z_{n}|>2$ auftritt.\n",
    "\n",
    "Bei der Berechnung des Mandelbrot-Sets legt man oft eine obere Grenze für die maximalen Iterationen fest, um zu testen, ob diese überschritten wird.\n",
    "\n",
    "Ein einfacher Algorithmus zur Bestimmung, ob ein Wert zum Mandelbrot-Set gehört, sieht folgendermaßen aus:"
   ]
  },
  {
   "cell_type": "code",
   "execution_count": 1,
   "metadata": {},
   "outputs": [
    {
     "data": {
      "text/plain": [
       "400"
      ]
     },
     "execution_count": 1,
     "metadata": {},
     "output_type": "execute_result"
    }
   ],
   "source": [
    "import numba\n",
    "import numpy as np"
   ]
  },
  {
   "cell_type": "code",
   "execution_count": null,
   "metadata": {},
   "outputs": [],
   "source": [
    "def escape_time(p, maxiter):\n",
    "    \"\"\"Perform the Mandelbrot iteration until it's clear that p diverges\n",
    "    or the maximum number of iterations has been reached.\n",
    "\n",
    "    Parameters\n",
    "    ----------\n",
    "    p: complex\n",
    "        point in the complex plane\n",
    "    maxiter: int\n",
    "        maximum number of iterations to perform before p is considered in\n",
    "        the Mandelbrot set.\n",
    "    \"\"\"\n",
    "    z = 0j\n",
    "    for i in range(maxiter):\n",
    "        z = z**2 + p\n",
    "        if abs(z) > 2:\n",
    "            return i\n",
    "    return maxiter\n",
    "\n",
    "\n",
    "a = np.array([0.2 + 0.2j])\n",
    "escape_time(a, 400)"
   ]
  },
  {
   "cell_type": "markdown",
   "metadata": {},
   "source": [
    "Die Zahl $0.2+0.2j$ liegt also in der Mandelbrot Menge, da wir nach 400 Iterationen noch nicht die Abbruchbedingung erfüllen.  Allerdings ist es mühsam, jede Zahl einzeln zu testen. Wir erstellen also ein 2-D Feld mit vielen Komplexen Zahlen $|z|<2$: "
   ]
  },
  {
   "cell_type": "code",
   "execution_count": 2,
   "metadata": {},
   "outputs": [],
   "source": [
    "real_param = (-1.5, 1.1, 1500)\n",
    "imag_param = (-1.5j, 1.1j, 1500)\n",
    "XX, YY = np.meshgrid(np.linspace(*real_param), np.linspace(*imag_param))\n",
    "P = XX + YY"
   ]
  },
  {
   "cell_type": "markdown",
   "metadata": {
    "deletable": false,
    "editable": false
   },
   "source": [
    "<!-- BEGIN QUESTION -->\n",
    "\n",
    "**Aufgabe:**  \n",
    "- Vektorisieren Sie die Funktion mit `np.vectorize`\n",
    "- Vektorisieren Sie die Funktion mit `numba.vectorize`\n",
    "- Testen Sie, ob der Parallel-Parameter funktioniert und ob er Performance-Vorteile bringt\n",
    "- Vergleichen Sie die Laufzeit der drei Versionen und stellen Sie den Vergleich graphisch dar\n",
    "\n",
    "_Points:_ 7"
   ]
  },
  {
   "cell_type": "code",
   "execution_count": 3,
   "metadata": {
    "nbgrader": {
     "grade": false,
     "grade_id": "cell-a9c8fa600a8421a5",
     "locked": false,
     "schema_version": 3,
     "solution": true,
     "task": false
    },
    "tags": []
   },
   "outputs": [
    {
     "ename": "ValueError",
     "evalue": "The truth value of an array with more than one element is ambiguous. Use a.any() or a.all()",
     "output_type": "error",
     "traceback": [
      "\u001b[0;31m---------------------------------------------------------------------------\u001b[0m",
      "\u001b[0;31mValueError\u001b[0m                                Traceback (most recent call last)",
      "Cell \u001b[0;32mIn[3], line 5\u001b[0m\n\u001b[1;32m      1\u001b[0m \u001b[38;5;28;01mimport\u001b[39;00m \u001b[38;5;21;01mmatplotlib\u001b[39;00m\u001b[38;5;21;01m.\u001b[39;00m\u001b[38;5;21;01mpyplot\u001b[39;00m \u001b[38;5;28;01mas\u001b[39;00m \u001b[38;5;21;01mplt\u001b[39;00m\n\u001b[1;32m      3\u001b[0m maxiter \u001b[38;5;241m=\u001b[39m \u001b[38;5;241m200\u001b[39m\n\u001b[0;32m----> 5\u001b[0m mandelbrot_set_np_vectorized \u001b[38;5;241m=\u001b[39m \u001b[43mescape_time\u001b[49m\u001b[43m(\u001b[49m\u001b[43mP\u001b[49m\u001b[43m,\u001b[49m\u001b[43m \u001b[49m\u001b[43mmaxiter\u001b[49m\u001b[43m)\u001b[49m\n\u001b[1;32m      6\u001b[0m np_vectorized_time \u001b[38;5;241m=\u001b[39m time\u001b[38;5;241m.\u001b[39mtime() \u001b[38;5;241m-\u001b[39m start_time\n\u001b[1;32m      8\u001b[0m start_time \u001b[38;5;241m=\u001b[39m time\u001b[38;5;241m.\u001b[39mtime()\n",
      "Cell \u001b[0;32mIn[1], line 20\u001b[0m, in \u001b[0;36mescape_time\u001b[0;34m(p, maxiter)\u001b[0m\n\u001b[1;32m     18\u001b[0m \u001b[38;5;28;01mfor\u001b[39;00m i \u001b[38;5;129;01min\u001b[39;00m \u001b[38;5;28mrange\u001b[39m(maxiter):\n\u001b[1;32m     19\u001b[0m     z \u001b[38;5;241m=\u001b[39m z\u001b[38;5;241m*\u001b[39m\u001b[38;5;241m*\u001b[39m\u001b[38;5;241m2\u001b[39m \u001b[38;5;241m+\u001b[39m p\n\u001b[0;32m---> 20\u001b[0m     \u001b[38;5;28;01mif\u001b[39;00m \u001b[38;5;28mabs\u001b[39m(z) \u001b[38;5;241m>\u001b[39m \u001b[38;5;241m2\u001b[39m:\n\u001b[1;32m     21\u001b[0m         \u001b[38;5;28;01mreturn\u001b[39;00m i\n\u001b[1;32m     22\u001b[0m \u001b[38;5;28;01mreturn\u001b[39;00m maxiter\n",
      "\u001b[0;31mValueError\u001b[0m: The truth value of an array with more than one element is ambiguous. Use a.any() or a.all()"
     ]
    }
   ],
   "source": [
    "import matplotlib.pyplot as plt\n",
    "\n",
    "maxiter = 200\n",
    "\n",
    "mandelbrot_set_np_vectorized = escape_time(P, maxiter)\n",
    "np_vectorized_time = time.time() - start_time\n",
    "\n",
    "start_time = time.time()\n",
    "mandelbrot_set_numba_vectorized = escape_time(P, maxiter)\n",
    "numba_vectorized_time = time.time() - start_time\n",
    "\n",
    "start_time = time.time()\n",
    "mandelbrot_set_numba_vectorized_par = escape_time(P, maxiter)\n",
    "numba_vectorized_par_time = time.time() - start_time"
   ]
  },
  {
   "cell_type": "code",
   "execution_count": null,
   "metadata": {
    "nbgrader": {
     "grade": false,
     "grade_id": "cell-908dc151dd878268",
     "locked": false,
     "schema_version": 3,
     "solution": true,
     "task": false
    },
    "tags": []
   },
   "outputs": [],
   "source": [
    "#maxiter = 200\n",
    "..."
   ]
  },
  {
   "cell_type": "markdown",
   "metadata": {
    "deletable": false,
    "editable": false
   },
   "source": [
    "<!-- END QUESTION -->\n",
    "\n",
    "Mit *plt.imshow(M)* können Sie sich die Mandelbrotmenge $M$ ansehen: "
   ]
  },
  {
   "cell_type": "code",
   "execution_count": 4,
   "metadata": {},
   "outputs": [
    {
     "ename": "NameError",
     "evalue": "name 'mandelbrot_set_numba_vectorized_par' is not defined",
     "output_type": "error",
     "traceback": [
      "\u001b[0;31m---------------------------------------------------------------------------\u001b[0m",
      "\u001b[0;31mNameError\u001b[0m                                 Traceback (most recent call last)",
      "Cell \u001b[0;32mIn[4], line 1\u001b[0m\n\u001b[0;32m----> 1\u001b[0m M \u001b[38;5;241m=\u001b[39m \u001b[43mmandelbrot_set_numba_vectorized_par\u001b[49m\u001b[38;5;66;03m#(P, maxiter)\u001b[39;00m\n\u001b[1;32m      2\u001b[0m plt\u001b[38;5;241m.\u001b[39mimshow(M)\n",
      "\u001b[0;31mNameError\u001b[0m: name 'mandelbrot_set_numba_vectorized_par' is not defined"
     ]
    }
   ],
   "source": [
    "M = mandelbrot_set_numba_vectorized_par#(P, maxiter)\n",
    "plt.imshow(M)"
   ]
  },
  {
   "cell_type": "markdown",
   "metadata": {
    "deletable": false,
    "editable": false
   },
   "source": [
    "<!-- BEGIN QUESTION -->\n",
    "\n",
    "**Aufgabe:** Vergleichen Sie nun die drei Versionen mit Scalene. Verwenden sie eine Sampling-Rate von $0.0001$\n",
    "\n",
    "_Points:_ 3"
   ]
  },
  {
   "cell_type": "code",
   "execution_count": null,
   "metadata": {
    "deletable": false,
    "editable": false
   },
   "outputs": [],
   "source": [
    "%load_ext scalene"
   ]
  },
  {
   "cell_type": "code",
   "execution_count": null,
   "metadata": {
    "tags": []
   },
   "outputs": [],
   "source": [
    "%%scalene --cpu-sampling-rate 0.0001\n",
    "..."
   ]
  },
  {
   "cell_type": "markdown",
   "metadata": {
    "deletable": false,
    "editable": false
   },
   "source": [
    "<!-- END QUESTION -->\n",
    "\n",
    "## Springende Bälle, Teil 2 (60 Punkte)\n",
    "Wir wollen die Simulation mit mehreren Bällen verbessern und optimieren. \n",
    "\n",
    "Jetzt werden zusätzlich Kollisionen zwischen den Bällen beachtet.\n",
    "Dafür wollen wir zunächst berechnen, ob die Bälle in einem Zeitschritt kollidieren. Eine genaue Berechnung ist hier sehr schwer, daher können wir dies nur näherungsweise machen. Wir müssen dazu auch folgende Annahmen machen:\n",
    "\n",
    "1. Die Bälle haben einen Radius von $r$, alle Bälle sind gleich groß \n",
    "2. Der Zeitschritt $\\Delta t$ und die Geschwindigkeit $\\$v$ der Bälle sind so gewählt, dass ein Ball maximal viermal seinen Radius in einem Zeitschritt zurücklegt, also $v*\\Delta t <= 4*r$\n",
    "\n",
    "\n",
    "Wir berechnen nun in jeden Zeitschritt zunächst 3 zusätzliche Zwischenzeitschritte:\n",
    "\n",
    "$ c_0 = c_0$\n",
    "\n",
    "$c_1 = c_0+0.25\\Delta t *v$\n",
    "\n",
    "$c_3 = c_0+0.5\\Delta t *v$\n",
    "\n",
    "$c_4 = c_0+0.75\\Delta t * v$\n",
    "\n",
    "(Der nächste Schritt wäre $\\Delta t$, dieser wird aber in der nächsten Iteration beachtet.)\n",
    "\n",
    "\n",
    "Wir betrachten nun jeweils für 2 Bälle, ob sie sich in einem der Zwischenzeitschritte näher als zweimal dem Radius $r$ kommen. Wenn sie das tun, gibt es eine Kollision."
   ]
  },
  {
   "cell_type": "markdown",
   "metadata": {
    "deletable": false,
    "editable": false
   },
   "source": [
    "<!-- BEGIN QUESTION -->\n",
    "\n",
    "**Aufgabe:** Schreiben Sie eine Funktion, die dies für zwei Bälle testet und zunächst `True` oder `False` zurück gibt. Für die Berechnung des Abstands können sie die Funktion `np.linalg.norm` verwenden.\n",
    "\n",
    "_Points:_ 10"
   ]
  },
  {
   "cell_type": "code",
   "execution_count": 2,
   "metadata": {
    "tags": []
   },
   "outputs": [],
   "source": [
    "def will_collide(c1, v1, c2, v2, r, dt):\n",
    "    \"\"\"\n",
    "    Testet ob zwei Bälle kollidieren.\n",
    "    Parameter:\n",
    "        c1: Position des ersten Balls.\n",
    "        v1: Geschwindigkeit des ersten Balls.\n",
    "        c2: Position des zweiten Balls.\n",
    "        v1: Geschwindigkeit des zweiten Balls.\n",
    "        r: Radius der Bälle.\n",
    "        dt: Duration des timestep.\n",
    "    \"\"\"\n",
    "    # Berechnen der Zwischenzeiten gem. Vogabe\n",
    "    c1_intermediate = [\n",
    "        c1,\n",
    "        c1 + 0.25 * dt * v1,\n",
    "        c1 + 0.5 * dt * v1,\n",
    "        c1 + 0.75 * dt * v1,\n",
    "        c1 + dt * v1\n",
    "    ]\n",
    "    \n",
    "    c2_intermediate = [\n",
    "        c2,\n",
    "        c2 + 0.25 * dt * v2,\n",
    "        c2 + 0.5 * dt * v2,\n",
    "        c2 + 0.75 * dt * v2,\n",
    "        c2 + dt * v2\n",
    "    ]\n",
    "    # Überprüfe Abstände in den Zwischenzeitschritten\n",
    "    for i in range(5):\n",
    "        if np.linalg.norm(c1_intermediate[i] - c2_intermediate[i]) < 2 * r:\n",
    "            return True\n",
    "        return False"
   ]
  },
  {
   "cell_type": "code",
   "execution_count": 3,
   "metadata": {},
   "outputs": [
    {
     "name": "stdout",
     "output_type": "stream",
     "text": [
      "Collision: False\n"
     ]
    }
   ],
   "source": [
    "# Test\n",
    "# Beispiel für die Nutzung der Funktion\n",
    "c1 = np.array([0.0, 0.0])\n",
    "v1 = np.array([1.0, 0.0])\n",
    "c2 = np.array([3.0, 0.0])\n",
    "v2 = np.array([-1.0, 0.0])\n",
    "r = 0.5\n",
    "dt = 1.0\n",
    "\n",
    "collision = will_collide(c1, v1, c2, v2, r, dt)\n",
    "print(f\"Collision: {collision}\")"
   ]
  },
  {
   "cell_type": "markdown",
   "metadata": {
    "deletable": false,
    "editable": false
   },
   "source": [
    "<!-- END QUESTION -->\n",
    "\n",
    "Um die Geschwindigkeiten der Bälle nach einer Kollision zu berechnen, können wir die Erhaltung des Impulses und die Erhaltung der kinetischen Energie heranziehen, unter der Annahme, dass es sich um eine vollkommen elastische Kollision handelt. Bei einer solchen Kollision bleiben sowohl der Gesamtimpuls als auch die gesamte kinetische Energie des Systems erhalten. Die Berechnungen werden allerdings etwas komplexer, wenn wir Richtungen berücksichtigen.\n",
    "\n",
    "#### Geschwindigkeiten nach der Kollision\n",
    "\n",
    "Für zwei Bälle mit Massen $m_1$ und $m_2$, den Anfangsgeschwindigkeiten $v_1$ und $v_2$ und den Endgeschwindigkeiten $v_1'$ und $v_2'$ gelten folgende Gleichungen basierend auf dem Impulserhaltungssatz und der Erhaltung der kinetischen Energie:\n",
    "\n",
    "1. **Impulserhaltung:**\n",
    "   $m_1 v_1 + m_2 v_2 = m_1 v_1' + m_2 v_2'$\n",
    "\n",
    "2. **Erhaltung der kinetischen Energie:**\n",
    "   $\\frac{1}{2} m_1 v_1^2 + \\frac{1}{2} m_2 v_2^2 = \\frac{1}{2} m_1 {v_1'}^2 + \\frac{1}{2} m_2 {v_2'}^2$\n",
    "\n",
    "Diese Gleichungen müssen vektoriell gelöst werden, da die Geschwindigkeiten Richtungen haben.\n",
    "\n",
    "Die Lösungen für die Geschwindigkeiten nach der Kollision in zwei Dimensionen unter der Annahme einer vollkommen elastischen Kollision und unter Ignorierung der Rotation der Bälle sind:\n",
    "\n",
    "$v_1' = v_1 - \\frac{2 m_2}{m_1 + m_2} \\frac{(v_1 - v_2) \\cdot (c_1 - c_2)}{\\|c_1 - c_2\\|^2} (c_1 - c_2)$\n",
    "\n",
    "$v_2' = v_2 + \\frac{2 m_1}{m_1 + m_2} \\frac{(v_1 - v_2) \\cdot (c_1 - c_2)}{\\|c_1 - c_2\\|^2} (c_1 - c_2)$\n",
    "\n",
    "Hierbei ist $(v_1 - v_2) \\cdot (c_1 - c_2)$ das Skalarprodukt der Vektoren $v_1 - v_2$ und $c_1 - c_2$, und $\\|c_1 - c_2\\|$ ist der Betrag des Vektors $(c_1 - c_2)$, welcher den Abstand zwischen den Zentren der Bälle darstellt.\n"
   ]
  },
  {
   "cell_type": "markdown",
   "metadata": {
    "deletable": false,
    "editable": false
   },
   "source": [
    "<!-- BEGIN QUESTION -->\n",
    "\n",
    "**Aufgabe:** Schreiben Sie eine Funktion, welche die neuen Geschwindigkeiten der Bälle NACH einer Kollision berechnet.  \n",
    "Sie übergeben der Funktion die folgenden Daten.\n",
    "- Koordinaten ($c_1, c_2$)\n",
    "- Geschwindigkeiten ($v_1, v_2$)\n",
    "- Massen ($m_1, m_2$)\n",
    "\n",
    "Für die Berechnung des Betrags können Sie wiederum die Funktion `np.linalg.norm` verwenden.\n",
    "\n",
    "_Points:_ 10"
   ]
  },
  {
   "cell_type": "code",
   "execution_count": 4,
   "metadata": {
    "scrolled": true,
    "tags": []
   },
   "outputs": [
    {
     "name": "stdout",
     "output_type": "stream",
     "text": [
      "v1=array([1, 0]), v2=array([-1,  0]), v1_new=array([-1.,  0.]), v2_new=array([1., 0.])\n",
      "v1=array([1, 0]), v2=array([-1,  0]), v1_new=array([-2.80952381,  0.        ]), v2_new=array([-0.80952381,  0.        ])\n",
      "v1=array([0, 1]), v2=array([ 0, -1]), v1_new=array([ 0., -1.]), v2_new=array([0., 1.])\n",
      "v1=array([0, 1]), v2=array([ 0, -1]), v1_new=array([ 0.        , -2.80952381]), v2_new=array([ 0.        , -0.80952381])\n",
      "v1=array([1, 1]), v2=array([0, 0]), v1_new=array([2.22044605e-16, 2.22044605e-16]), v2_new=array([1., 1.])\n",
      "v1=array([1, 1]), v2=array([0, 0]), v1_new=array([-0.9047619, -0.9047619]), v2_new=array([0.0952381, 0.0952381])\n",
      "v1=array([1, 1]), v2=array([ 0, -1]), v1_new=array([ 2.22044605e-16, -1.00000000e+00]), v2_new=array([1., 1.])\n",
      "v1=array([1, 1]), v2=array([ 0, -1]), v1_new=array([-0.9047619 , -2.80952381]), v2_new=array([ 0.0952381 , -0.80952381])\n"
     ]
    }
   ],
   "source": [
    "def collision(c1, c2, v1, v2, m1, m2):\n",
    "    \"\"\"Elastischer Stoß zwischen den Bällen 1 und 2.\n",
    "    \n",
    "    Parameter:\n",
    "        c1: Position des ersten Balls.\n",
    "        v1: Geschwindigkeit des ersten Balls.\n",
    "        c2: Position des zweiten Balls.\n",
    "        v1: Geschwindigkeit des zweiten Balls.\n",
    "        m1: Masse des ersten Balls.\n",
    "        m2: Masse des zweiten Balls.\n",
    "    Returns:\n",
    "        tuple mit den neuen Geschwinigkeiten der Bälle nach einer Kollission.\n",
    "    \"\"\"\n",
    "    # Vektor mit relativen Geschwindikeiten und Positionen\n",
    "    delta_v = v1-v2\n",
    "    delta_c = c1-c2\n",
    "    \n",
    "    # Skalarprodukt von delta_v und delta_c\n",
    "    dot_product = np.dot(delta_v, delta_c)\n",
    "    \n",
    "    # Normierung des Positionsvektors\n",
    "    norm_squared = np.linalg.norm(delta_c)**2\n",
    "    \n",
    "    # Berechnung der neuen Geschwindigkeiten\n",
    "    v1_new = v1 - (2 * m2 / (m1 + m2)) * (dot_product / norm_squared) * delta_c\n",
    "    v2_new = v2 + (2 * m1 / (m1 + m2)) * (dot_product / norm_squared) * delta_c\n",
    "    \n",
    "    \n",
    "    return v1_new, v2_new\n",
    "\n",
    "\n",
    "def test_collision(case):\n",
    "    # Online simulator\n",
    "    # https://phet.colorado.edu/sims/html/collision-lab/latest/collision-lab_all.html\n",
    "    if case == \"x\":\n",
    "        c1 = np.array([1, 1])\n",
    "        c2 = np.array([2, 1])\n",
    "        v1 = np.array([1, 0])\n",
    "        v2 = np.array([-1, 0])\n",
    "    if case == \"y\":\n",
    "        c1 = np.array([1, 1])\n",
    "        c2 = np.array([1, 2])\n",
    "        v1 = np.array([0, 1])\n",
    "        v2 = np.array([0, -1])\n",
    "    if case == \"diagonal\":\n",
    "        c1 = np.array([1, 1])\n",
    "        c2 = np.array([2, 2])\n",
    "        v1 = np.array([1, 1])\n",
    "        v2 = np.array([0, 0])\n",
    "    if case == \"custom\":\n",
    "        c1 = np.array([1, 1])\n",
    "        c2 = np.array([2, 3])\n",
    "        v1 = np.array([1, 1])\n",
    "        v2 = np.array([0, -1])\n",
    "    v1_new, v2_new = collision(c1, c2, v1, v2, 1, 1)\n",
    "    assert np.allclose(np.abs(v2 - v1), np.abs(v2_new - v1_new))\n",
    "    print(f\"{v1=}, {v2=}, {v1_new=}, {v2_new=}\")\n",
    "\n",
    "    # different mass\n",
    "    v1_new, v2_new = collision(c1, c2, v1, v2, 1, 20)\n",
    "    assert np.allclose(np.abs(v2 - v1), np.abs(v2_new - v1_new))\n",
    "    print(f\"{v1=}, {v2=}, {v1_new=}, {v2_new=}\")\n",
    "\n",
    "\n",
    "test_collision(case=\"x\")\n",
    "test_collision(case=\"y\")\n",
    "test_collision(case=\"diagonal\")\n",
    "test_collision(case=\"custom\")"
   ]
  },
  {
   "cell_type": "markdown",
   "metadata": {
    "deletable": false,
    "editable": false
   },
   "source": [
    "<!-- END QUESTION -->\n",
    "\n",
    "<!-- BEGIN QUESTION -->\n",
    "\n",
    "**Aufgabe:** Nun wollen wir eine Funktion implementieren, die alle möglichen Kollisionen in einem Zeitschritt erfasst und die neuen Geschwindigkeiten der Bälle berechnet – und zwar möglichst effizient. \n",
    "\n",
    "Dafür sollten Sie die folgenden Dinge beachten:\n",
    "1. Es macht nicht für alle Ballpaare sinnvoll alle vier Zwischenzeitschritte zu berechnen. Testen Sie daher zunächst, ob sich zwei Bälle bereits näher als $ 8 \\cdot r $ sind.\n",
    "2. Sie können annehmen, dass sich der Ball bis zum Zwischenschritt, in dem die Kollision berechnet wird, mit der alten Geschwindigkeit bewegt, danach mit der neuen. Implementieren Sie dies entsprechend. Achten Sie auch darauf, dass ein Ball, für den eine Kollision berechnet wurde, im selben Zeitschritt keine vollständige Bewegung für $ \\Delta t $ mehr macht.\n",
    "3. Es kann leicht passieren, dass zwei Bälle, die in einem Zeitschritt kollidieren, es nicht schaffen, sich während des Zeitschritts weit genug aufeinander zu bewegen, sodass sie im folgenden Zeitschritt wieder miteinander kollidieren. Das kann dann dazu führen, dass die Bälle sich umkreisen. Um das zu verhindern, verwenden wir eine Maske (`mask`), die dafür sorgt, dass zwei Bälle nicht in zwei (oder mehr) aufeinanderfolgenden Zeitschritten miteinander kollidieren können.\n",
    "\n",
    "Anmerkung: Die Situation, dass mehrere Bälle gleichzeitig, in einem Zeitschritt kollidieren, kann hier vereinfacht ignoriert werden.\n",
    "\n",
    "_Points:_ 10"
   ]
  },
  {
   "cell_type": "code",
   "execution_count": 5,
   "metadata": {
    "tags": []
   },
   "outputs": [],
   "source": [
    "def get_all_collisions(c, v, m, r, dt, mask):\n",
    "    \"\"\"\n",
    "    Erfasst alle möglichen Kollissionen in einem Zeitschritt und berechnet die neuen Geschwindigkeiten\n",
    "    der Bäle.\n",
    "    Parameter:\n",
    "        c: Positionen der Bälle als Array.\n",
    "        v: Geschwindigkeiten der Bälle als Array.\n",
    "        m: Massen der Bälle.\n",
    "        r: Radius der Bälle.\n",
    "        dt: Dauer eines Zeitschritts.\n",
    "        mask: Maske zur Vermeidung von wiederholten Kollissionen als Array.\n",
    "    Return: Tuple mit neuen Geschwinigkeiten der beteiligten Bälle.\n",
    "    \"\"\"\n",
    "    N = c.shape[0]\n",
    "    for i in range(N):\n",
    "        for j in range(i + 1, N):\n",
    "            if mask[i, j] > 0:\n",
    "                mask[i, j] -= 1\n",
    "                continue\n",
    "            if np.linalg.norm(c[i] - c[j]) < 8 * r:\n",
    "                if will_collide(c[i], v[i], c[j], v[j], r, dt):\n",
    "                    v[i], v[j] = collision(c[i], c[j], v[i], v[j], m[i], m[j])\n",
    "                    mask[i, j] = 1  # Kollisionen im nächsten Zeitschritt vermeiden!\n",
    "\n",
    "    # Aktualisiere Positionen nach dem Zeitschritt\n",
    "    c += v * dt\n",
    "    return c, v\n",
    "    \n",
    "    "
   ]
  },
  {
   "cell_type": "code",
   "execution_count": 6,
   "metadata": {
    "nbgrader": {
     "grade": false,
     "grade_id": "cell-dc2022a0f9e20ef2",
     "locked": false,
     "schema_version": 3,
     "solution": true,
     "task": false
    },
    "tags": []
   },
   "outputs": [
    {
     "name": "stdout",
     "output_type": "stream",
     "text": [
      "10.0\n"
     ]
    }
   ],
   "source": [
    "import numpy as np\n",
    "\n",
    "# Anfangsbedingungen (Vorschlag)\n",
    "g = np.array([0, -9.81], dtype=np.float64)\n",
    "xmax = 1000\n",
    "ymax = 1000\n",
    "steps = 2000\n",
    "dt = xmax * 1e-5\n",
    "# Anzahl Bälle\n",
    "N = 20\n",
    "\n",
    "# Durchmesser Ball\n",
    "r = xmax * dt\n",
    "print(r)\n",
    "rng = np.random.default_rng(seed=123)\n",
    "\n",
    "\n",
    "# Startpositionen\n",
    "def init(n=N):\n",
    "    c = xmax * rng.random((N, 2))\n",
    "    # Startgeschwindigkeiten, max.\n",
    "    v = np.array([xmax, ymax]) * rng.random((N, 2))\n",
    "    # Masse\n",
    "    m = np.full(N, 0.05)\n",
    "    mask = np.full((N, N), 0, np.int32)\n",
    "    return c, v, m, mask"
   ]
  },
  {
   "cell_type": "code",
   "execution_count": 10,
   "metadata": {},
   "outputs": [
    {
     "data": {
      "image/png": "[encoded data removed]",
      "text/plain": [
       "<Figure size 640x480 with 1 Axes>"
      ]
     },
     "metadata": {},
     "output_type": "display_data"
    }
   ],
   "source": [
    "# Initialisierung\n",
    "c, v, m, mask = init()\n",
    "\n",
    "# Ergebnisse speichern\n",
    "positions = [c.copy()]\n",
    "\n",
    "# Simulation\n",
    "for step in range(steps):\n",
    "    c, v = get_all_collisions(c, v, m, r, dt, mask)\n",
    "    positions.append(c.copy())\n",
    "\n",
    "import matplotlib.pyplot as plt\n",
    "import matplotlib.animation as animation\n",
    "    \n",
    "# Visualisierung der Bewegung der Bälle\n",
    "fig, ax = plt.subplots()\n",
    "ax.set_xlim(0, xmax)\n",
    "ax.set_ylim(0, ymax)\n",
    "scat = ax.scatter([], [])\n",
    "\n",
    "def init_plot():\n",
    "    scat.set_offsets(np.empty((0, 2)))\n",
    "    return scat,\n",
    "\n",
    "def update_plot(frame):\n",
    "    scat.set_offsets(positions[frame])\n",
    "    return scat,\n",
    "\n",
    "ani = animation.FuncAnimation(fig, update_plot, frames=len(positions), init_func=init_plot, blit=True, interval=dt*1000, repeat=False)"
   ]
  },
  {
   "cell_type": "markdown",
   "metadata": {
    "deletable": false,
    "editable": false
   },
   "source": [
    "<!-- END QUESTION -->\n",
    "\n",
    "<!-- BEGIN QUESTION -->\n",
    "\n",
    "**Aufgabe:** Implementieren Sie nun einen vollständigen Zeitschritt mit Kollisionen. \n",
    "\n",
    "_Points:_ 10"
   ]
  },
  {
   "cell_type": "code",
   "execution_count": 12,
   "metadata": {
    "nbgrader": {
     "grade": false,
     "grade_id": "cell-dc2022a0f9e20ef2",
     "locked": false,
     "schema_version": 3,
     "solution": true,
     "task": false
    },
    "tags": []
   },
   "outputs": [],
   "source": [
    "def timestep_with_collisions(c, v, m, dt, g, xmax, ymax, mask):\n",
    "    \"\"\"\n",
    "    Simulate a timestep for multiple balls with collisions.\n",
    "\n",
    "    Parameters:\n",
    "        c: Positionen der Bälle, shape (N, 2).\n",
    "        v: Geschwindigkeiten der Bälle, shape (N, 2).\n",
    "        m: Massen der Bälle, shape (N,).\n",
    "        dt: Dauer eines Zeitschritts.\n",
    "        g: Beschleunigung durch die Schwerkraft, shape (2,).\n",
    "        xmax: Maximale x-Koordinate der Box.\n",
    "        ymax: Maximale y-Koordinate der Box.\n",
    "        mask: Maske zur Vermeidung von wiederholten Kollisionen, shape (N, N).\n",
    "        \n",
    "    Returns:\n",
    "        tuple: Neue Positionen und Geschwindigkeiten der Bälle.\n",
    "    \"\"\"\n",
    "    # Update Geschwindigkeiten durch die Schwerkraft\n",
    "    v[:, 1] += g[1] * dt\n",
    "\n",
    "    # Berechne Kollisionen und aktualisiere Geschwindigkeiten\n",
    "    c, v = get_all_collisions(c, v, m, r, dt, mask)\n",
    "\n",
    "    # Update Positionen\n",
    "    c += v * dt\n",
    "\n",
    "    # Reflektiere die Bälle an den Wänden\n",
    "    mask_x_neg = c[:, 0] < 0\n",
    "    mask_x_pos = c[:, 0] > xmax\n",
    "    v[mask_x_neg | mask_x_pos, 0] = -v[mask_x_neg | mask_x_pos, 0]\n",
    "    c[mask_x_neg, 0] = -c[mask_x_neg, 0]\n",
    "    c[mask_x_pos, 0] = 2 * xmax - c[mask_x_pos, 0]\n",
    "\n",
    "    mask_y_neg = c[:, 1] < 0\n",
    "    mask_y_pos = c[:, 1] > ymax\n",
    "    v[mask_y_neg | mask_y_pos, 1] = -v[mask_y_neg | mask_y_pos, 1]\n",
    "    c[mask_y_neg, 1] = -c[mask_y_neg, 1]\n",
    "    c[mask_y_pos, 1] = 2 * ymax - c[mask_y_pos, 1]\n",
    "\n",
    "    return c, v\n"
   ]
  },
  {
   "cell_type": "code",
   "execution_count": 13,
   "metadata": {
    "tags": []
   },
   "outputs": [
    {
     "data": {
      "text/plain": [
       "(array([[532.78692735,  90.35694717],\n",
       "        [ 92.20316704, 696.35620316],\n",
       "        [972.28426601, 511.76000921],\n",
       "        [  8.54800794, 840.67139682],\n",
       "        [845.32622265, 351.36637837],\n",
       "        [685.67078893, 148.16653506],\n",
       "        [166.38494607, 726.01633226],\n",
       "        [515.23662798, 598.53210784],\n",
       "        [541.700366  , 940.59424029],\n",
       "        [805.82604886, 913.91838906],\n",
       "        [304.51662834, 987.75020184],\n",
       "        [831.25812929, 118.53619535],\n",
       "        [ 89.01259496, 192.87451473],\n",
       "        [343.18458093, 221.49690435],\n",
       "        [ 70.195278  , 460.75873181],\n",
       "        [265.68022614, 470.14051162],\n",
       "        [791.79530092, 340.85916825],\n",
       "        [ 46.88738353, 844.1401817 ],\n",
       "        [500.89775012, 259.78296194],\n",
       "        [945.618207  , 748.60858064]]),\n",
       " array([[421.70396425, 347.02563465],\n",
       "        [ 71.05178877, 285.55420418],\n",
       "        [715.82943107,  75.53677472],\n",
       "        [376.47794947, 591.47344299],\n",
       "        [739.95652385, 742.72441063],\n",
       "        [292.60787717, 329.14429508],\n",
       "        [157.34840026, 729.18974117],\n",
       "        [265.46956331, 480.32524119],\n",
       "        [899.72584043,   6.33086243],\n",
       "        [856.69346065, 739.7507388 ],\n",
       "        [645.15238123, 406.97914223],\n",
       "        [624.01842819, 948.49878673],\n",
       "        [ 95.2827932 ,  67.67384498],\n",
       "        [340.49703537, 102.95845653],\n",
       "        [917.75663419, 787.28011414],\n",
       "        [158.41830669, 373.52881494],\n",
       "        [415.39129172, 954.32480823],\n",
       "        [329.21975312, 480.11042095],\n",
       "        [528.96217557, 781.70517362],\n",
       "        [868.04464754, 670.67640564]]))"
      ]
     },
     "execution_count": 13,
     "metadata": {},
     "output_type": "execute_result"
    }
   ],
   "source": [
    "c, v, m, mask = init()\n",
    "timestep_with_collisions(c, v, m, dt, g, xmax, ymax, mask)"
   ]
  },
  {
   "cell_type": "markdown",
   "metadata": {
    "deletable": false,
    "editable": false
   },
   "source": [
    "<!-- END QUESTION -->\n",
    "\n",
    "<!-- BEGIN QUESTION -->\n",
    "\n",
    "**Aufgabe:** Animieren Sie die Bewegung der Bälle.\n",
    "\n",
    "Tipp: Trennen Sie Simulation und Visualisierung und visualisieren Sie z.B. nur jeden 100. Simulationsschritt. \n",
    "\n",
    "_Points:_ 5"
   ]
  },
  {
   "cell_type": "code",
   "execution_count": 14,
   "metadata": {
    "nbgrader": {
     "grade": false,
     "grade_id": "cell-5b3dd7949bee4f33",
     "locked": false,
     "schema_version": 3,
     "solution": true,
     "task": false
    },
    "tags": []
   },
   "outputs": [
    {
     "data": {
      "image/png": "[encoded data removed]",
      "text/plain": [
       "<Figure size 640x480 with 1 Axes>"
      ]
     },
     "metadata": {},
     "output_type": "display_data"
    }
   ],
   "source": [
    "# Simulation\n",
    "for step in range(steps):\n",
    "    c, v = timestep_with_collisions(c, v, m, dt, g, xmax, ymax, mask)\n",
    "    if step % 100 == 0:\n",
    "        positions.append(c.copy())\n",
    "\n",
    "# Visualisierung der Bewegung der Bälle\n",
    "fig, ax = plt.subplots()\n",
    "ax.set_xlim(0, xmax)\n",
    "ax.set_ylim(0, ymax)\n",
    "scat = ax.scatter([], [])\n",
    "\n",
    "def init_plot():\n",
    "    scat.set_offsets(np.empty((0, 2)))\n",
    "    return scat,\n",
    "\n",
    "def update_plot(frame):\n",
    "    scat.set_offsets(positions[frame])\n",
    "    return scat,\n",
    "\n",
    "ani = animation.FuncAnimation(fig, update_plot, frames=len(positions), init_func=init_plot, blit=True, interval=dt*1000, repeat=False)\n",
    "\n",
    "plt.show()"
   ]
  },
  {
   "cell_type": "markdown",
   "metadata": {
    "deletable": false,
    "editable": false
   },
   "source": [
    "<!-- END QUESTION -->\n",
    "\n",
    "<!-- BEGIN QUESTION -->\n",
    "\n",
    "**Aufgabe:** Analysieren Sie nun die Simulation mit Scalene. Was hat sich gegenüber der alten Version ohne die Kollisionen verändert? \n",
    "\n",
    "_Points:_ 5"
   ]
  },
  {
   "cell_type": "markdown",
   "metadata": {},
   "source": [
    "_Type your answer here, replacing this text._"
   ]
  },
  {
   "cell_type": "code",
   "execution_count": null,
   "metadata": {
    "tags": []
   },
   "outputs": [],
   "source": [
    "c, v, m, mask = init(10)"
   ]
  },
  {
   "cell_type": "code",
   "execution_count": null,
   "metadata": {
    "scrolled": true,
    "tags": []
   },
   "outputs": [],
   "source": [
    "%%scalene --cpu-sampling-rate 0.01\n",
    "..."
   ]
  },
  {
   "cell_type": "code",
   "execution_count": null,
   "metadata": {
    "tags": []
   },
   "outputs": [],
   "source": [
    "c, v, m, mask = init(300)"
   ]
  },
  {
   "cell_type": "code",
   "execution_count": null,
   "metadata": {
    "scrolled": true,
    "tags": []
   },
   "outputs": [],
   "source": [
    "%%scalene --cpu-sampling-rate 0.01\n",
    "..."
   ]
  },
  {
   "cell_type": "markdown",
   "metadata": {
    "deletable": false,
    "editable": false
   },
   "source": [
    "<!-- END QUESTION -->\n",
    "\n",
    "<!-- BEGIN QUESTION -->\n",
    "\n",
    "**Aufgabe:** Versuchen Sie Ihren Code (d.h. `timestep_with_collisions`) zu optimieren, damit er besser skaliert.\n",
    "\n",
    "Vergleichen Sie danach die Ausführungszeiten beider Varianten für 20 Zeitschritte mit $[100, 200,300]$ Bällen.\n",
    "\n",
    "Stellen Sie den Vergleich graphisch dar.\n",
    "\n",
    "_Points:_ 10"
   ]
  },
  {
   "cell_type": "code",
   "execution_count": null,
   "metadata": {
    "tags": []
   },
   "outputs": [],
   "source": [
    "## Optimized CODE\n",
    "import numba\n",
    "\n",
    "\n",
    "..."
   ]
  },
  {
   "cell_type": "code",
   "execution_count": null,
   "metadata": {
    "tags": []
   },
   "outputs": [],
   "source": [
    "c, v, m, mask = init()\n",
    "timestep_with_collisions_numba(c, v, m, dt, g, xmax, ymax, mask)"
   ]
  },
  {
   "cell_type": "code",
   "execution_count": null,
   "metadata": {
    "nbgrader": {
     "grade": false,
     "grade_id": "cell-1f2c0edc65c15a6c",
     "locked": false,
     "schema_version": 3,
     "solution": true,
     "task": false
    },
    "tags": []
   },
   "outputs": [],
   "source": [
    "..."
   ]
  },
  {
   "cell_type": "code",
   "execution_count": null,
   "metadata": {
    "nbgrader": {
     "grade": false,
     "grade_id": "cell-cf17d816ad788e2d",
     "locked": false,
     "schema_version": 3,
     "solution": true,
     "task": false
    },
    "tags": []
   },
   "outputs": [],
   "source": [
    "..."
   ]
  },
  {
   "cell_type": "markdown",
   "metadata": {
    "deletable": false,
    "editable": false
   },
   "source": [
    "<!-- END QUESTION -->\n",
    "\n",
    "## Optimierung des Gauß-Verfahrens (30 Punkte)"
   ]
  },
  {
   "cell_type": "markdown",
   "metadata": {
    "deletable": false,
    "editable": false
   },
   "source": [
    "<!-- BEGIN QUESTION -->\n",
    "\n",
    "**Aufgabe:** Optimieren Sie die Funktionen `lu_decomposition` und `custom_solve` aus der zweiten Einsendeaufgabe mit Hilfe von Numba.\n",
    "\n",
    "An welcher Stelle ist die Verwendung von `prange` richtig und sinnvoll? \n",
    "\n",
    "Vergleichen Sie die Performance vor und nach der Optimierung für Gleichungssysteme der Größe $256\\times 256 $ und $512 \\times 512$.\n",
    "\n",
    "Stellen Sie den Vergleich graphisch dar.\n",
    "\n",
    "_Points:_ 30"
   ]
  },
  {
   "cell_type": "code",
   "execution_count": null,
   "metadata": {
    "nbgrader": {
     "grade": false,
     "grade_id": "cell-3a39c9ed1929b1b8",
     "locked": false,
     "schema_version": 3,
     "solution": true,
     "task": false
    },
    "tags": []
   },
   "outputs": [],
   "source": [
    "..."
   ]
  },
  {
   "cell_type": "code",
   "execution_count": null,
   "metadata": {
    "nbgrader": {
     "grade": false,
     "grade_id": "cell-ac775203eb88ccb7",
     "locked": false,
     "schema_version": 3,
     "solution": true,
     "task": false
    },
    "tags": []
   },
   "outputs": [],
   "source": [
    "..."
   ]
  },
  {
   "cell_type": "markdown",
   "metadata": {
    "deletable": false,
    "editable": false
   },
   "source": [
    "<!-- END QUESTION -->\n",
    "\n",
    "Führen Sie alle Zellen im Notebook aus und speichern Sie es.  \n",
    "Danach können Sie mit der folgenden Zelle eine HTML-Datei erstellen.  \n",
    "Eine mögliche `UserWarning` können Sie ignorieren.  \n",
    "Bitte geben Sie das Notebook als `.ipynb` und `.html` Datei ab."
   ]
  },
  {
   "cell_type": "code",
   "execution_count": null,
   "metadata": {},
   "outputs": [],
   "source": [
    "#!jupyter nbconvert --to html EA3.ipynb"
   ]
  }
 ],
 "metadata": {
  "kernelspec": {
   "display_name": "Python 3 (ipykernel)",
   "language": "python",
   "name": "python3"
  },
  "language_info": {
   "codemirror_mode": {
    "name": "ipython",
    "version": 3
   },
   "file_extension": ".py",
   "mimetype": "text/x-python",
   "name": "python",
   "nbconvert_exporter": "python",
   "pygments_lexer": "ipython3",
   "version": "3.11.9"
  },
  "otter": {
   "OK_FORMAT": true,
   "assignment_name": "EA3",
   "tests": {
    "animation": {
     "name": "animation",
     "points": 5,
     "suites": [
      {
       "cases": [],
       "scored": true,
       "setup": "",
       "teardown": "",
       "type": "doctest"
      }
     ]
    },
    "collision": {
     "name": "collision",
     "points": 10,
     "suites": [
      {
       "cases": [],
       "scored": true,
       "setup": "",
       "teardown": "",
       "type": "doctest"
      }
     ]
    },
    "gauss": {
     "name": "gauss",
     "points": 30,
     "suites": [
      {
       "cases": [],
       "scored": true,
       "setup": "",
       "teardown": "",
       "type": "doctest"
      }
     ]
    },
    "get_all_collisions": {
     "name": "get_all_collisions",
     "points": 10,
     "suites": [
      {
       "cases": [],
       "scored": true,
       "setup": "",
       "teardown": "",
       "type": "doctest"
      }
     ]
    },
    "mandelbrot": {
     "name": "mandelbrot",
     "points": 7,
     "suites": [
      {
       "cases": [],
       "scored": true,
       "setup": "",
       "teardown": "",
       "type": "doctest"
      }
     ]
    },
    "mandelbrot_scalene": {
     "name": "mandelbrot_scalene",
     "points": 3,
     "suites": [
      {
       "cases": [],
       "scored": true,
       "setup": "",
       "teardown": "",
       "type": "doctest"
      }
     ]
    },
    "scalene_init": {
     "name": "scalene_init",
     "points": 5,
     "suites": [
      {
       "cases": [],
       "scored": true,
       "setup": "",
       "teardown": "",
       "type": "doctest"
      }
     ]
    },
    "timestep_with_collisions": {
     "name": "timestep_with_collisions",
     "points": 10,
     "suites": [
      {
       "cases": [],
       "scored": true,
       "setup": "",
       "teardown": "",
       "type": "doctest"
      }
     ]
    },
    "timestep_with_collisions_optimized": {
     "name": "timestep_with_collisions_optimized",
     "points": 10,
     "suites": [
      {
       "cases": [],
       "scored": true,
       "setup": "",
       "teardown": "",
       "type": "doctest"
      }
     ]
    },
    "will_collide": {
     "name": "will_collide",
     "points": 10,
     "suites": [
      {
       "cases": [
        {
         "code": ">>> v0 = np.array([1, 1])\n>>> v1 = np.array([-1, -1])\n>>> c0 = np.array([0, 0])\n>>> c1 = np.array([0, 1])\n>>> r = 0.5\n>>> dt = 1\n>>> assert will_collide(c0, v0, c1, v1, r, dt)\n>>> v0 = np.array([-1, -1])\n>>> c0 = np.array([1, 1])\n>>> assert not will_collide(c0, v0, c1, v1, r, dt)\n",
         "hidden": false,
         "locked": false
        }
       ],
       "scored": true,
       "setup": "",
       "teardown": "",
       "type": "doctest"
      }
     ]
    }
   }
  }
 },
 "nbformat": 4,
 "nbformat_minor": 4
}
