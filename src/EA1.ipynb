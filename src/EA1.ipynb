{
 "cells": [
  {
   "cell_type": "markdown",
   "id": "a8b3375c-690d-4cc3-b82b-f18cf1b02069",
   "metadata": {},
   "source": [
    "# Einsendeaufgabe 1: Numerische Genauigkeit und Gleichungssysteme (100 Punkte)\n",
    "In dieser Aufgabe sollen Sie ein wenig mehr Erfahrung mit NumPy und numerischen Methoden gewinnen.  \n",
    "Zur Erinnerung empfehle ich an dieser Stelle, die Definition der [IEEE-Fließkommazahlen](https://de.wikipedia.org/wiki/IEEE_754) zu wiederholen.  "
   ]
  },
  {
   "cell_type": "markdown",
   "id": "fc24fc52-f1bc-4378-8023-f0cb1c9607d5",
   "metadata": {},
   "source": [
    "## Addition von Zahlen (20 Punkte) \n",
    "\n",
    "Gegeben sei ein Array *array*, dass 100 mal die Zahl $10^{-16}$ enthält und einmal (als ersten Eintrag) die Zahl $1$. "
   ]
  },
  {
   "cell_type": "code",
   "execution_count": 1,
   "id": "080a3fb8-9b98-4017-b6ba-3895321b8431",
   "metadata": {
    "pycharm": {
     "is_executing": true
    }
   },
   "outputs": [
    {
     "name": "stdout",
     "output_type": "stream",
     "text": [
      "[1.e+00 1.e-16 1.e-16 1.e-16 1.e-16 1.e-16 1.e-16 1.e-16 1.e-16 1.e-16\n",
      " 1.e-16 1.e-16 1.e-16 1.e-16 1.e-16 1.e-16 1.e-16 1.e-16 1.e-16 1.e-16\n",
      " 1.e-16 1.e-16 1.e-16 1.e-16 1.e-16 1.e-16 1.e-16 1.e-16 1.e-16 1.e-16\n",
      " 1.e-16 1.e-16 1.e-16 1.e-16 1.e-16 1.e-16 1.e-16 1.e-16 1.e-16 1.e-16\n",
      " 1.e-16 1.e-16 1.e-16 1.e-16 1.e-16 1.e-16 1.e-16 1.e-16 1.e-16 1.e-16\n",
      " 1.e-16 1.e-16 1.e-16 1.e-16 1.e-16 1.e-16 1.e-16 1.e-16 1.e-16 1.e-16\n",
      " 1.e-16 1.e-16 1.e-16 1.e-16 1.e-16 1.e-16 1.e-16 1.e-16 1.e-16 1.e-16\n",
      " 1.e-16 1.e-16 1.e-16 1.e-16 1.e-16 1.e-16 1.e-16 1.e-16 1.e-16 1.e-16\n",
      " 1.e-16 1.e-16 1.e-16 1.e-16 1.e-16 1.e-16 1.e-16 1.e-16 1.e-16 1.e-16\n",
      " 1.e-16 1.e-16 1.e-16 1.e-16 1.e-16 1.e-16 1.e-16 1.e-16 1.e-16 1.e-16\n",
      " 1.e-16]\n"
     ]
    }
   ],
   "source": [
    "import numpy as np\n",
    "\n",
    "array = np.concatenate(([1], np.full(100, 1e-16)))\n",
    "print(array)"
   ]
  },
  {
   "cell_type": "markdown",
   "id": "1f63e85a-028f-4b9f-aacb-2879fee0fd99",
   "metadata": {
    "deletable": false,
    "editable": false
   },
   "source": [
    "**Aufgabe:** Addieren Sie alle Werte in `array`:\n",
    "- mit der Funktion `np.sum()`\n",
    "- mit einer Schleife, die von **vorne nach hinten** über `array` iteriert\n",
    "- mit einer Schleife, die von **hinten nach vorne** über `array` iteriert\n",
    "\n",
    "_Points:_ 6"
   ]
  },
  {
   "cell_type": "code",
   "execution_count": 2,
   "id": "11b6c189-e0ee-411a-8f83-b804db3527d8",
   "metadata": {
    "tags": []
   },
   "outputs": [
    {
     "name": "stdout",
     "output_type": "stream",
     "text": [
      "sum_numpy=1.0000000000000084\n",
      "sum_forward=1.0\n",
      "sum_reverse=1.00000000000001\n"
     ]
    }
   ],
   "source": [
    "sum_numpy = np.sum(array)\n",
    "print(f\"{sum_numpy=}\")\n",
    "\n",
    "sum_forward = 0\n",
    "for num in array:\n",
    "    sum_forward += num\n",
    "print(f\"{sum_forward=}\")\n",
    "\n",
    "sum_reverse = 0\n",
    "for num in reversed(array):\n",
    "    sum_reverse += num\n",
    "print(f\"{sum_reverse=}\")"
   ]
  },
  {
   "cell_type": "markdown",
   "id": "8ea8b6ef-4687-47e5-9aa8-8c77d5e8d1bd",
   "metadata": {
    "deletable": false,
    "editable": false
   },
   "source": [
    "<!-- BEGIN QUESTION -->\n",
    "\n",
    "**Aufgabe:** Erklären Sie die Ergebnisse. Wie werden die Zahlen 1 und 1e-17 im Computer dargestellt? (ausführliche Erläuterung erforderlich!)  \n",
    "\n",
    "_Points:_ 12"
   ]
  },
  {
   "cell_type": "markdown",
   "id": "1e370a6b",
   "metadata": {},
   "source": [
    "In den meisten moderenen Computer-Architekturen werden Fließkommazahlen (Float) im Sinne des IEEE 754 Standard repräsentiert.\n",
    "Floats werden oBdA in 64 bits repräsentiert:\n",
    "- Sign bit: Zahls ist negativ oder positiv\n",
    "- Exponent: 11 Bits die die Größenordung der Zahl angeben\n",
    "- Mantissa: 52 bits die wesentliche Ziffern der Zahl repräsentieren\n",
    "Der Wert einer Fließkommazahl in diesem Format kann mit der folgenden Funktion ermittelt werden:"
   ]
  },
  {
   "cell_type": "code",
   "execution_count": 3,
   "id": "3a0fd3a9-2fdc-4836-8bfe-e0d4c5ed0d92",
   "metadata": {},
   "outputs": [],
   "source": [
    "def ieee_754_to_float(sign, exponent, mantissa):\n",
    "    exponent_value = exponent - 1023\n",
    "    mantissa_value = 1 + mantissa / (2**52)\n",
    "    float_value = (-1)**sign * mantissa_value * (2**exponent_value)\n",
    "    return float_value"
   ]
  },
  {
   "cell_type": "markdown",
   "id": "5bdd2584-179b-4865-8f3a-6c52664a20a9",
   "metadata": {},
   "source": [
    "$10^{-16}$ ist eine sehr kleine Zahl, nahe dem Präzessions-Limit von Fließkommazahlen.\n",
    "Die exakte Darstellung der Zahl im binären Format mit 64 bits ist auch für einen modernen Computer \n",
    "sehr herausfordernd und kann zu Rundungsfehlern führen."
   ]
  },
  {
   "cell_type": "markdown",
   "id": "0bb8c677-a5e2-49df-9a00-97d8ecc6536e",
   "metadata": {
    "deletable": false,
    "editable": false
   },
   "source": [
    "<!-- END QUESTION -->\n",
    "\n",
    "<!-- BEGIN QUESTION -->\n",
    "\n",
    "**Aufgabe:** Welches Verfahren verwendet `np.sum()` für die Addition?\n",
    "\n",
    "_Points:_ 2"
   ]
  },
  {
   "cell_type": "markdown",
   "id": "d2438cc1",
   "metadata": {},
   "source": [
    "Rekursive Paarweise Summierung"
   ]
  },
  {
   "cell_type": "markdown",
   "id": "de34b329-a7e0-444a-89aa-a5c78bc173a2",
   "metadata": {
    "deletable": false,
    "editable": false
   },
   "source": [
    "<!-- END QUESTION -->\n",
    "\n",
    "## Grenzwerte von Funktionen (20 Punkte)"
   ]
  },
  {
   "cell_type": "markdown",
   "id": "e8379ade-6a5d-40a1-bed4-586675cc0d29",
   "metadata": {
    "deletable": false,
    "editable": false
   },
   "source": [
    "Geben sei die Funktion $f(x)=\\frac{e^x-1}{x}$\n",
    "\n",
    "Es gilt: $lim_{x \\to 0}f(x) = 1$\n",
    "\n",
    "**Aufgabe:** Schreiben Sie eine Python Funktion `f(x)`, mit deren Hilfe Sie $f(x)$ für $x= 10^{-1}, 10^{-2}, \\cdots , 10^{-15}$ mit NumPy berechnen und geben Sie das Ergebnis aus.\n",
    "\n",
    "_Points:_ 8"
   ]
  },
  {
   "cell_type": "code",
   "execution_count": 4,
   "id": "f5619384-8fab-4a57-8f30-73de2922dd89",
   "metadata": {
    "nbgrader": {
     "grade": false,
     "grade_id": "cell-d5ed715a9745e7d6",
     "locked": false,
     "schema_version": 3,
     "solution": true,
     "task": false
    },
    "scrolled": true,
    "tags": []
   },
   "outputs": [
    {
     "name": "stdout",
     "output_type": "stream",
     "text": [
      "result_limits=[1.0517091807564771, 1.005016708416795, 1.0005001667083846, 1.000050001667141, 1.000005000006965, 1.0000004999621837, 1.0000000494336803, 0.999999993922529, 1.000000082740371, 1.000000082740371, 1.000000082740371, 1.000088900582341, 0.9992007221626409, 0.9992007221626409, 1.1102230246251565]\n"
     ]
    }
   ],
   "source": [
    "def f(x):\n",
    "    return (np.exp(x) - 1) / x if x != 0 else 1.0\n",
    "\n",
    "\n",
    "input_numbers = [10**-i for i in range(1, 16)]\n",
    "result_limits = [f(x) for x in input_numbers]\n",
    "print(f\"{result_limits=}\")"
   ]
  },
  {
   "cell_type": "code",
   "execution_count": 7,
   "id": "57fcfa50-0942-4861-be87-914dea652464",
   "metadata": {
    "editable": true,
    "nbgrader": {
     "grade": false,
     "grade_id": "cell-86fd557d439b5a41",
     "locked": false,
     "schema_version": 3,
     "solution": true,
     "task": false
    },
    "slideshow": {
     "slide_type": ""
    },
    "tags": []
   },
   "outputs": [
    {
     "name": "stdout",
     "output_type": "stream",
     "text": [
      "result_limits_2=[1.0517091807564771, 1.005016708416795, 1.0005001667083846, 1.000050001667141, 1.000005000006965, 1.0000004999621837, 1.0000000494336803, 0.999999993922529, 1.000000082740371, 1.000000082740371, 1.000000082740371, 1.000088900582341, 0.9992007221626409, 0.9992007221626409, 1.1102230246251565]\n"
     ]
    }
   ],
   "source": [
    "input_numbers_2 = [10**-i for i in range(16, 21)]\n",
    "result_limits_2 = [f(x) for x in input_numbers]\n",
    "print(f\"{result_limits_2=}\")"
   ]
  },
  {
   "cell_type": "markdown",
   "id": "b8c3d7c4-f496-4dc3-90ef-0521b232b74a",
   "metadata": {
    "deletable": false,
    "editable": false
   },
   "source": [
    "<!-- BEGIN QUESTION -->\n",
    "\n",
    "**Aufgabe:** Was fällt auf? Welche Erklärung haben Sie für das Ergebnis? (Ausführliche Erklärung erforderlich) \n",
    "\n",
    "_Points:_ 12"
   ]
  },
  {
   "cell_type": "markdown",
   "id": "f7e29a11",
   "metadata": {},
   "source": [
    "_Type your answer here, replacing this text._"
   ]
  },
  {
   "cell_type": "markdown",
   "id": "fbebcba7-6b66-4460-b800-047e9637e160",
   "metadata": {
    "deletable": false,
    "editable": false
   },
   "source": [
    "<!-- END QUESTION -->\n",
    "\n",
    "## Gauß-Verfahren und LU-Zerlegung (60 Punkte) \n",
    "Obwohl man, wie wir sehen werden, lineare Gleichungssysteme einfach mit SciPy lösen kann, wollen wir in dieser Aufgabe  einmal selbst eine sogenannte LU-Zerlegung bzw. das Gauß-Verfahren implementieren. Außerdem werden wir diesen Code auch später noch verwenden, wenn wir uns mit Performance-Optimierung und Parallelisierung beschäftigen.\n",
    "\n",
    "Das Gauß-Verfahren ist ein wichtiges Verfahren zum Lösen von linearen Gleichungssystemen, wir gehen hier schrittweise mit der Implementierung vor."
   ]
  },
  {
   "cell_type": "markdown",
   "id": "042b609c-9e98-4b51-a92a-71fd72e1ac6c",
   "metadata": {
    "deletable": false,
    "editable": false
   },
   "source": [
    "**Aufgabe:** Implementieren Sie die Funktion `b_solve` zur Lösung einer Dreiecksgleichung der Form:\n",
    "\n",
    "$\\left[ {\\begin{array}{cccc} \n",
    "a_{11} & a_{12} & \\cdots & a_{1n}\\\\ \n",
    "0 & a_{22} & \\cdots & a_{2n}\\\\ \n",
    "\\vdots & \\vdots & \\ddots & \\vdots \\\\ \n",
    "0 & 0 & \\cdots & a_{nn}\\\\ \n",
    "\\end{array} } \\right] \\left[{\\begin{array}{c}  \n",
    "x_1\\\\ \n",
    "x_2\\\\ \n",
    "\\vdots\\\\ \n",
    "x_n\\\\ \n",
    "\\end{array}}\\right] =  \n",
    "\\left[{\\begin{array}{c}  \n",
    "b_1\\\\ \n",
    "b_2\\\\ \n",
    "\\vdots\\\\ \n",
    "b_n\\\\ \n",
    "\\end{array}}\\right]$ \n",
    "\n",
    "Hier beginnt man mit der Löung der letzten Zeile, denn es gilt:\n",
    "\n",
    "$x_n = b_n/a_{nn} $\n",
    "und dann\n",
    "\n",
    "$x_{n-1} =  (b_{n-1}-a_{(n-1),n}*x_{n})/a_{(n-1),(n-1)}$\n",
    "\n",
    "$x_{n-2} =  (b_{n-2}-(a_{(n-2),n}*x_{n}+a_{(n-2),(n-1)}*x_{n-1})/a_{(n-2),(n-2)}$\n",
    "\n",
    "\n",
    "*Hinweis*: Achten Sie darauf, dass ihr Code nicht nur korrekt, sondern auch effizient ist. \n",
    "\n",
    "_Points:_ 12"
   ]
  },
  {
   "cell_type": "code",
   "execution_count": 8,
   "id": "95406ab9-708c-4710-a0e4-c32a1bebd8c4",
   "metadata": {
    "nbgrader": {
     "grade": false,
     "grade_id": "cell-045bae77f313bff4",
     "locked": false,
     "schema_version": 3,
     "solution": true,
     "task": false
    },
    "tags": []
   },
   "outputs": [],
   "source": [
    "import numpy as np\n",
    "\n",
    "\n",
    "def b_solve(A, b):\n",
    "    \"\"\"Solve a system of linear equations A * x = b where A is an upper triangular matrix.\"\"\"\n",
    "    # Setup\n",
    "    n = len(b)\n",
    "    x = np.zeros(n)\n",
    "    \n",
    "    # Iterative calculations\n",
    "    for i in range(n-1, -1, -1):\n",
    "        if A[i, i] == 0:\n",
    "            raise ValueError(\"Matrix is singular.\")\n",
    "        sum_ax = 0\n",
    "        for j in range(i+1, n):\n",
    "            sum_ax += A[i, j] * x[j]\n",
    "        x[i] = (b[i] - sum_ax) / A[i, i]\n",
    "    \n",
    "    return x"
   ]
  },
  {
   "cell_type": "markdown",
   "id": "fe99d15b-1ef5-4c19-8384-624e451b45bd",
   "metadata": {
    "deletable": false,
    "editable": false
   },
   "source": [
    "**Aufgabe:** Implementieren Sie die LU-Zerlegung einer Matrix mit Pivotisierung.  \n",
    "Die Funktion `lu_decomposition` soll die Matrizen L und U berechnen.  \n",
    "Zu Beginn wird der Funktion eine Matrix A übergeben.  \n",
    "\n",
    "\n",
    "Implementieren Sie die Funktion \"in-place\", d.h. die Ergebnisse für L und U werden direkt in A geschrieben.  \n",
    "Dabei wird die ursprüngliche Matrix überschrieben.  \n",
    "Die Funktion gibt den Pivot-Vektor zurück, der die folgende Form haben sollte:\n",
    "\n",
    "$ \n",
    "P=\\left[{\\begin{array}{ccc} \n",
    "0 & 1& 0\\\\ \n",
    "0 & 0& 1\\\\ \n",
    "1 & 0& 0\\\\ \n",
    "\\end{array} } \\right] \\Rightarrow \\left[{\\begin{array}{c}  \n",
    "1\\\\ \n",
    "2\\\\ \n",
    "0\\\\ \n",
    "\\end{array}}\\right] \n",
    "$ \n",
    "\n",
    "D.h. es wird nur der Index des Wertes in jeder Zeile gespeichert, der nicht Null ist.\n",
    "\n",
    "Wenn man dies macht, kann man später für die Lösung einfach den Vektor `bc = b[P]` verwenden, um auch $b$ richtig zu pivotisieren.  \n",
    "\n",
    "Hinweise: \n",
    "- Die Pivot-Zeile lässt sich am einfachsten mit `np.argmax` finden. Die Zeile mit dem höchsten Betrag können Sie mit `np.abs` finden.\n",
    "\n",
    "- Tauschen zweier Elemente in einem NumPy Array: `v[[a, b]] = v[[b, a]]`\n",
    "\n",
    "- Versuchen Sie, die interne Vektorisierung von NumPy im Eliminationsschritt zu nutzen. Verwenden Sie dazu die Slicing-Syntax, um die innerste Schleife zu ersetzen.\n",
    "\n",
    "_Points:_ 15"
   ]
  },
  {
   "cell_type": "code",
   "execution_count": 9,
   "id": "7e01d874-1715-40b2-918f-be10435918b5",
   "metadata": {
    "nbgrader": {
     "grade": false,
     "grade_id": "cell-b482047b4df4ac5e",
     "locked": false,
     "schema_version": 3,
     "solution": true,
     "task": false
    },
    "tags": []
   },
   "outputs": [],
   "source": [
    "def lu_decomposition(A):\n",
    "    \"\"\"\n",
    "    Implement LU-Decomposition of a square matrix.\n",
    "    This function works in-place i.e. it stores information about L and U in A and returns the pivot vector.\n",
    "    \"\"\"\n",
    "    n = A.shape[0]\n",
    "    p = np.arange(n)  # Natural ordering\n",
    "\n",
    "    for i in range(n):\n",
    "        # Select the pivot index with the max. absolute value in column i\n",
    "        max_row = i + np.argmax(np.abs(A[i:n, i]))\n",
    "        \n",
    "        # Swap the current row with the pivot row in matrix A and pivot vecor p\n",
    "        if i != max_row:\n",
    "            A[[i, max_row], :] = A[[max_row, i], :]\n",
    "            p[[i, max_row]] = p[[max_row, i]]\n",
    "\n",
    "        # Perform the elimination below the diagnal\n",
    "        for j in range(i + 1, n):\n",
    "            A[j, i] /= A[i, i]  # Modify the factor (L part)\n",
    "            A[j, i+1:] -= A[j, i] * A[i, i+1:]  # Update remaining submatrix (U part)\n",
    "\n",
    "    return p"
   ]
  },
  {
   "cell_type": "markdown",
   "id": "07c84b58-28da-495c-a9e2-4e96ba537eb9",
   "metadata": {
    "deletable": false,
    "editable": false
   },
   "source": [
    "<!-- BEGIN QUESTION -->\n",
    "\n",
    "**Aufgabe:** Schreiben Sie eine Funktion `custom_solve`, welche mit Hilfe von `lu_decomposition` ein lineares Gleichungssystem der Form $A*x=b$ löst.  \n",
    "\n",
    "Hinweis: Versuchen Sie, die interne Vektorisierung von NumPy zu nutzen. Verwenden Sie dazu die Slicing-Syntax, um die innerste Schleife zu ersetzen.\n",
    "\n",
    "_Points:_ 12"
   ]
  },
  {
   "cell_type": "code",
   "execution_count": 10,
   "id": "ef6c6d07-df37-4011-b913-be1719ffb094",
   "metadata": {
    "nbgrader": {
     "grade": false,
     "grade_id": "cell-e08e49ee4f4639ff",
     "locked": false,
     "schema_version": 3,
     "solution": true,
     "task": false
    },
    "tags": []
   },
   "outputs": [],
   "source": [
    "def custom_solve(A, b):\n",
    "    \"\"\"Solve a system of linear equations A * x = b and return result vector x.\"\"\"\n",
    "    A = A.copy() # Use a copy of A to keep original Data\n",
    "    # Perform LU\n",
    "    p = lu_decomposition(A)\n",
    "    \n",
    "    # Pivot b using the pivot vector\n",
    "    b = b[p]\n",
    "    \n",
    "    n = A.shape[0]\n",
    "    x = np.zeros_like(b)\n",
    "    y = np.zeros_like(b)\n",
    "\n",
    "    # Fwd substitution to solve L * y = b\n",
    "    for i in range(n):\n",
    "        y[i] = b[i] - np.dot(A[i, :i], y[:i])\n",
    "\n",
    "    # Back substitution to solve U * x = y\n",
    "    for i in range(n-1, -1, -1):\n",
    "        x[i] = (y[i] - np.dot(A[i, i+1:], x[i+1:])) / A[i, i]\n",
    "\n",
    "    return x"
   ]
  },
  {
   "cell_type": "markdown",
   "id": "5907a29b-90dc-4efa-a124-5a246a1270c3",
   "metadata": {
    "deletable": false,
    "editable": false
   },
   "source": [
    "<!-- END QUESTION -->\n",
    "\n",
    "<!-- BEGIN QUESTION -->\n",
    "\n",
    "**Aufgabe:** Schreiben Sie eine Testfunktion, die überprüft, ob die Lösung ihrer Implementierung des Gauß-Verfahrens richtig ist.  \n",
    "Testen Sie Gleichungssysteme der Größe $16 \\times 16$, $32\\times 32$ und $64 \\times 64$.\n",
    "\n",
    "Sie können zum Vergleich die SciPy Funktion `linalg.solve` verwenden:\n",
    "\n",
    "_Points:_ 6"
   ]
  },
  {
   "cell_type": "code",
   "execution_count": 11,
   "id": "6c638640-acfa-48e8-a683-46f0ae9c50a5",
   "metadata": {
    "deletable": false,
    "editable": false
   },
   "outputs": [],
   "source": [
    "# Beispiel linalg\n",
    "import scipy.linalg as linalg\n",
    "\n",
    "n = 128\n",
    "rng = np.random.default_rng(seed=123)\n",
    "A = rng.random((n, n))\n",
    "b = rng.random(n)\n",
    "c = linalg.solve(A, b)"
   ]
  },
  {
   "cell_type": "code",
   "execution_count": 12,
   "id": "e5fb20a9-a354-4b3d-8890-8870d825d730",
   "metadata": {
    "nbgrader": {
     "grade": false,
     "grade_id": "cell-f6a6bc3ba063c4a4",
     "locked": false,
     "schema_version": 3,
     "solution": true,
     "task": false
    },
    "tags": []
   },
   "outputs": [],
   "source": [
    "import scipy.linalg as linalg\n",
    "\n",
    "# test different dimensions\n",
    "def test_solve():\n",
    "    sizes = [16, 32, 64]\n",
    "    rng = np.random.default_rng(seed=123)\n",
    "    \n",
    "    for size in sizes:\n",
    "        A = rng.random((size, size))\n",
    "        b = rng.random(size)\n",
    "\n",
    "        # custom solver\n",
    "        x_custom = custom_solve(A, b)\n",
    "        # scipy.linalg.solve\n",
    "        x_scipy = linalg.solve(A, b)\n",
    "\n",
    "        # Norm of the difference of the solutions\n",
    "        diff = np.linalg.norm(x_custom - x_scipy)\n",
    "        print(f\"Size: {size}x{size} - Norm of difference: {diff}\")"
   ]
  },
  {
   "cell_type": "code",
   "execution_count": 13,
   "id": "96ac9eca-853c-41e2-9551-cd33c7b786a0",
   "metadata": {},
   "outputs": [
    {
     "name": "stdout",
     "output_type": "stream",
     "text": [
      "Size: 16x16 - Norm of difference: 1.4045319291999208e-14\n",
      "Size: 32x32 - Norm of difference: 3.8570912044911315e-14\n",
      "Size: 64x64 - Norm of difference: 2.3563871603039596e-13\n"
     ]
    }
   ],
   "source": [
    "test_solve()"
   ]
  },
  {
   "cell_type": "markdown",
   "id": "e97554ab-09a1-43cb-961e-07fbe305d009",
   "metadata": {
    "deletable": false,
    "editable": false
   },
   "source": [
    "<!-- END QUESTION -->\n",
    "\n",
    "**Aufgabe:** Wir wollen nun weiter die *fertigen* SciPy Funktionen betrachten. Mit den Funktionen `lu` und `lu_factor` aus dem Packet `scipy.linalg `  können Sie eine LU-Dekomposition durchführen [[1]](https://docs.scipy.org/doc/scipy/reference/generated/scipy.linalg.lu_factor.html#scipy.linalg.lu_factor) und [[2]](https://docs.scipy.org/doc/scipy/reference/generated/scipy.linalg.lu.html).  \n",
    "Beide Funktionen haben unter anderem den Parameter `overwrite_a`, der `False` oder `True` sein kann. \n",
    "\n",
    "Evaluieren Sie die Performance (Laufzeit) der LU-Zerlegung einer 4096x4096 Matrix, wenn Sie jeweils die Funktionen `lu_factor` und `lu` mit `overwrite_a = True` oder `overwrite_a = False` verwenden.\n",
    "\n",
    "In der Liste `minimums` sollen die minimalen Laufzeiten in folgender Reihenfolge stehen:\n",
    "1. `lu_factor` mit `overwrite_a = False`\n",
    "2. `lu_factor` mit `overwrite_a = True`\n",
    "3. `lu` mit `overwrite_a = False`\n",
    "4. `lu` mit `overwrite_a = True`\n",
    "\n",
    "Hinweis: Da die Matrix A bei der Verwendung von `overwrite_a = True` verändert wird, kann es zu einer Vereinfachung der Berechnung kommen, wenn die Funktion mehrfach nacheinander ausgeführt wird. Aus diesem Grund muss die `timeit` Funktion [repeat](https://docs.python.org/3/library/timeit.html#timeit.repeat) mit `repeat = 2` und `number = 1`  verwendet werden. Die Matrix wird im `setup` Parameter erstellt (aus Zufallswerten mit dem vorgegebenen \"random number generator\").\n",
    "\n",
    "_Points:_ 6"
   ]
  },
  {
   "cell_type": "code",
   "execution_count": 14,
   "id": "3b6bc562-608a-4f7e-b2a3-2f63d0447f85",
   "metadata": {
    "nbgrader": {
     "grade": false,
     "grade_id": "cell-5978db060fba8a0d",
     "locked": false,
     "schema_version": 3,
     "solution": true,
     "task": false
    },
    "tags": []
   },
   "outputs": [],
   "source": [
    "from scipy.linalg import lu_factor, lu\n",
    "from timeit import repeat\n",
    "\n",
    "n = 4096 # Matrix: 4096x4096\n",
    "number = 1\n",
    "repetitions = 2\n",
    "# store all four minimal runtimes in this list\n",
    "minimums = []\n",
    "rng = np.random.default_rng(seed=123)"
   ]
  },
  {
   "cell_type": "code",
   "execution_count": 15,
   "id": "e866d02a-015a-4155-ac29-581981f4aeb8",
   "metadata": {},
   "outputs": [
    {
     "data": {
      "text/plain": [
       "array([[0.68235186, 0.05382102, 0.22035987, ..., 0.33685154, 0.42171926,\n",
       "        0.68634679],\n",
       "       [0.16037319, 0.39680471, 0.56063436, ..., 0.24727999, 0.78631072,\n",
       "        0.13823181],\n",
       "       [0.88854304, 0.47116631, 0.65595772, ..., 0.82424156, 0.81338266,\n",
       "        0.96395207],\n",
       "       ...,\n",
       "       [0.59107149, 0.67920093, 0.81553295, ..., 0.6467052 , 0.9576259 ,\n",
       "        0.8987389 ],\n",
       "       [0.41556502, 0.57935074, 0.14038325, ..., 0.88117271, 0.85576105,\n",
       "        0.31965922],\n",
       "       [0.73999952, 0.7111939 , 0.83864583, ..., 0.46134872, 0.11746248,\n",
       "        0.87723509]])"
      ]
     },
     "execution_count": 15,
     "metadata": {},
     "output_type": "execute_result"
    }
   ],
   "source": [
    "# create a 4096x4096 matrix\n",
    "A = rng.random((n,n))\n",
    "A"
   ]
  },
  {
   "cell_type": "code",
   "execution_count": 16,
   "id": "23d0a30b-ef30-4b6d-b363-a039b8525977",
   "metadata": {},
   "outputs": [
    {
     "data": {
      "text/plain": [
       "[0.8741143730003387]"
      ]
     },
     "execution_count": 16,
     "metadata": {},
     "output_type": "execute_result"
    }
   ],
   "source": [
    "# lu_factor mit overwrite_a = False\n",
    "setup_code = \"from scipy.linalg import lu_factor; import numpy as np; rng = np.random.default_rng(seed=123); A = rng.random((4096, 4096))\"\n",
    "test_code = \"lu_factor(A, overwrite_a=False)\"\n",
    "min_time = min(repeat(stmt=test_code, setup=setup_code, repeat=repetitions, number=number))\n",
    "minimums.append(min_time)\n",
    "minimums"
   ]
  },
  {
   "cell_type": "code",
   "execution_count": 17,
   "id": "e27b5ac5-c1d0-472f-a4e9-9d6754849a5d",
   "metadata": {},
   "outputs": [
    {
     "data": {
      "text/plain": [
       "[0.8741143730003387, 0.6791798719932558]"
      ]
     },
     "execution_count": 17,
     "metadata": {},
     "output_type": "execute_result"
    }
   ],
   "source": [
    "# lu_factor mit overwrite_a = True\n",
    "test_code = \"lu_factor(A, overwrite_a=True)\"\n",
    "min_time = min(repeat(stmt=test_code, setup=setup_code, repeat=repetitions, number=number))\n",
    "minimums.append(min_time)\n",
    "minimums"
   ]
  },
  {
   "cell_type": "code",
   "execution_count": 18,
   "id": "cf821abe-6f6b-48e4-9f7a-e1bdd49468f0",
   "metadata": {},
   "outputs": [
    {
     "data": {
      "text/plain": [
       "[0.8741143730003387, 0.6791798719932558, 1.1892444280019845]"
      ]
     },
     "execution_count": 18,
     "metadata": {},
     "output_type": "execute_result"
    }
   ],
   "source": [
    "# lu mit overwrite_a = False\n",
    "setup_code = \"from scipy.linalg import lu; import numpy as np; rng = np.random.default_rng(seed=123); A = rng.random((4096, 4096))\"\n",
    "test_code = \"lu(A, overwrite_a=False)\"\n",
    "min_time = min(repeat(stmt=test_code, setup=setup_code, repeat=repetitions, number=number))\n",
    "minimums.append(min_time)\n",
    "minimums"
   ]
  },
  {
   "cell_type": "code",
   "execution_count": 19,
   "id": "ab1e00ba-dece-4ad2-a6f4-98f355f12a11",
   "metadata": {},
   "outputs": [
    {
     "data": {
      "text/plain": [
       "[0.8741143730003387,\n",
       " 0.6791798719932558,\n",
       " 1.1892444280019845,\n",
       " 1.0395183880027616]"
      ]
     },
     "execution_count": 19,
     "metadata": {},
     "output_type": "execute_result"
    }
   ],
   "source": [
    "# lu mit overwrite_a = True\n",
    "test_code = \"lu(A, overwrite_a=True)\"\n",
    "min_time = min(repeat(stmt=test_code, setup=setup_code, repeat=repetitions, number=number))\n",
    "minimums.append(min_time)\n",
    "minimums"
   ]
  },
  {
   "cell_type": "markdown",
   "id": "0c447785-1c5f-42ae-a1cb-d7cce6c3e45a",
   "metadata": {
    "deletable": false,
    "editable": false
   },
   "source": [
    "**Aufgabe:** Untersuchen Sie den Speicherverbrauch der 4 Varianten mit memray.\n",
    "\n",
    "Um den Einfluss der anderen Berechnungen zu minimieren, empfehlen wir hier, die Berechnungen in eine neue Datei zu schreiben und mit `!` in einer Code-Zelle memray's Command-Line Interface zu verwenden. \n",
    "\n",
    "Am besten tracen Sie nur die LU Funktion mit einem Context Manager!\n",
    "Verwenden Sie jeweils folgende Dateinamen als `file_name` Parameter in `memray.Tracker`:\n",
    "\n",
    "- lu_inplace.bin\n",
    "- lu_notinplace.bin\n",
    "- lu_factor_inplace.bin\n",
    "- lu_factor_notinplace.bin\n",
    "\n",
    "Beantworten Sie bitte die folgenden Fragen:\n",
    "* Welche Version verwendet am meisten Speicher? \n",
    "* Bei welcher Version ist der Speicherverbrauch am konstantesten? \n",
    "\n",
    "_Points:_ 9"
   ]
  },
  {
   "cell_type": "code",
   "execution_count": 32,
   "id": "e1f13582-71a9-4c1a-81fc-d400598964a3",
   "metadata": {
    "tags": []
   },
   "outputs": [
    {
     "name": "stdout",
     "output_type": "stream",
     "text": [
      "Overwriting lu_inplace.py\n"
     ]
    }
   ],
   "source": [
    "%%file lu_inplace.py\n",
    "import memray\n",
    "import numpy as np\n",
    "from scipy.linalg import lu\n",
    "\n",
    "n = 4096\n",
    "rng = np.random.default_rng(seed=123)\n",
    "A = rng.random((n,n))\n",
    "\n",
    "# use context manager\n",
    "with memray.Tracker(\"lu_inplace.bin\"):\n",
    "    lu(A, overwrite_a=True)"
   ]
  },
  {
   "cell_type": "code",
   "execution_count": 35,
   "id": "15c95a8e-c10e-4af1-bf51-70e2c463046e",
   "metadata": {
    "tags": []
   },
   "outputs": [
    {
     "name": "stdout",
     "output_type": "stream",
     "text": [
      "Overwriting lu_notinplace.py\n"
     ]
    }
   ],
   "source": [
    "%%file lu_notinplace.py\n",
    "import memray\n",
    "import numpy as np\n",
    "from scipy.linalg import lu\n",
    "\n",
    "n = 4096\n",
    "rng = np.random.default_rng(seed=123)\n",
    "A = rng.random((n,n))\n",
    "\n",
    "with memray.Tracker(\"lu_notinplace.bin\"):\n",
    "    lu(A, overwrite_a=False)"
   ]
  },
  {
   "cell_type": "code",
   "execution_count": 22,
   "id": "0e370c43-116f-4218-b38e-bfc15dc250ae",
   "metadata": {
    "tags": []
   },
   "outputs": [
    {
     "name": "stdout",
     "output_type": "stream",
     "text": [
      "Writing lu_factor_inplace.py\n"
     ]
    }
   ],
   "source": [
    "%%file lu_factor_inplace.py\n",
    "import memray\n",
    "import numpy as np\n",
    "from scipy.linalg import lu_factor\n",
    "\n",
    "n = 4096\n",
    "rng = np.random.default_rng(seed=123)\n",
    "A = rng.random((n,n))\n",
    "\n",
    "with memray.Tracker(\"lu_factor_inplace.bin\"):\n",
    "    lu_factor(A, overwrite_a=True)"
   ]
  },
  {
   "cell_type": "code",
   "execution_count": 23,
   "id": "ba834e49-d262-45d1-9bcc-737a07f2ab49",
   "metadata": {
    "tags": []
   },
   "outputs": [
    {
     "name": "stdout",
     "output_type": "stream",
     "text": [
      "Writing lu_factor_notinplace.py\n"
     ]
    }
   ],
   "source": [
    "%%file lu_factor_notinplace.py\n",
    "import memray\n",
    "import numpy as np\n",
    "from scipy.linalg import lu_factor\n",
    "\n",
    "n = 4096\n",
    "rng = np.random.default_rng(seed=123)\n",
    "A = rng.random((n,n))\n",
    "\n",
    "with memray.Tracker(\"lu_factor_not_inplace.bin\"):\n",
    "    lu_factor(A, overwrite_a=False)"
   ]
  },
  {
   "cell_type": "code",
   "execution_count": 34,
   "id": "9589f383-a893-4d90-93ae-c2b1f44e5d36",
   "metadata": {
    "tags": []
   },
   "outputs": [],
   "source": [
    "!python lu_inplace.py"
   ]
  },
  {
   "cell_type": "code",
   "execution_count": 30,
   "id": "288d9014-5556-4dc2-9eeb-d3c00f39fb23",
   "metadata": {},
   "outputs": [
    {
     "name": "stdout",
     "output_type": "stream",
     "text": [
      "python: can't open file '/home/jovyan/work/lu_inplace.bin': [Errno 2] No such file or directory\n"
     ]
    }
   ],
   "source": [
    "!python lu_inplace.bin"
   ]
  },
  {
   "cell_type": "code",
   "execution_count": null,
   "id": "bc8585e8-4885-4e0a-a4e6-39f87508fd36",
   "metadata": {},
   "outputs": [],
   "source": [
    "!memray run lu_notinplace.py"
   ]
  },
  {
   "cell_type": "code",
   "execution_count": null,
   "id": "8e1d3357-66c6-427f-aff9-d26c938831cd",
   "metadata": {},
   "outputs": [],
   "source": [
    "!memray run lu_factor_inplace.py"
   ]
  },
  {
   "cell_type": "code",
   "execution_count": null,
   "id": "9384470c-fc45-4222-b4ed-9b897ffda46b",
   "metadata": {},
   "outputs": [],
   "source": [
    "!memray run lu_factor_notinplace.py"
   ]
  },
  {
   "cell_type": "code",
   "execution_count": 38,
   "id": "0b50f41d-9547-4c3b-9414-545be0862f2c",
   "metadata": {},
   "outputs": [
    {
     "name": "stdout",
     "output_type": "stream",
     "text": [
      "/usr/bin/sh: 1: memray: not found\n"
     ]
    }
   ],
   "source": [
    "# Optional\n",
    "!memray flamegraph lu_inplace.bin"
   ]
  },
  {
   "cell_type": "code",
   "execution_count": 35,
   "id": "11672b7b-6673-4cda-a4c5-dc1cc31d7eb5",
   "metadata": {},
   "outputs": [],
   "source": [
    "# Delete files when ready\n",
    "!rm -rf lu_* memray-*"
   ]
  },
  {
   "cell_type": "code",
   "execution_count": null,
   "id": "f8d9b1b1-5cfb-44d7-bfa9-d5d0c63ef834",
   "metadata": {},
   "outputs": [],
   "source": []
  }
 ],
 "metadata": {
  "kernelspec": {
   "display_name": "Python 3 (ipykernel)",
   "language": "python",
   "name": "python3"
  },
  "language_info": {
   "codemirror_mode": {
    "name": "ipython",
    "version": 3
   },
   "file_extension": ".py",
   "mimetype": "text/x-python",
   "name": "python",
   "nbconvert_exporter": "python",
   "pygments_lexer": "ipython3",
   "version": "3.11.9"
  },
  "otter": {
   "OK_FORMAT": true,
   "assignment_name": "EA1",
   "tests": {
    "addition_ieee": {
     "name": "addition_ieee",
     "points": 12,
     "suites": [
      {
       "cases": [],
       "scored": true,
       "setup": "",
       "teardown": "",
       "type": "doctest"
      }
     ]
    },
    "addition_npsum": {
     "name": "addition_npsum",
     "points": 2,
     "suites": [
      {
       "cases": [],
       "scored": true,
       "setup": "",
       "teardown": "",
       "type": "doctest"
      }
     ]
    },
    "addition_variants": {
     "name": "addition_variants",
     "points": 6,
     "suites": [
      {
       "cases": [],
       "scored": true,
       "setup": "",
       "teardown": "",
       "type": "doctest"
      }
     ]
    },
    "limits_explanation": {
     "name": "limits_explanation",
     "points": 12,
     "suites": [
      {
       "cases": [],
       "scored": true,
       "setup": "",
       "teardown": "",
       "type": "doctest"
      }
     ]
    },
    "limits_fx": {
     "name": "limits_fx",
     "points": 8,
     "suites": [
      {
       "cases": [
        {
         "code": ">>> print(result_limits)\n[1.05170918 1.00501671 1.00050017 1.00005    1.000005   1.0000005\n 1.00000005 0.99999999 1.00000008 1.00000008 1.00000008 1.0000889\n 0.99920072 0.99920072 1.11022302]\n",
         "hidden": false,
         "locked": false
        },
        {
         "code": ">>> print(result_limits_2)\n[0. 0. 0. 0. 0.]\n",
         "hidden": false,
         "locked": false
        }
       ],
       "scored": true,
       "setup": "",
       "teardown": "",
       "type": "doctest"
      }
     ]
    },
    "linearsystem_bsolve": {
     "name": "linearsystem_bsolve",
     "points": 12,
     "suites": [
      {
       "cases": [],
       "scored": true,
       "setup": "",
       "teardown": "",
       "type": "doctest"
      }
     ]
    },
    "linearsystem_customsolve": {
     "name": "linearsystem_customsolve",
     "points": 12,
     "suites": [
      {
       "cases": [],
       "scored": true,
       "setup": "",
       "teardown": "",
       "type": "doctest"
      }
     ]
    },
    "linearsystem_customsolve_test": {
     "name": "linearsystem_customsolve_test",
     "points": 6,
     "suites": [
      {
       "cases": [],
       "scored": true,
       "setup": "",
       "teardown": "",
       "type": "doctest"
      }
     ]
    },
    "linearsystem_ludecomp": {
     "name": "linearsystem_ludecomp",
     "points": 15,
     "suites": [
      {
       "cases": [],
       "scored": true,
       "setup": "",
       "teardown": "",
       "type": "doctest"
      }
     ]
    },
    "linearsystem_scipy_memory": {
     "name": "linearsystem_scipy_memory",
     "points": 9,
     "suites": [
      {
       "cases": [],
       "scored": true,
       "setup": "",
       "teardown": "",
       "type": "doctest"
      }
     ]
    },
    "linearsystem_scipy_time": {
     "name": "linearsystem_scipy_time",
     "points": 6,
     "suites": [
      {
       "cases": [],
       "scored": true,
       "setup": "",
       "teardown": "",
       "type": "doctest"
      }
     ]
    }
   }
  }
 },
 "nbformat": 4,
 "nbformat_minor": 5
}
