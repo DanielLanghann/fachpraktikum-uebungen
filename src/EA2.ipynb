{
 "cells": [
  {
   "cell_type": "markdown",
   "metadata": {},
   "source": [
    "# Einsendeaufgabe 2: Springende Bälle und Pendel (100 Punkte)"
   ]
  },
  {
   "cell_type": "markdown",
   "metadata": {},
   "source": [
    "## Springende Bälle (60 Punkte)\n",
    "In dieser Übung wollen wir einen NumPy Code entwickeln, den wir in der nächsten Übung optimieren. \n",
    "\n",
    "Wir wollen Bälle simulieren, die in einer Box herumspringen. Die Box sei von $x=[0,xmax]$ und $y=[0,ymax]$ definiert. Jede Kugel hat eine Koordinate $c=[x,y]$ und eine Geschwindigkeit $v=[v_x,v_y]$. In jedem Zeitschritt $\\Delta t$ (dt) legt die Kugel eine gewisse Strecke zurück.\n",
    "\n",
    "Es gilt nach den Regeln der Physik\n",
    "\n",
    "$c[t+\\Delta t]=c[t]+\\Delta t*v(t)$. \n",
    "\n",
    " \n",
    "Zusätzlich wirkt in y-Richtung die Schwerkraft, welche die Geschwindigkeit verändert:\n",
    " \n",
    "$v[t+\\Delta t]=v[t]+\\Delta t*g$. \n",
    "\n",
    "\n",
    "Wenn ein Ball an die Wand stößt, (also z.B. $c_0<=0$ oder $c_0>=xmax$ wird er reflektiert, das heißt in erster Näherung $v_0 = -1 * v_0$ für die Geschwindigkeit in dieser Richtung). Damit der Ball in diesem Fall nicht außerhalb der Box landet, müssen Sie berechnen, wie der Ball nun fliegt.\n",
    "\n",
    "Der Ball stoppt nicht an der Wand, wenn er dort ankommt, sondern  fliegt noch ein Stück in die reflektierte Richtung. Um dies zu beachten, sollten wir die Rechnung noch etwas anpassen. \n",
    "\n",
    "Als Beispiel nehmen wir an, dass der Ball über $x=0$ hinaus fliegt.  Wenn wir also $c$ ausrechnen, gilt:  $c_x = c_x + v_x*\\Delta t < 0 $.\n",
    "\n",
    "Damit können wir ausrechnen, wie lange ($\\Delta t_2$) unser Ball in die reflektierte Richtung geflogen ist: \n",
    "\n",
    "$abs(c_x)=\\Delta t_2 * v_x$\n",
    "\n",
    "also gilt:   \n",
    " \n",
    "$\\Delta t_2= \\frac{abs(c_x)}{v_x}$. \n",
    "\n",
    "Für diese Zeit fliegt der Ball in die andere Richtung. Es gilt also \n",
    "\n",
    "$c_x = \\Delta t_2 * (-v_x) = abs(c_x)$"
   ]
  },
  {
   "cell_type": "markdown",
   "metadata": {
    "deletable": false,
    "editable": false
   },
   "source": [
    "<!-- BEGIN QUESTION -->\n",
    "\n",
    "**Aufgabe:** Implementieren Sie die Funktion `timestep`, welche *einen* Zeitschritt für *einen Ball* simuliert. \n",
    "\n",
    "**Hinweis**:\n",
    "- Die Entscheidungen, die Sie hier treffen, haben großen Einfluss auf die Performance. Es ist sehr wichtig, geeignete Kontroll- und Datenstrukturen zu wählen, um Overhead durch zu viele Objekte oder unnötige Kopien zu vermeiden.\n",
    "- Wir haben hier eine schrittweise Simulation, dabei ist die Größe der Zeitschritte entscheidend, d.h. der Ball sollte in einem Zeitschritt nicht zu viel Strecke zurück gelegt haben. Daher sollte gelten: $\\Delta_t \\ll v$. Außerdem soll der Ball sich auch etwas bewegen können, daher muss $xmax,ymax \\gg v$ sein.\n",
    "\n",
    "_Points:_ 5"
   ]
  },
  {
   "cell_type": "code",
   "execution_count": 31,
   "metadata": {},
   "outputs": [],
   "source": [
    "import numpy as np\n",
    "import matplotlib.pyplot as plt\n",
    "import matplotlib.animation as animation"
   ]
  },
  {
   "cell_type": "code",
   "execution_count": 33,
   "metadata": {
    "nbgrader": {
     "grade": false,
     "grade_id": "cell-e057f915b262f353",
     "locked": false,
     "schema_version": 3,
     "solution": true,
     "task": false
    },
    "tags": []
   },
   "outputs": [
    {
     "name": "stdout",
     "output_type": "stream",
     "text": [
      "Neue Position: [52.     49.9019]\n",
      "Neue Geschwindigkeit: [20.    -0.981]\n"
     ]
    }
   ],
   "source": [
    "def timestep(c, v, dt, g, xmax, ymax):\n",
    "    \"\"\"\n",
    "    Simuliert einen Zeitschritt für einen Ball in einer Box.\n",
    "    \n",
    "    Parameter:\n",
    "    c (numpy array): Die aktuelle Position des Balls [x, y].\n",
    "    v (numpy array): Die aktuelle Geschwindigkeit des Balls [vx, vy].\n",
    "    dt (float): Der Zeitschritt.\n",
    "    g (numpy array): Die Beschleuniung durch die Schwerkraft in y-Richtung.\n",
    "    xmax (float): Die maximale x-Koordinate der Box.\n",
    "    ymax (float): Die maximale y-Koordinate der Box.\n",
    "    \n",
    "    Rückgabe:\n",
    "    tuple: Die neue Position und Geschwindigkeit des Balls.\n",
    "    \"\"\"\n",
    "    # Update der Geschwindigkeit in y-Richtung aufgrund der Schwerkraft\n",
    "    v[1] += g[1] * dt\n",
    "    \n",
    "    # Vorläufige neue Position berechnen\n",
    "    new_c = c + v * dt\n",
    "\n",
    "    # Kollissionen mit den Wänden prüfen (x-axis)\n",
    "    if new_c[0] < 0:\n",
    "        t2 = abs(new_c[0]) / abs(v[0])\n",
    "        new_c[0] = t2 * (-v[0])\n",
    "        v[0] = -v[0]\n",
    "    elif new_c[0] > xmax:\n",
    "        t2 = abs(new_c[0] - xmax) / abs(v[0])\n",
    "        new_c[0] = xmax - t2 * (-v[0])\n",
    "        v[0] = -v[0]\n",
    "        \n",
    "    # Kollissionen mit dem Boden und der Decke prüfen (y-axis)\n",
    "    if new_c[1] < 0:\n",
    "        t2 = abs(new_c[1]) / abs(v[1])\n",
    "        new_c[1] = t2 * (-v[1])\n",
    "        v[1] = -v[1]\n",
    "    elif new_c[1] > ymax:\n",
    "        t2 = abs(new_c[1] - ymax) / abs(v[1])\n",
    "        new_c[1] = ymax - t2 * (-v[1])\n",
    "        v[1] = -v[1]\n",
    "\n",
    "    return new_c, v\n",
    "\n",
    "# Beispielparameter für einen einzelnen Zeitschritt\n",
    "c = np.array([50.0, 50.0])\n",
    "v = np.array([20.0, 0.0])\n",
    "dt = 0.1\n",
    "g = np.array([0, -9.81], dtype=np.float64)\n",
    "xmax = 100\n",
    "ymax = 100\n",
    "\n",
    "# Aufruf der Funktion timestep für einen einzelnen Zeitschrit\n",
    "new_c, new_v = timestep(c, v, dt, g, xmax, ymax)\n",
    "\n",
    "print(f\"Neue Position: {new_c}\")\n",
    "print(f\"Neue Geschwindigkeit: {new_v}\")\n"
   ]
  },
  {
   "cell_type": "markdown",
   "metadata": {
    "deletable": false,
    "editable": false
   },
   "source": [
    "<!-- END QUESTION -->\n",
    "\n",
    "<!-- BEGIN QUESTION -->\n",
    "\n",
    "**Aufgabe:** Animieren Sie die Bewegung des Balls. Der Ball sollte mit der Zeit an Höhe verlieren (durch die Schwerkraft).\n",
    "\n",
    "Hinweis: Simulation und Visualisierung müssen getrennt sein (für die nächste Aufgabe).\n",
    "\n",
    "_Points:_ 5"
   ]
  },
  {
   "cell_type": "code",
   "execution_count": 34,
   "metadata": {
    "nbgrader": {
     "grade": false,
     "grade_id": "cell-c4d15f92b42ff671",
     "locked": false,
     "schema_version": 3,
     "solution": true,
     "task": false
    },
    "tags": []
   },
   "outputs": [
    {
     "name": "stdout",
     "output_type": "stream",
     "text": [
      "Positionen des Balls:\n",
      "[[ 50.      50.    ]\n",
      " [ 52.      49.9019]\n",
      " [ 54.      49.7057]\n",
      " [ 56.      49.4114]\n",
      " [ 58.      49.019 ]\n",
      " [ 60.      48.5285]\n",
      " [ 62.      47.9399]\n",
      " [ 64.      47.2532]\n",
      " [ 66.      46.4684]\n",
      " [ 68.      45.5855]\n",
      " [ 70.      44.6045]\n",
      " [ 72.      43.5254]\n",
      " [ 74.      42.3482]\n",
      " [ 76.      41.0729]\n",
      " [ 78.      39.6995]\n",
      " [ 80.      38.228 ]\n",
      " [ 82.      36.6584]\n",
      " [ 84.      34.9907]\n",
      " [ 86.      33.2249]\n",
      " [ 88.      31.361 ]\n",
      " [ 90.      29.399 ]\n",
      " [ 92.      27.3389]\n",
      " [ 94.      25.1807]\n",
      " [ 96.      22.9244]\n",
      " [ 98.      20.57  ]\n",
      " [100.      18.1175]\n",
      " [102.      15.5669]\n",
      " [100.      12.9182]\n",
      " [ 98.      10.1714]\n",
      " [ 96.       7.3265]\n",
      " [ 94.       4.3835]\n",
      " [ 92.       1.3424]\n",
      " [ 90.       1.7968]\n",
      " [ 88.       4.8379]\n",
      " [ 86.       7.7809]\n",
      " [ 84.      10.6258]\n",
      " [ 82.      13.3726]\n",
      " [ 80.      16.0213]\n",
      " [ 78.      18.5719]\n",
      " [ 76.      21.0244]\n",
      " [ 74.      23.3788]\n",
      " [ 72.      25.6351]\n",
      " [ 70.      27.7933]\n",
      " [ 68.      29.8534]\n",
      " [ 66.      31.8154]\n",
      " [ 64.      33.6793]\n",
      " [ 62.      35.4451]\n",
      " [ 60.      37.1128]\n",
      " [ 58.      38.6824]\n",
      " [ 56.      40.1539]\n",
      " [ 54.      41.5273]\n",
      " [ 52.      42.8026]\n",
      " [ 50.      43.9798]\n",
      " [ 48.      45.0589]\n",
      " [ 46.      46.0399]\n",
      " [ 44.      46.9228]\n",
      " [ 42.      47.7076]\n",
      " [ 40.      48.3943]\n",
      " [ 38.      48.9829]\n",
      " [ 36.      49.4734]\n",
      " [ 34.      49.8658]\n",
      " [ 32.      50.1601]\n",
      " [ 30.      50.3563]\n",
      " [ 28.      50.4544]\n",
      " [ 26.      50.4544]\n",
      " [ 24.      50.3563]\n",
      " [ 22.      50.1601]\n",
      " [ 20.      49.8658]\n",
      " [ 18.      49.4734]\n",
      " [ 16.      48.9829]\n",
      " [ 14.      48.3943]\n",
      " [ 12.      47.7076]\n",
      " [ 10.      46.9228]\n",
      " [  8.      46.0399]\n",
      " [  6.      45.0589]\n",
      " [  4.      43.9798]\n",
      " [  2.      42.8026]\n",
      " [  0.      41.5273]\n",
      " [  2.      40.1539]\n",
      " [  4.      38.6824]\n",
      " [  6.      37.1128]\n",
      " [  8.      35.4451]\n",
      " [ 10.      33.6793]\n",
      " [ 12.      31.8154]\n",
      " [ 14.      29.8534]\n",
      " [ 16.      27.7933]\n",
      " [ 18.      25.6351]\n",
      " [ 20.      23.3788]\n",
      " [ 22.      21.0244]\n",
      " [ 24.      18.5719]\n",
      " [ 26.      16.0213]\n",
      " [ 28.      13.3726]\n",
      " [ 30.      10.6258]\n",
      " [ 32.       7.7809]\n",
      " [ 34.       4.8379]\n",
      " [ 36.       1.7968]\n",
      " [ 38.       1.3424]\n",
      " [ 40.       4.3835]\n",
      " [ 42.       7.3265]\n",
      " [ 44.      10.1714]\n",
      " [ 46.      12.9182]]\n"
     ]
    }
   ],
   "source": [
    "def simulate_ball_motion(c, v, dt, g, xmax, ymax, steps):\n",
    "    \"\"\"\n",
    "    Simuliert die Bewegung eines Balls in einer Box über eine gegebene Anzahl von Zeitschritten.\n",
    "\n",
    "    Parameter:\n",
    "    c (numpy array): Die Startposition des Balls als numpy-Array [x, y].\n",
    "    v (numpy array): Die Startgeschwindigkeit des Balls als numpy-Array [vx, vy].\n",
    "    dt (float): Der Zeitschritt für die Simulation.\n",
    "    g (numpy array): Die Beschleunigung durch die Schwerkraft als numpy-Array [gx, gy].\n",
    "    xmax (float): Die maximale x-Koordinate der Box (Breite der Box).\n",
    "    ymax (float): Die maximale y-Koordinate der Box (Höhe der Box).\n",
    "    steps (int): Die Anzahl der Zeitschritte, über die die Simulation ausgeführt wird.\n",
    "\n",
    "    Rückgabe:\n",
    "    numpy array: Ein Array der Positionen des Balls zu jedem Zeitschritt. \n",
    "    \"\"\"\n",
    "    positions = [c.copy()]\n",
    "    for _ in range(steps):\n",
    "        c, v = timestep(c, v, dt, g, xmax, ymax)\n",
    "        positions.append(c.copy())\n",
    "    return np.array(positions)\n",
    "\n",
    "# Anfangsbedingungen (Vorschlag)\n",
    "dt = 0.1\n",
    "g = np.array([0, -9.81], dtype=np.float64)\n",
    "xmax = 100\n",
    "ymax = 100\n",
    "steps = 100\n",
    "\n",
    "# Startposition und -geschwindigkeit\n",
    "c = np.array([50.0, 50.0])\n",
    "v = np.array([20.0, 0.0])\n",
    "\n",
    "positions = simulate_ball_motion(c, v, dt, g, xmax, ymax, steps)\n",
    "\n",
    "# Positionen ausgeben\n",
    "print(\"Positionen des Balls:\")\n",
    "print(positions)"
   ]
  },
  {
   "cell_type": "markdown",
   "metadata": {
    "deletable": false,
    "editable": false
   },
   "source": [
    "<!-- END QUESTION -->\n",
    "\n",
    "<!-- BEGIN QUESTION -->\n",
    "\n",
    "**Aufgabe:** Ein Ball ist jedoch langweilig, daher wollen wir als nächstes mehrere Bälle simulieren.  \n",
    "Schreiben Sie eine neue Funktion, `timestep_balls`, welche einen Array mit Koordinaten (shape=(N,2)) und einen Array mit Geschwindigkeiten (shape=(N,2)) übergeben bekommt und für alle Bälle einen Zeitschritt berechnet. \n",
    "\n",
    "Achten Sie darauf, dass der Code performant ist und verwenden Sie NumPys interne Vektorisierung mit der Slicing Syntax.  Für den Augenblick ignorieren wir, dass die Bälle zusammenstoßen können. \n",
    "\n",
    "Hinweis: \n",
    "- Das Array `c` sollte diese Form haben: \n",
    "\n",
    "$c = \\left[\\begin{array}{rr}                                 \n",
    "x_0 & y_0 \\\\ \n",
    "x_1 & y_1 \\\\ \n",
    "x_2 & y_2 \\\\ \n",
    "\\dots \\\\ \n",
    "x_{n-1} & y_{n-1} \\\\ \n",
    "\\end{array}\\right]$ \n",
    "\n",
    "- Das Array `v` sollte diese Form haben: \n",
    "\n",
    "$v = \\left[\\begin{array}{rr}                                 \n",
    "v^x_0 & v^y_0 \\\\ \n",
    "v^x_1 & v^y_1 \\\\ \n",
    "v^x_2 & v^y_2 \\\\ \n",
    "\\dots\\\\ \n",
    "v^x_{n-1} & v^y_{n-1} \\\\ \n",
    "\\end{array}\\right]$ \n",
    "\n",
    "_Points:_ 10"
   ]
  },
  {
   "cell_type": "code",
   "execution_count": 35,
   "metadata": {
    "nbgrader": {
     "grade": false,
     "grade_id": "cell-b2bcc018335dbe0d",
     "locked": false,
     "schema_version": 3,
     "solution": true,
     "task": false
    },
    "tags": []
   },
   "outputs": [],
   "source": [
    "def timestep_balls(c, v, dt, g, xmax, ymax):\n",
    "    \"\"\"\n",
    "    Simuliert einen timestep mit mehreren Bällen.\n",
    "    \"\"\"\n",
    "    # Update Geschwindigkeiten auf Grund Schwerkraft\n",
    "    v[:, 1] += g[1] * dt\n",
    "    \n",
    "    # Update positions\n",
    "    new_c = c + v * dt\n",
    "\n",
    "     # Kollissionen mit den Wänden prüfen (x-axis)\n",
    "    mask_x_neg = new_c[:, 0] < 0\n",
    "    mask_x_pos = new_c[:, 0] > xmax\n",
    "    v[mask_x_neg | mask_x_pos, 0] = -v[mask_x_neg | mask_x_pos, 0]\n",
    "    new_c[mask_x_neg, 0] = -new_c[mask_x_neg, 0]\n",
    "    new_c[mask_x_pos, 0] = 2 * xmax - new_c[mask_x_pos, 0]\n",
    "\n",
    "    # Kollissionen mit dem Boden und der Decke prüfen (y-axis)is)\n",
    "    mask_y_neg = new_c[:, 1] < 0\n",
    "    mask_y_pos = new_c[:, 1] > ymax\n",
    "    v[mask_y_neg | mask_y_pos, 1] = -v[mask_y_neg | mask_y_pos, 1]\n",
    "    new_c[mask_y_neg, 1] = -new_c[mask_y_neg, 1]\n",
    "    new_c[mask_y_pos, 1] = 2 * ymax - new_c[mask_y_pos, 1]\n",
    "\n",
    "    return new_c, v"
   ]
  },
  {
   "cell_type": "markdown",
   "metadata": {
    "deletable": false,
    "editable": false
   },
   "source": [
    "<!-- END QUESTION -->\n",
    "\n",
    "<!-- BEGIN QUESTION -->\n",
    "\n",
    "**Aufgabe:** Animieren Sie die Bewegung der Bälle.\n",
    "\n",
    "Tipp: Trennen Sie Simulation und Visualisierung.\n",
    "\n",
    "_Points:_ 10"
   ]
  },
  {
   "cell_type": "code",
   "execution_count": 36,
   "metadata": {
    "nbgrader": {
     "grade": false,
     "grade_id": "cell-3bf02c0001226c40",
     "locked": false,
     "schema_version": 3,
     "solution": true,
     "task": false
    },
    "tags": []
   },
   "outputs": [],
   "source": [
    "# Simulation\n",
    "def simulate_balls_motion(c, v, dt, g, xmax, ymax, steps):\n",
    "    positions = [c.copy()]\n",
    "    for _ in range(steps):\n",
    "        c, v = timestep_balls(c, v, dt, g, xmax, ymax)\n",
    "        positions.append(c.copy())\n",
    "    return np.array(positions)"
   ]
  },
  {
   "cell_type": "code",
   "execution_count": 37,
   "metadata": {},
   "outputs": [
    {
     "name": "stdout",
     "output_type": "stream",
     "text": [
      "Positionen des Balls:\n",
      "[[[682.35186325  53.8210188 ]\n",
      "  [220.35987277 184.3718107 ]\n",
      "  [175.90590109 812.09450666]\n",
      "  ...\n",
      "  [741.46705223 629.94020459]\n",
      "  [927.40725853 231.90818861]\n",
      "  [799.12512862 518.16503685]]\n",
      "\n",
      " [[684.6674195   45.67005873]\n",
      "  [225.33776246 180.3890571 ]\n",
      "  [177.74928096 802.43345582]\n",
      "  ...\n",
      "  [748.7745716  622.90885749]\n",
      "  [935.37769406 230.75040573]\n",
      "  [802.11950758 513.62545769]]\n",
      "\n",
      " [[686.98297574  27.70909867]\n",
      "  [230.31565214 166.59630351]\n",
      "  [179.59266083 782.96240499]\n",
      "  ...\n",
      "  [756.08209096 606.0675104 ]\n",
      "  [943.34812959 219.78262286]\n",
      "  [805.11388653 499.27587853]]\n",
      "\n",
      " ...\n",
      "\n",
      " [[743.39018721  33.62292204]\n",
      "  [545.12348535  77.41108058]\n",
      "  [633.06410991 201.57390022]\n",
      "  ...\n",
      "  [553.73185444 327.79387547]\n",
      "  [904.07527042  94.46196354]\n",
      "  [458.2688902  294.86940525]]\n",
      "\n",
      " [[741.07463096  45.09196197]\n",
      "  [540.14559567 101.01383417]\n",
      "  [634.90748978 309.63284939]\n",
      "  ...\n",
      "  [561.0393738  413.30522257]\n",
      "  [912.04570595  95.61974641]\n",
      "  [455.27451124 368.80982609]]\n",
      "\n",
      " [[738.75907471  46.7510019 ]\n",
      "  [535.16770598 114.80658776]\n",
      "  [636.75086966 407.88179856]\n",
      "  ...\n",
      "  [568.34689316 489.00656966]\n",
      "  [920.01614148  86.96752928]\n",
      "  [452.28013229 432.94024693]]]\n"
     ]
    }
   ],
   "source": [
    "dt = 1\n",
    "g = np.array([0, -9.81], dtype=np.float64)\n",
    "xmax = 1000\n",
    "ymax = 1000\n",
    "steps = 250\n",
    "\n",
    "# Anzahl Bälle\n",
    "N = 10\n",
    "rng = np.random.default_rng(seed=123)\n",
    "# Startpositionen\n",
    "c = xmax * rng.random((N, 2))\n",
    "# Startgeschwindigkeiten\n",
    "v = 10 * rng.random((N, 2))\n",
    "\n",
    "# Simulation ausführen\n",
    "positions = simulate_balls_motion(c, v, dt, g, xmax, ymax, steps)\n",
    "\n",
    "# Positionen ausgeben\n",
    "print(\"Positionen des Balls:\")\n",
    "print(positions)"
   ]
  },
  {
   "cell_type": "markdown",
   "metadata": {
    "deletable": false,
    "editable": false
   },
   "source": [
    "<!-- END QUESTION -->\n",
    "\n",
    "## Leistungsanalyse ohne Visualisierung"
   ]
  },
  {
   "cell_type": "markdown",
   "metadata": {
    "deletable": false,
    "editable": false
   },
   "source": [
    "<!-- BEGIN QUESTION -->\n",
    "\n",
    "**Aufgabe:** Analysieren Sie zunächst die Leistung der Ball-Simulation ohne Visualisierung mit Scalene!\n",
    "Simulieren Sie dazu 100 Bälle für 100 Zeitschritte und verwenden Sie eine Abtastfrequenz von $0.0001$.\n",
    "\n",
    "*Hinweis:* Wir haben die Initialisierungsfunktion aus dem Profiling entfernt, da sie ansonsten zu dominant wäre.\n",
    "Wenn Sie den Code richtig optimiert haben, sollte die Funktion zu über 95% im nativen Modus ausgeführt werden.\n",
    "\n",
    "_Points:_ 15"
   ]
  },
  {
   "cell_type": "code",
   "execution_count": 38,
   "metadata": {
    "deletable": false,
    "editable": false
   },
   "outputs": [
    {
     "name": "stdout",
     "output_type": "stream",
     "text": [
      "The scalene extension is already loaded. To reload it, use:\n",
      "  %reload_ext scalene\n"
     ]
    }
   ],
   "source": [
    "%load_ext scalene"
   ]
  },
  {
   "cell_type": "code",
   "execution_count": 21,
   "metadata": {
    "deletable": false,
    "editable": false
   },
   "outputs": [],
   "source": [
    "# Anfangsbedingungen (Vorschlag)\n",
    "dt = 1\n",
    "g = np.array([0, -9.81], dtype=np.float64)\n",
    "xmax = 1000\n",
    "ymax = 1000\n",
    "steps = 1000\n",
    "\n",
    "# Anzahl Bälle\n",
    "N = 100\n",
    "rng = np.random.default_rng(seed=123)\n",
    "# Startpositionen\n",
    "c = xmax * rng.random((N, 2))\n",
    "# Startgeschwindigkeiten\n",
    "v = 10 * rng.random((N, 2))"
   ]
  },
  {
   "cell_type": "code",
   "execution_count": 41,
   "metadata": {},
   "outputs": [],
   "source": [
    "# Anfangsbedingungen\n",
    "dt = 1\n",
    "g = np.array([0, -9.81], dtype=np.float64)\n",
    "xmax = 1000\n",
    "ymax = 1000\n",
    "steps = 100\n",
    "\n",
    "# Anzahl Bälle\n",
    "N = 100\n",
    "rng = np.random.default_rng(seed=123)\n",
    "# Startpositionen'\n",
    "c = xmax * rng.random((N, 2))\n",
    "# Startgeschwindigkeiten\n",
    "v = 10 * rng.random((N, 2))"
   ]
  },
  {
   "cell_type": "code",
   "execution_count": 42,
   "metadata": {},
   "outputs": [],
   "source": [
    "# %%scalene\n",
    "\n",
    "# Simulation ausführen\n",
    "positions = simulate_balls_motion(c, v, dt, g, xmax, ymax, steps)"
   ]
  },
  {
   "cell_type": "markdown",
   "metadata": {
    "deletable": false,
    "editable": false
   },
   "source": [
    "<!-- END QUESTION -->\n",
    "\n",
    "## Leistungsanalyse mit Visualisierung"
   ]
  },
  {
   "cell_type": "markdown",
   "metadata": {
    "deletable": false,
    "editable": false
   },
   "source": [
    "<!-- BEGIN QUESTION -->\n",
    "\n",
    "**Aufgabe:** Die Visualisierung erfordert, dass die Ergebnisse nach jeder Iteration gespeichert werden. Analysieren Sie mit Hilfe von Scalene, wie sich das auf die Performance auswirkt. \n",
    "\n",
    "- Wie viel der gesamten Laufzeit kostet dieses Kopieren der Ergebnisse?\n",
    "- Wie lässt sich das verbessern?\n",
    "\n",
    "_Points:_ 15"
   ]
  },
  {
   "cell_type": "markdown",
   "metadata": {
    "tags": []
   },
   "source": [
    "Das reine kopieren kostet ungefähr 20% der gesamten Laufzeit. Das Verwalten eines einzigen Arrays wäre eine Verbesserung."
   ]
  },
  {
   "cell_type": "code",
   "execution_count": 58,
   "metadata": {},
   "outputs": [],
   "source": [
    "# Simulation mit Speichern der Ergebnisse\n",
    "def simulate_balls_motion_with_copy(c, v, dt, g, xmax, ymax, steps):\n",
    "    positions = [c.copy()]\n",
    "    for _ in range(steps):\n",
    "        c, v = timestep_balls(c, v, dt, g, xmax, ymax)\n",
    "        positions.append(c.copy())\n",
    "    return np.array(positions)"
   ]
  },
  {
   "cell_type": "code",
   "execution_count": 59,
   "metadata": {},
   "outputs": [],
   "source": [
    "# Simulation ohne Speichern der Ergebnisse\n",
    "def simulate_balls_motion_without_copy(c, v, dt, g, xmax, ymax, steps):\n",
    "    for _ in range(steps):\n",
    "        c, v = timestep_balls(c, v, dt, g, xmax, ymax)\n",
    "    return c, v"
   ]
  },
  {
   "cell_type": "code",
   "execution_count": 60,
   "metadata": {},
   "outputs": [],
   "source": [
    "# Initialisierung der Parameter\n",
    "# Anfangsbedingungen\n",
    "dt = 1\n",
    "g = np.array([0, -9.81], dtype=np.float64)\n",
    "xmax = 1000\n",
    "ymax = 1000\n",
    "steps = 100\n",
    "\n",
    "# Anzahl Bälle\n",
    "N = 100\n",
    "rng = np.random.default_rng(seed=123)\n",
    "# Startpositionen\n",
    "c = xmax * rng.random((N, 2))\n",
    "# Startgeschwindigkeiten\n",
    "v = 10 * rng.random((N, 2))\n"
   ]
  },
  {
   "cell_type": "code",
   "execution_count": 61,
   "metadata": {
    "tags": []
   },
   "outputs": [
    {
     "name": "stderr",
     "output_type": "stream",
     "text": [
      "Scalene: The specified code did not run for long enough to profile.\n",
      "By default, Scalene only profiles code in the file executed and its subdirectories.\n",
      "To track the time spent in all files, use the `--profile-all` option.\n"
     ]
    }
   ],
   "source": [
    "%%scalene\n",
    "\n",
    "# Simulation mit Speichern der Ergebnisse ausführen\n",
    "positions_with_copy = simulate_balls_motion_with_copy(c.copy(), v.copy(), dt, g, xmax, ymax, steps)"
   ]
  },
  {
   "cell_type": "code",
   "execution_count": 62,
   "metadata": {},
   "outputs": [
    {
     "name": "stderr",
     "output_type": "stream",
     "text": [
      "Scalene: The specified code did not run for long enough to profile.\n",
      "By default, Scalene only profiles code in the file executed and its subdirectories.\n",
      "To track the time spent in all files, use the `--profile-all` option.\n"
     ]
    }
   ],
   "source": [
    "%%scalene\n",
    "\n",
    "# Simulation ohne Speichern der Ergebnisse ausführen\n",
    "final_c, final_v = simulate_balls_motion_without_copy(c.copy(), v.copy(), dt, g, xmax, ymax, steps)"
   ]
  },
  {
   "cell_type": "markdown",
   "metadata": {
    "deletable": false,
    "editable": false
   },
   "source": [
    "<!-- END QUESTION -->\n",
    "\n",
    "## Einfaches Pendel (40 Punkte)\n",
    "\n",
    "Die Bewegung eines einfachen Pendels kann man mit der Gleichung\n",
    "\n",
    "$\\theta^{''}(t) +\\frac{b}{m}\\theta^{'}(t) +\\frac{g}{L}\\theta(t) = 0$ \n",
    "\n",
    "beschrieben, wobei gilt:\n",
    "\n",
    "- $\\theta$ : Ausrichtungs-Wingel\n",
    "- $b$ : Dämpfung (z.b. durch Luftwiderstand)\n",
    "- $m$ : Masse des Pendel-Körpers\n",
    "- $g$ : Erdbeschleunigung \n",
    "- $L$ : Länge des Pendels\n",
    "- $\\theta^{'}$: Winkel-Geschwindigkeit\n",
    "- $\\theta^{''}$: Winkel-Beschleunigung\n",
    "\n",
    "Die Ausrichtungen x, y werden mit Hilfe von $\\theta$ berechnet:\n",
    "\n",
    "$ x = L * sin(\\theta) $\n",
    "\n",
    "$ y = -L * cos(\\theta) $\n",
    "\n",
    "Der Ursprung des Pendels liegt bei (0,0).\n",
    "\n",
    "Das Pendel sei Anfangs zu $\\frac{\\pi}{3}$ ausgerichtet und hat eine Gechwindigkeit von 0. "
   ]
  },
  {
   "cell_type": "markdown",
   "metadata": {
    "deletable": false,
    "editable": false
   },
   "source": [
    "<!-- BEGIN QUESTION -->\n",
    "\n",
    "**Aufgabe:** Berechnen Sie die Bewegung des Pendels für $t=[0,...,15]$ für 20000 Zeitschritte. Verwenden Sie die SciPy funktion `integrate.solve_ivp`.\n",
    "\n",
    "_Points:_ 10"
   ]
  },
  {
   "cell_type": "code",
   "execution_count": 1,
   "metadata": {
    "nbgrader": {
     "grade": false,
     "grade_id": "cell-421f92ca1935ec97",
     "locked": false,
     "schema_version": 3,
     "solution": true,
     "task": false
    },
    "tags": []
   },
   "outputs": [
    {
     "ename": "SyntaxError",
     "evalue": "'return' outside function (2031310152.py, line 20)",
     "output_type": "error",
     "traceback": [
      "\u001b[0;36m  Cell \u001b[0;32mIn[1], line 20\u001b[0;36m\u001b[0m\n\u001b[0;31m    return [theta_dot, omega_dot]\u001b[0m\n\u001b[0m    ^\u001b[0m\n\u001b[0;31mSyntaxError\u001b[0m\u001b[0;31m:\u001b[0m 'return' outside function\n"
     ]
    }
   ],
   "source": [
    "import numpy as np \n",
    "from scipy.integrate import solve_ivp \n",
    "from numba import njit\n",
    "\n",
    "# Anfangsbedingungen\n",
    "L = 1\n",
    "m = 1\n",
    "b = 0.5\n",
    "g = 9.81\n",
    "steps = 20000\n",
    "T = 15\n",
    "theta0 = np.pi/3 \n",
    "omega0 = 0\n",
    "\n",
    "@njit \n",
    "def pendulum(t, y): \n",
    "    theta, omega = y \n",
    "    theta_dot = omega \n",
    "    omega_dot = -(b/m)*omega - (g/L)*np.sin(theta) \n",
    "return [theta_dot, omega_dot]\n",
    "\n",
    "#Initial conditions\n",
    "y0 = [theta0, omega0]\n",
    "\n",
    "#Time span\n",
    "t_span = [0, 15]\n",
    "\n",
    "#Time points\n",
    "t = np.linspace(t_span[0], t_span[1], steps)\n",
    "\n",
    "#Solve the differential equation\n",
    "sol = solve_ivp(pendulum, t_span, y0, t_eval=t)\n",
    "\n",
    "#Calculate x and y positions\n",
    "x = Lnp.sin(sol.y[0]) \n",
    "y = -Lnp.cos(sol.y[0])\n",
    "\n",
    "#Print the results\n",
    "for i in range(len(t)): print(f\"t = {t[i]}, x = {x[i]}, y = {y[i]}\")"
   ]
  },
  {
   "cell_type": "markdown",
   "metadata": {
    "deletable": false,
    "editable": false
   },
   "source": [
    "<!-- END QUESTION -->\n",
    "\n",
    "**Aufgabe:** Die Funktion ` scipy.integrate.solve_ivp` bietet verschiedene Methoden zur Lösung an [[1]](https://docs.scipy.org/doc/scipy/reference/generated/scipy.integrate.solve_ivp.html). Vergleichen Sie die Performance für die Methoden, die keine weiteren Eingaben erwarten (RK45, RK23 und DOP853). \n",
    "\n",
    "_Points:_ 3"
   ]
  },
  {
   "cell_type": "code",
   "execution_count": 2,
   "metadata": {
    "tags": []
   },
   "outputs": [
    {
     "ename": "NameError",
     "evalue": "name 'timeit' is not defined",
     "output_type": "error",
     "traceback": [
      "\u001b[0;31m---------------------------------------------------------------------------\u001b[0m",
      "\u001b[0;31mNameError\u001b[0m                                 Traceback (most recent call last)",
      "Cell \u001b[0;32mIn[2], line 1\u001b[0m\n\u001b[0;32m----> 1\u001b[0m rk45_timeit \u001b[38;5;241m=\u001b[39m \u001b[43mtimeit\u001b[49m\u001b[38;5;241m.\u001b[39mtimeit(\u001b[38;5;124m'\u001b[39m\u001b[38;5;124msolve_ivp(pendulum, t_span, y0, t_eval=np.linspace(t_span[0], t_span[1], num_steps), method=\u001b[39m\u001b[38;5;124m\"\u001b[39m\u001b[38;5;124mRK45\u001b[39m\u001b[38;5;124m\"\u001b[39m\u001b[38;5;124m)\u001b[39m\u001b[38;5;124m'\u001b[39m, setup\u001b[38;5;241m=\u001b[39msetup, number\u001b[38;5;241m=\u001b[39m\u001b[38;5;241m1\u001b[39m)\n\u001b[1;32m      2\u001b[0m rk23_timeit \u001b[38;5;241m=\u001b[39m timeit\u001b[38;5;241m.\u001b[39mtimeit(\u001b[38;5;124m'\u001b[39m\u001b[38;5;124msolve_ivp(pendulum, t_span, y0, t_eval=np.linspace(t_span[0], t_span[1], num_steps), method=\u001b[39m\u001b[38;5;124m\"\u001b[39m\u001b[38;5;124mRK23\u001b[39m\u001b[38;5;124m\"\u001b[39m\u001b[38;5;124m)\u001b[39m\u001b[38;5;124m'\u001b[39m, setup\u001b[38;5;241m=\u001b[39msetup, number\u001b[38;5;241m=\u001b[39m\u001b[38;5;241m1\u001b[39m)\n\u001b[1;32m      3\u001b[0m dop853_timeit \u001b[38;5;241m=\u001b[39m timeit\u001b[38;5;241m.\u001b[39mtimeit(\u001b[38;5;124m'\u001b[39m\u001b[38;5;124msolve_ivp(pendulum, t_span, y0, t_eval=np.linspace(t_span[0], t_span[1], num_steps), method=\u001b[39m\u001b[38;5;124m\"\u001b[39m\u001b[38;5;124mDOP853\u001b[39m\u001b[38;5;124m\"\u001b[39m\u001b[38;5;124m)\u001b[39m\u001b[38;5;124m'\u001b[39m, setup\u001b[38;5;241m=\u001b[39msetup, number\u001b[38;5;241m=\u001b[39m\u001b[38;5;241m1\u001b[39m)\n",
      "\u001b[0;31mNameError\u001b[0m: name 'timeit' is not defined"
     ]
    }
   ],
   "source": [
    "rk45_timeit = timeit.timeit('solve_ivp(pendulum, t_span, y0, t_eval=np.linspace(t_span[0], t_span[1], num_steps), method=\"RK45\")', setup=setup, number=1)\n",
    "rk23_timeit = timeit.timeit('solve_ivp(pendulum, t_span, y0, t_eval=np.linspace(t_span[0], t_span[1], num_steps), method=\"RK23\")', setup=setup, number=1)\n",
    "dop853_timeit = timeit.timeit('solve_ivp(pendulum, t_span, y0, t_eval=np.linspace(t_span[0], t_span[1], num_steps), method=\"DOP853\")', setup=setup, number=1)"
   ]
  },
  {
   "cell_type": "markdown",
   "metadata": {
    "deletable": false,
    "editable": false
   },
   "source": [
    "<!-- BEGIN QUESTION -->\n",
    "\n",
    "**Aufgabe:** Stellen Sie die x- und y-Position des Pendels über die Zeit in einem Diagramm dar. \n",
    "Stellen Sie in einem zweiten Diagramm den Winkel über die Zeit dar.\n",
    "\n",
    "Hinweis:\n",
    "- Verwenden Sie die Lösung für die `RK45` Methode. \n",
    "- Verwenden Sie Liniendiagramme.\n",
    "\n",
    "_Points:_ 10"
   ]
  },
  {
   "cell_type": "code",
   "execution_count": null,
   "metadata": {
    "nbgrader": {
     "grade": false,
     "grade_id": "cell-acdd71b2e8d9b4fc",
     "locked": false,
     "schema_version": 3,
     "solution": true,
     "task": false
    },
    "tags": []
   },
   "outputs": [],
   "source": [
    "# x, y Positionen berechnen\n",
    "#x = L * np.sin(sol.y[0])\n",
    "#y = -L * np.cos(sol.y[0])\n",
    "\n",
    "# Plot x- und y-Position über die Zeit\n",
    "plt.figure()\n",
    "plt.plot(sol.t, x, label='x Position')\n",
    "plt.plot(sol.t, y, label='y Position')\n",
    "plt.xlabel('Zeit')\n",
    "plt.ylabel('Position')\n",
    "plt.legend()\n",
    "plt.show()\n",
    "\n",
    "# Plot Winkel über die Zeit\n",
    "plt.figure()\n",
    "plt.plot(sol.t, sol.y[0])\n",
    "plt.xlabel('Zeit')\n",
    "plt.ylabel('Winkel')\n",
    "plt.show()"
   ]
  },
  {
   "cell_type": "markdown",
   "metadata": {
    "deletable": false,
    "editable": false
   },
   "source": [
    "<!-- END QUESTION -->\n",
    "\n",
    "<!-- BEGIN QUESTION -->\n",
    "\n",
    "**Aufgabe:** Stellen Sie den Unterschied zwischen der 'RK45' Methode und der 'RK23' Methode dar. \n",
    "\n",
    "Erstellen Sie vier Liniendiagramme:\n",
    "- x für beide Methoden über der Zeit\n",
    "- y für beide Methoden über der Zeit\n",
    "- Absoluter Unterschied von x zwischen beiden Methoden über der Zeit\n",
    "- Absoluter Unterschied von y zwischen beiden Methoden über der Zeit\n",
    "\n",
    "_Points:_ 10"
   ]
  },
  {
   "cell_type": "code",
   "execution_count": null,
   "metadata": {
    "tags": []
   },
   "outputs": [],
   "source": [
    "methods = ['RK45', 'RK23']\n",
    "fig, axs = plt.subplots(2, 2, figsize=(10, 8))\n",
    "\n",
    "for i, method in enumerate(methods):\n",
    "    sol = solve_ivp(pendulum, t_span, y0, method=method, t_eval=t_eval)\n",
    "    theta_values = sol.y[0]\n",
    "    x_values = L * np.sin(theta_values)\n",
    "    y_values = -L * np.cos(theta_values)\n",
    "    \n",
    "    axs[0, 0].plot(sol.t, x_values, label=method)\n",
    "    axs[1, 0].plot(sol.t, y_values, label=method)\n",
    "    axs[0, 1].plot(sol.t, np.abs(x_values - x_values_orig), label=method)\n",
    "    axs[1, 1].plot(sol.t, np.abs(y_values - y_values_orig), label=method)\n",
    "\n",
    "axs[0, 0].set_xlabel('Zeit')\n",
    "axs[0, 0].set_ylabel('x-Position')\n",
    "axs[0, 0].legend()\n",
    "\n",
    "axs[1, 0].set_xlabel('Zeit')\n",
    "axs[1, 0].set_ylabel('y-Position')\n",
    "axs[1, 0].legend()\n",
    "\n",
    "axs[0, 1].set_xlabel('Zeit')\n",
    "axs[0, 1].set_ylabel('Absoluter Unterschied in x')\n",
    "axs[0, 1].legend()\n",
    "\n",
    "axs[1, 1].set_xlabel('Zeit')\n",
    "axs[1, 1].set_ylabel('Absoluter Unterschied in y')\n",
    "axs[1, 1].legend()\n",
    "\n",
    "plt.tight_layout()\n",
    "plt.show()"
   ]
  },
  {
   "cell_type": "markdown",
   "metadata": {
    "deletable": false,
    "editable": false
   },
   "source": [
    "<!-- END QUESTION -->\n",
    "\n",
    "<!-- BEGIN QUESTION -->\n",
    "\n",
    "**Aufgabe:** Animieren Sie das Pendel, sodass es für mindestens eine Periodendauer pendelt.\n",
    "\n",
    "Hinweis:\n",
    "- Animieren Sie nicht alle Zeitschritte, sondern z.B. nur jeden 100. Zeitschritt.\n",
    "- Damit die Animation schneller erstellt wird, können Sie z.B. die zweite Hälfte der Daten verwerfen.\n",
    "- Tipp für \"hvplot\": aus `import holoviews as hv` ist [hv.Path() hilfreich](https://holoviews.org/reference/elements/bokeh/Path.html)\n",
    "\n",
    "_Points:_ 7"
   ]
  },
  {
   "cell_type": "code",
   "execution_count": null,
   "metadata": {
    "nbgrader": {
     "grade": false,
     "grade_id": "cell-79a820a2411cd873",
     "locked": false,
     "schema_version": 3,
     "solution": true,
     "task": false
    },
    "tags": []
   },
   "outputs": [],
   "source": [
    "plt.figure()\n",
    "plt.plot(sol.t, diff_x, label='Diff x')\n",
    "plt.xlabel('Zeit')\n",
    "plt.ylabel('Absoluter Unterschied')\n",
    "plt.legend()\n",
    "\n",
    "plt.figure()\n",
    "plt.plot(sol.t, diff_y, label='Diff y')\n",
    "plt.xlabel('Zeit')\n",
    "plt.ylabel('Absoluter Unterschied')\n",
    "plt.legend()\n",
    "\n",
    "plt.show()"
   ]
  },
  {
   "cell_type": "markdown",
   "metadata": {
    "deletable": false,
    "editable": false
   },
   "source": [
    "<!-- END QUESTION -->\n",
    "\n",
    "Führen Sie alle Zellen im Notebook aus und speichern Sie es.  \n",
    "Danach können Sie mit der folgenden Zelle eine HTML-Datei erstellen.  \n",
    "Eine mögliche `UserWarning` können Sie ignorieren.  \n",
    "Bitte geben Sie das Notebook als `.ipynb` und `.html` Datei ab."
   ]
  },
  {
   "cell_type": "code",
   "execution_count": null,
   "metadata": {},
   "outputs": [],
   "source": [
    "#!jupyter nbconvert --to html EA2.ipynb"
   ]
  }
 ],
 "metadata": {
  "kernelspec": {
   "display_name": "Python 3 (ipykernel)",
   "language": "python",
   "name": "python3"
  },
  "language_info": {
   "codemirror_mode": {
    "name": "ipython",
    "version": 3
   },
   "file_extension": ".py",
   "mimetype": "text/x-python",
   "name": "python",
   "nbconvert_exporter": "python",
   "pygments_lexer": "ipython3",
   "version": "3.11.9"
  },
  "otter": {
   "OK_FORMAT": true,
   "assignment_name": "EA2",
   "tests": {
    "animation_multiple": {
     "name": "animation_multiple",
     "points": 10,
     "suites": [
      {
       "cases": [],
       "scored": true,
       "setup": "",
       "teardown": "",
       "type": "doctest"
      }
     ]
    },
    "animation_single": {
     "name": "animation_single",
     "points": 5,
     "suites": [
      {
       "cases": [],
       "scored": true,
       "setup": "",
       "teardown": "",
       "type": "doctest"
      }
     ]
    },
    "ball_timestep": {
     "name": "ball_timestep",
     "points": 5,
     "suites": [
      {
       "cases": [],
       "scored": true,
       "setup": "",
       "teardown": "",
       "type": "doctest"
      }
     ]
    },
    "pendel_animation": {
     "name": "pendel_animation",
     "points": 7,
     "suites": [
      {
       "cases": [],
       "scored": true,
       "setup": "",
       "teardown": "",
       "type": "doctest"
      }
     ]
    },
    "pendel_plots_methods": {
     "name": "pendel_plots_methods",
     "points": 10,
     "suites": [
      {
       "cases": [],
       "scored": true,
       "setup": "",
       "teardown": "",
       "type": "doctest"
      }
     ]
    },
    "pendel_plots_position_angle": {
     "name": "pendel_plots_position_angle",
     "points": 10,
     "suites": [
      {
       "cases": [],
       "scored": true,
       "setup": "",
       "teardown": "",
       "type": "doctest"
      }
     ]
    },
    "pendel_scipy": {
     "name": "pendel_scipy",
     "points": 10,
     "suites": [
      {
       "cases": [],
       "scored": true,
       "setup": "",
       "teardown": "",
       "type": "doctest"
      }
     ]
    },
    "pendel_scipy_methods": {
     "name": "pendel_scipy_methods",
     "points": 3,
     "suites": [
      {
       "cases": [],
       "scored": true,
       "setup": "",
       "teardown": "",
       "type": "doctest"
      }
     ]
    },
    "performance": {
     "name": "performance",
     "points": 15,
     "suites": [
      {
       "cases": [],
       "scored": true,
       "setup": "",
       "teardown": "",
       "type": "doctest"
      }
     ]
    },
    "performance_mit_vis": {
     "name": "performance_mit_vis",
     "points": 15,
     "suites": [
      {
       "cases": [],
       "scored": true,
       "setup": "",
       "teardown": "",
       "type": "doctest"
      }
     ]
    },
    "timestep_balls": {
     "name": "timestep_balls",
     "points": 10,
     "suites": [
      {
       "cases": [],
       "scored": true,
       "setup": "",
       "teardown": "",
       "type": "doctest"
      }
     ]
    }
   }
  }
 },
 "nbformat": 4,
 "nbformat_minor": 4
}
