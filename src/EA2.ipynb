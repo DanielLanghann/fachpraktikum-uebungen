{
 "cells": [
  {
   "cell_type": "markdown",
   "metadata": {},
   "source": [
    "# Einsendeaufgabe 2: Springende Bälle und Pendel (100 Punkte)"
   ]
  },
  {
   "cell_type": "markdown",
   "metadata": {},
   "source": [
    "## Springende Bälle (60 Punkte)\n",
    "In dieser Übung wollen wir einen NumPy Code entwickeln, den wir in der nächsten Übung optimieren. \n",
    "\n",
    "Wir wollen Bälle simulieren, die in einer Box herumspringen. Die Box sei von $x=[0,xmax]$ und $y=[0,ymax]$ definiert. Jede Kugel hat eine Koordinate $c=[x,y]$ und eine Geschwindigkeit $v=[v_x,v_y]$. In jedem Zeitschritt $\\Delta t$ (dt) legt die Kugel eine gewisse Strecke zurück.\n",
    "\n",
    "Es gilt nach den Regeln der Physik\n",
    "\n",
    "$c[t+\\Delta t]=c[t]+\\Delta t*v(t)$. \n",
    "\n",
    " \n",
    "Zusätzlich wirkt in y-Richtung die Schwerkraft, welche die Geschwindigkeit verändert:\n",
    " \n",
    "$v[t+\\Delta t]=v[t]+\\Delta t*g$. \n",
    "\n",
    "\n",
    "Wenn ein Ball an die Wand stößt, (also z.B. $c_0<=0$ oder $c_0>=xmax$ wird er reflektiert, das heißt in erster Näherung $v_0 = -1 * v_0$ für die Geschwindigkeit in dieser Richtung). Damit der Ball in diesem Fall nicht außerhalb der Box landet, müssen Sie berechnen, wie der Ball nun fliegt.\n",
    "\n",
    "Der Ball stoppt nicht an der Wand, wenn er dort ankommt, sondern  fliegt noch ein Stück in die reflektierte Richtung. Um dies zu beachten, sollten wir die Rechnung noch etwas anpassen. \n",
    "\n",
    "Als Beispiel nehmen wir an, dass der Ball über $x=0$ hinaus fliegt.  Wenn wir also $c$ ausrechnen, gilt:  $c_x = c_x + v_x*\\Delta t < 0 $.\n",
    "\n",
    "Damit können wir ausrechnen, wie lange ($\\Delta t_2$) unser Ball in die reflektierte Richtung geflogen ist: \n",
    "\n",
    "$abs(c_x)=\\Delta t_2 * v_x$\n",
    "\n",
    "also gilt:   \n",
    " \n",
    "$\\Delta t_2= \\frac{abs(c_x)}{v_x}$. \n",
    "\n",
    "Für diese Zeit fliegt der Ball in die andere Richtung. Es gilt also \n",
    "\n",
    "$c_x = \\Delta t_2 * (-v_x) = abs(c_x)$"
   ]
  },
  {
   "cell_type": "markdown",
   "metadata": {
    "deletable": false,
    "editable": false
   },
   "source": [
    "<!-- BEGIN QUESTION -->\n",
    "\n",
    "**Aufgabe:** Implementieren Sie die Funktion `timestep`, welche *einen* Zeitschritt für *einen Ball* simuliert. \n",
    "\n",
    "**Hinweis**:\n",
    "- Die Entscheidungen, die Sie hier treffen, haben großen Einfluss auf die Performance. Es ist sehr wichtig, geeignete Kontroll- und Datenstrukturen zu wählen, um Overhead durch zu viele Objekte oder unnötige Kopien zu vermeiden.\n",
    "- Wir haben hier eine schrittweise Simulation, dabei ist die Größe der Zeitschritte entscheidend, d.h. der Ball sollte in einem Zeitschritt nicht zu viel Strecke zurück gelegt haben. Daher sollte gelten: $\\Delta_t \\ll v$. Außerdem soll der Ball sich auch etwas bewegen können, daher muss $xmax,ymax \\gg v$ sein.\n",
    "\n",
    "_Points:_ 5"
   ]
  },
  {
   "cell_type": "code",
   "execution_count": null,
   "metadata": {
    "nbgrader": {
     "grade": false,
     "grade_id": "cell-e057f915b262f353",
     "locked": false,
     "schema_version": 3,
     "solution": true,
     "task": false
    },
    "tags": []
   },
   "outputs": [],
   "source": [
    "def timestep(c, v, dt, g, xmax, ymax):\n",
    "    \"\"\"\n",
    "    Simulate a timestep for a single ball.\n",
    "\n",
    "    Parameters:\n",
    "        c: ...\n",
    "        v: ...\n",
    "        dt: The duration of a single timestep.\n",
    "        g: Gravitation\n",
    "        xmax: Box limit in x direction\n",
    "        ymax: Box limit in y direction\n",
    "    \"\"\"\n",
    "    ..."
   ]
  },
  {
   "cell_type": "markdown",
   "metadata": {
    "deletable": false,
    "editable": false
   },
   "source": [
    "<!-- END QUESTION -->\n",
    "\n",
    "<!-- BEGIN QUESTION -->\n",
    "\n",
    "**Aufgabe:** Animieren Sie die Bewegung des Balls. Der Ball sollte mit der Zeit an Höhe verlieren (durch die Schwerkraft).\n",
    "\n",
    "Hinweis: Simulation und Visualisierung müssen getrennt sein (für die nächste Aufgabe).\n",
    "\n",
    "_Points:_ 5"
   ]
  },
  {
   "cell_type": "code",
   "execution_count": null,
   "metadata": {
    "nbgrader": {
     "grade": false,
     "grade_id": "cell-c4d15f92b42ff671",
     "locked": false,
     "schema_version": 3,
     "solution": true,
     "task": false
    },
    "tags": []
   },
   "outputs": [],
   "source": [
    "import numpy as np\n",
    "\n",
    "# Anfangsbedingungen (Vorschlag)\n",
    "dt = 0.1\n",
    "g = np.array([0, -9.81], dtype=np.float64)\n",
    "xmax = 100\n",
    "ymax = 100\n",
    "steps = 100\n",
    "# Startposition: x=500, y=500.\n",
    "# ...\n",
    "# Startgeschwindigkeit: v_x=20, v_y=0\n",
    "# ...\n",
    "\n",
    "\n",
    "..."
   ]
  },
  {
   "cell_type": "markdown",
   "metadata": {
    "deletable": false,
    "editable": false
   },
   "source": [
    "<!-- END QUESTION -->\n",
    "\n",
    "<!-- BEGIN QUESTION -->\n",
    "\n",
    "**Aufgabe:** Ein Ball ist jedoch langweilig, daher wollen wir als nächstes mehrere Bälle simulieren.  \n",
    "Schreiben Sie eine neue Funktion, `timestep_balls`, welche einen Array mit Koordinaten (shape=(N,2)) und einen Array mit Geschwindigkeiten (shape=(N,2)) übergeben bekommt und für alle Bälle einen Zeitschritt berechnet. \n",
    "\n",
    "Achten Sie darauf, dass der Code performant ist und verwenden Sie NumPys interne Vektorisierung mit der Slicing Syntax.  Für den Augenblick ignorieren wir, dass die Bälle zusammenstoßen können. \n",
    "\n",
    "Hinweis: \n",
    "- Das Array `c` sollte diese Form haben: \n",
    "\n",
    "$c = \\left[\\begin{array}{rr}                                 \n",
    "x_0 & y_0 \\\\ \n",
    "x_1 & y_1 \\\\ \n",
    "x_2 & y_2 \\\\ \n",
    "\\dots \\\\ \n",
    "x_{n-1} & y_{n-1} \\\\ \n",
    "\\end{array}\\right]$ \n",
    "\n",
    "- Das Array `v` sollte diese Form haben: \n",
    "\n",
    "$v = \\left[\\begin{array}{rr}                                 \n",
    "v^x_0 & v^y_0 \\\\ \n",
    "v^x_1 & v^y_1 \\\\ \n",
    "v^x_2 & v^y_2 \\\\ \n",
    "\\dots\\\\ \n",
    "v^x_{n-1} & v^y_{n-1} \\\\ \n",
    "\\end{array}\\right]$ \n",
    "\n",
    "_Points:_ 10"
   ]
  },
  {
   "cell_type": "code",
   "execution_count": null,
   "metadata": {
    "nbgrader": {
     "grade": false,
     "grade_id": "cell-b2bcc018335dbe0d",
     "locked": false,
     "schema_version": 3,
     "solution": true,
     "task": false
    },
    "tags": []
   },
   "outputs": [],
   "source": [
    "def timestep_balls(c, v, dt, g, xmax, ymax):\n",
    "    \"\"\"\n",
    "    Simulate a timestep for multiple balls.\n",
    "\n",
    "    Parameters:\n",
    "        c: ...\n",
    "        v: ...\n",
    "        dt: The duration of a single timestep.\n",
    "        g: Gravitation\n",
    "        xmax: Box limit in x direction\n",
    "        ymax: Box limit in y direction\n",
    "    \"\"\"\n",
    "    ..."
   ]
  },
  {
   "cell_type": "markdown",
   "metadata": {
    "deletable": false,
    "editable": false
   },
   "source": [
    "<!-- END QUESTION -->\n",
    "\n",
    "<!-- BEGIN QUESTION -->\n",
    "\n",
    "**Aufgabe:** Animieren Sie die Bewegung der Bälle.\n",
    "\n",
    "Tipp: Trennen Sie Simulation und Visualisierung.\n",
    "\n",
    "_Points:_ 10"
   ]
  },
  {
   "cell_type": "code",
   "execution_count": null,
   "metadata": {
    "nbgrader": {
     "grade": false,
     "grade_id": "cell-3bf02c0001226c40",
     "locked": false,
     "schema_version": 3,
     "solution": true,
     "task": false
    },
    "tags": []
   },
   "outputs": [],
   "source": [
    "import numpy as np\n",
    "\n",
    "# Anfangsbedingungen (Vorschlag)\n",
    "dt = 1\n",
    "g = np.array([0, -9.81], dtype=np.float64)\n",
    "xmax = 1000\n",
    "ymax = 1000\n",
    "steps = 250\n",
    "\n",
    "# Anzahl Bälle\n",
    "N = 10\n",
    "rng = np.random.default_rng(seed=123)\n",
    "# Startpositionen\n",
    "c = xmax * rng.random((N, 2))\n",
    "# Startgeschwindigkeiten\n",
    "v = 10 * rng.random((N, 2))\n",
    "\n",
    "..."
   ]
  },
  {
   "cell_type": "markdown",
   "metadata": {
    "deletable": false,
    "editable": false
   },
   "source": [
    "<!-- END QUESTION -->\n",
    "\n",
    "## Leistungsanalyse ohne Visualisierung"
   ]
  },
  {
   "cell_type": "markdown",
   "metadata": {
    "deletable": false,
    "editable": false
   },
   "source": [
    "<!-- BEGIN QUESTION -->\n",
    "\n",
    "**Aufgabe:** Analysieren Sie zunächst die Leistung der Ball-Simulation ohne Visualisierung mit Scalene!\n",
    "Simulieren Sie dazu 100 Bälle für 100 Zeitschritte und verwenden Sie eine Abtastfrequenz von $0.0001$.\n",
    "\n",
    "*Hinweis:* Wir haben die Initialisierungsfunktion aus dem Profiling entfernt, da sie ansonsten zu dominant wäre.\n",
    "Wenn Sie den Code richtig optimiert haben, sollte die Funktion zu über 95% im nativen Modus ausgeführt werden.\n",
    "\n",
    "_Points:_ 15"
   ]
  },
  {
   "cell_type": "code",
   "execution_count": null,
   "metadata": {
    "deletable": false,
    "editable": false
   },
   "outputs": [],
   "source": [
    "%load_ext scalene"
   ]
  },
  {
   "cell_type": "code",
   "execution_count": null,
   "metadata": {
    "deletable": false,
    "editable": false
   },
   "outputs": [],
   "source": [
    "# Anfangsbedingungen (Vorschlag)\n",
    "dt = 1\n",
    "g = np.array([0, -9.81], dtype=np.float64)\n",
    "xmax = 1000\n",
    "ymax = 1000\n",
    "steps = 1000\n",
    "\n",
    "# Anzahl Bälle\n",
    "N = 100\n",
    "rng = np.random.default_rng(seed=123)\n",
    "# Startpositionen\n",
    "c = xmax * rng.random((N, 2))\n",
    "# Startgeschwindigkeiten\n",
    "v = 10 * rng.random((N, 2))"
   ]
  },
  {
   "cell_type": "code",
   "execution_count": null,
   "metadata": {
    "tags": []
   },
   "outputs": [],
   "source": [
    "%%scalene --cpu-sampling-rate 0.0001\n",
    "..."
   ]
  },
  {
   "cell_type": "markdown",
   "metadata": {
    "deletable": false,
    "editable": false
   },
   "source": [
    "<!-- END QUESTION -->\n",
    "\n",
    "## Leistungsanalyse mit Visualisierung"
   ]
  },
  {
   "cell_type": "markdown",
   "metadata": {
    "deletable": false,
    "editable": false
   },
   "source": [
    "<!-- BEGIN QUESTION -->\n",
    "\n",
    "**Aufgabe:** Die Visualisierung erfordert, dass die Ergebnisse nach jeder Iteration gespeichert werden. Analysieren Sie mit Hilfe von Scalene, wie sich das auf die Performance auswirkt. \n",
    "\n",
    "- Wie viel der gesamten Laufzeit kostet dieses Kopieren der Ergebnisse?\n",
    "- Wie lässt sich das verbessern?\n",
    "\n",
    "_Points:_ 15"
   ]
  },
  {
   "cell_type": "markdown",
   "metadata": {},
   "source": [
    "_Type your answer here, replacing this text._"
   ]
  },
  {
   "cell_type": "code",
   "execution_count": null,
   "metadata": {
    "tags": []
   },
   "outputs": [],
   "source": [
    "%%scalene --cpu-sampling-rate 0.001\n",
    "..."
   ]
  },
  {
   "cell_type": "markdown",
   "metadata": {
    "deletable": false,
    "editable": false
   },
   "source": [
    "<!-- END QUESTION -->\n",
    "\n",
    "## Einfaches Pendel (40 Punkte)\n",
    "\n",
    "Die Bewegung eines einfachen Pendels kann man mit der Gleichung\n",
    "\n",
    "$\\theta^{''}(t) +\\frac{b}{m}\\theta^{'}(t) +\\frac{g}{L}\\theta(t) = 0$ \n",
    "\n",
    "beschrieben, wobei gilt:\n",
    "\n",
    "- $\\theta$ : Ausrichtungs-Wingel\n",
    "- $b$ : Dämpfung (z.b. durch Luftwiderstand)\n",
    "- $m$ : Masse des Pendel-Körpers\n",
    "- $g$ : Erdbeschleunigung \n",
    "- $L$ : Länge des Pendels\n",
    "- $\\theta^{'}$: Winkel-Geschwindigkeit\n",
    "- $\\theta^{''}$: Winkel-Beschleunigung\n",
    "\n",
    "Die Ausrichtungen x, y werden mit Hilfe von $\\theta$ berechnet:\n",
    "\n",
    "$ x = L * sin(\\theta) $\n",
    "\n",
    "$ y = -L * cos(\\theta) $\n",
    "\n",
    "Der Ursprung des Pendels liegt bei (0,0).\n",
    "\n",
    "Das Pendel sei Anfangs zu $\\frac{\\pi}{3}$ ausgerichtet und hat eine Gechwindigkeit von 0. "
   ]
  },
  {
   "cell_type": "markdown",
   "metadata": {
    "deletable": false,
    "editable": false
   },
   "source": [
    "<!-- BEGIN QUESTION -->\n",
    "\n",
    "**Aufgabe:** Berechnen Sie die Bewegung des Pendels für $t=[0,...,15]$ für 20000 Zeitschritte. Verwenden Sie die SciPy funktion `integrate.solve_ivp`.\n",
    "\n",
    "_Points:_ 10"
   ]
  },
  {
   "cell_type": "code",
   "execution_count": 5,
   "metadata": {
    "nbgrader": {
     "grade": false,
     "grade_id": "cell-421f92ca1935ec97",
     "locked": false,
     "schema_version": 3,
     "solution": true,
     "task": false
    },
    "tags": []
   },
   "outputs": [
    {
     "ename": "NameError",
     "evalue": "name 'np' is not defined",
     "output_type": "error",
     "traceback": [
      "\u001b[0;31m---------------------------------------------------------------------------\u001b[0m",
      "\u001b[0;31mNameError\u001b[0m                                 Traceback (most recent call last)",
      "Cell \u001b[0;32mIn[5], line 8\u001b[0m\n\u001b[1;32m      6\u001b[0m steps \u001b[38;5;241m=\u001b[39m \u001b[38;5;241m20000\u001b[39m\n\u001b[1;32m      7\u001b[0m T \u001b[38;5;241m=\u001b[39m \u001b[38;5;241m15\u001b[39m\n\u001b[0;32m----> 8\u001b[0m theta0 \u001b[38;5;241m=\u001b[39m \u001b[43mnp\u001b[49m\u001b[38;5;241m.\u001b[39mpi\u001b[38;5;241m/\u001b[39m\u001b[38;5;241m3\u001b[39m \n\u001b[1;32m      9\u001b[0m omega0 \u001b[38;5;241m=\u001b[39m \u001b[38;5;241m0\u001b[39m\n\u001b[1;32m     11\u001b[0m \u001b[38;5;28;01mimport\u001b[39;00m \u001b[38;5;21;01mnumpy\u001b[39;00m \u001b[38;5;28;01mas\u001b[39;00m \u001b[38;5;21;01mnp\u001b[39;00m \n",
      "\u001b[0;31mNameError\u001b[0m: name 'np' is not defined"
     ]
    }
   ],
   "source": [
    "import numpy as np \n",
    "from scipy.integrate import solve_ivp \n",
    "from numba import njit\n",
    "\n",
    "# Anfangsbedingungen\n",
    "L = 1\n",
    "m = 1\n",
    "b = 0.5\n",
    "g = 9.81\n",
    "steps = 20000\n",
    "T = 15\n",
    "theta0 = np.pi/3 \n",
    "omega0 = 0\n",
    "\n",
    "@njit \n",
    "def pendulum(t, y): \n",
    "    theta, omega = y \n",
    "    theta_dot = omega \n",
    "    omega_dot = -(b/m)*omega - (g/L)*np.sin(theta) \n",
    "return [theta_dot, omega_dot]\n",
    "\n",
    "#Initial conditions\n",
    "y0 = [theta0, omega0]\n",
    "\n",
    "#Time span\n",
    "t_span = [0, 15]\n",
    "\n",
    "#Time points\n",
    "t = np.linspace(t_span[0], t_span[1], steps)\n",
    "\n",
    "#Solve the differential equation\n",
    "sol = solve_ivp(pendulum, t_span, y0, t_eval=t)\n",
    "\n",
    "#Calculate x and y positions\n",
    "x = Lnp.sin(sol.y[0]) \n",
    "y = -Lnp.cos(sol.y[0])\n",
    "\n",
    "#Print the results\n",
    "for i in range(len(t)): print(f\"t = {t[i]}, x = {x[i]}, y = {y[i]}\")"
   ]
  },
  {
   "cell_type": "markdown",
   "metadata": {
    "deletable": false,
    "editable": false
   },
   "source": [
    "<!-- END QUESTION -->\n",
    "\n",
    "**Aufgabe:** Die Funktion ` scipy.integrate.solve_ivp` bietet verschiedene Methoden zur Lösung an [[1]](https://docs.scipy.org/doc/scipy/reference/generated/scipy.integrate.solve_ivp.html). Vergleichen Sie die Performance für die Methoden, die keine weiteren Eingaben erwarten (RK45, RK23 und DOP853). \n",
    "\n",
    "_Points:_ 3"
   ]
  },
  {
   "cell_type": "code",
   "execution_count": null,
   "metadata": {
    "tags": []
   },
   "outputs": [],
   "source": [
    "rk45_timeit = ...\n",
    "rk23_timeit = ...\n",
    "dop853_timeit = ..."
   ]
  },
  {
   "cell_type": "markdown",
   "metadata": {
    "deletable": false,
    "editable": false
   },
   "source": [
    "<!-- BEGIN QUESTION -->\n",
    "\n",
    "**Aufgabe:** Stellen Sie die x- und y-Position des Pendels über die Zeit in einem Diagramm dar. \n",
    "Stellen Sie in einem zweiten Diagramm den Winkel über die Zeit dar.\n",
    "\n",
    "Hinweis:\n",
    "- Verwenden Sie die Lösung für die `RK45` Methode. \n",
    "- Verwenden Sie Liniendiagramme.\n",
    "\n",
    "_Points:_ 10"
   ]
  },
  {
   "cell_type": "code",
   "execution_count": null,
   "metadata": {
    "nbgrader": {
     "grade": false,
     "grade_id": "cell-acdd71b2e8d9b4fc",
     "locked": false,
     "schema_version": 3,
     "solution": true,
     "task": false
    },
    "tags": []
   },
   "outputs": [],
   "source": [
    "..."
   ]
  },
  {
   "cell_type": "markdown",
   "metadata": {
    "deletable": false,
    "editable": false
   },
   "source": [
    "<!-- END QUESTION -->\n",
    "\n",
    "<!-- BEGIN QUESTION -->\n",
    "\n",
    "**Aufgabe:** Stellen Sie den Unterschied zwischen der 'RK45' Methode und der 'RK23' Methode dar. \n",
    "\n",
    "Erstellen Sie vier Liniendiagramme:\n",
    "- x für beide Methoden über der Zeit\n",
    "- y für beide Methoden über der Zeit\n",
    "- Absoluter Unterschied von x zwischen beiden Methoden über der Zeit\n",
    "- Absoluter Unterschied von y zwischen beiden Methoden über der Zeit\n",
    "\n",
    "_Points:_ 10"
   ]
  },
  {
   "cell_type": "code",
   "execution_count": null,
   "metadata": {
    "tags": []
   },
   "outputs": [],
   "source": [
    "..."
   ]
  },
  {
   "cell_type": "markdown",
   "metadata": {
    "deletable": false,
    "editable": false
   },
   "source": [
    "<!-- END QUESTION -->\n",
    "\n",
    "<!-- BEGIN QUESTION -->\n",
    "\n",
    "**Aufgabe:** Animieren Sie das Pendel, sodass es für mindestens eine Periodendauer pendelt.\n",
    "\n",
    "Hinweis:\n",
    "- Animieren Sie nicht alle Zeitschritte, sondern z.B. nur jeden 100. Zeitschritt.\n",
    "- Damit die Animation schneller erstellt wird, können Sie z.B. die zweite Hälfte der Daten verwerfen.\n",
    "- Tipp für \"hvplot\": aus `import holoviews as hv` ist [hv.Path() hilfreich](https://holoviews.org/reference/elements/bokeh/Path.html)\n",
    "\n",
    "_Points:_ 7"
   ]
  },
  {
   "cell_type": "code",
   "execution_count": null,
   "metadata": {
    "nbgrader": {
     "grade": false,
     "grade_id": "cell-79a820a2411cd873",
     "locked": false,
     "schema_version": 3,
     "solution": true,
     "task": false
    },
    "tags": []
   },
   "outputs": [],
   "source": [
    "..."
   ]
  },
  {
   "cell_type": "markdown",
   "metadata": {
    "deletable": false,
    "editable": false
   },
   "source": [
    "<!-- END QUESTION -->\n",
    "\n",
    "Führen Sie alle Zellen im Notebook aus und speichern Sie es.  \n",
    "Danach können Sie mit der folgenden Zelle eine HTML-Datei erstellen.  \n",
    "Eine mögliche `UserWarning` können Sie ignorieren.  \n",
    "Bitte geben Sie das Notebook als `.ipynb` und `.html` Datei ab."
   ]
  },
  {
   "cell_type": "code",
   "execution_count": null,
   "metadata": {},
   "outputs": [],
   "source": [
    "#!jupyter nbconvert --to html EA2.ipynb"
   ]
  }
 ],
 "metadata": {
  "kernelspec": {
   "display_name": "Python 3 (ipykernel)",
   "language": "python",
   "name": "python3"
  },
  "language_info": {
   "codemirror_mode": {
    "name": "ipython",
    "version": 3
   },
   "file_extension": ".py",
   "mimetype": "text/x-python",
   "name": "python",
   "nbconvert_exporter": "python",
   "pygments_lexer": "ipython3",
   "version": "3.11.9"
  },
  "otter": {
   "OK_FORMAT": true,
   "assignment_name": "EA2",
   "tests": {
    "animation_multiple": {
     "name": "animation_multiple",
     "points": 10,
     "suites": [
      {
       "cases": [],
       "scored": true,
       "setup": "",
       "teardown": "",
       "type": "doctest"
      }
     ]
    },
    "animation_single": {
     "name": "animation_single",
     "points": 5,
     "suites": [
      {
       "cases": [],
       "scored": true,
       "setup": "",
       "teardown": "",
       "type": "doctest"
      }
     ]
    },
    "ball_timestep": {
     "name": "ball_timestep",
     "points": 5,
     "suites": [
      {
       "cases": [],
       "scored": true,
       "setup": "",
       "teardown": "",
       "type": "doctest"
      }
     ]
    },
    "pendel_animation": {
     "name": "pendel_animation",
     "points": 7,
     "suites": [
      {
       "cases": [],
       "scored": true,
       "setup": "",
       "teardown": "",
       "type": "doctest"
      }
     ]
    },
    "pendel_plots_methods": {
     "name": "pendel_plots_methods",
     "points": 10,
     "suites": [
      {
       "cases": [],
       "scored": true,
       "setup": "",
       "teardown": "",
       "type": "doctest"
      }
     ]
    },
    "pendel_plots_position_angle": {
     "name": "pendel_plots_position_angle",
     "points": 10,
     "suites": [
      {
       "cases": [],
       "scored": true,
       "setup": "",
       "teardown": "",
       "type": "doctest"
      }
     ]
    },
    "pendel_scipy": {
     "name": "pendel_scipy",
     "points": 10,
     "suites": [
      {
       "cases": [],
       "scored": true,
       "setup": "",
       "teardown": "",
       "type": "doctest"
      }
     ]
    },
    "pendel_scipy_methods": {
     "name": "pendel_scipy_methods",
     "points": 3,
     "suites": [
      {
       "cases": [],
       "scored": true,
       "setup": "",
       "teardown": "",
       "type": "doctest"
      }
     ]
    },
    "performance": {
     "name": "performance",
     "points": 15,
     "suites": [
      {
       "cases": [],
       "scored": true,
       "setup": "",
       "teardown": "",
       "type": "doctest"
      }
     ]
    },
    "performance_mit_vis": {
     "name": "performance_mit_vis",
     "points": 15,
     "suites": [
      {
       "cases": [],
       "scored": true,
       "setup": "",
       "teardown": "",
       "type": "doctest"
      }
     ]
    },
    "timestep_balls": {
     "name": "timestep_balls",
     "points": 10,
     "suites": [
      {
       "cases": [],
       "scored": true,
       "setup": "",
       "teardown": "",
       "type": "doctest"
      }
     ]
    }
   }
  }
 },
 "nbformat": 4,
 "nbformat_minor": 4
}
